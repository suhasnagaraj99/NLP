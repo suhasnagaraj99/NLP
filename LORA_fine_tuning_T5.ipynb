{
 "cells": [
  {
   "cell_type": "code",
   "execution_count": 1,
   "metadata": {
    "colab": {
     "base_uri": "https://localhost:8080/"
    },
    "id": "yTbnkp_zUrmc",
    "outputId": "51ab553d-48ab-4efb-e392-d42fc5ea998f"
   },
   "outputs": [
    {
     "name": "stdout",
     "output_type": "stream",
     "text": [
      "Fri Dec 13 13:16:59 2024       \n",
      "+-----------------------------------------------------------------------------------------+\n",
      "| NVIDIA-SMI 566.14                 Driver Version: 566.14         CUDA Version: 12.7     |\n",
      "|-----------------------------------------+------------------------+----------------------+\n",
      "| GPU  Name                  Driver-Model | Bus-Id          Disp.A | Volatile Uncorr. ECC |\n",
      "| Fan  Temp   Perf          Pwr:Usage/Cap |           Memory-Usage | GPU-Util  Compute M. |\n",
      "|                                         |                        |               MIG M. |\n",
      "|=========================================+========================+======================|\n",
      "|   0  NVIDIA GeForce RTX 4070 ...  WDDM  |   00000000:01:00.0  On |                  N/A |\n",
      "| N/A   60C    P5              7W /  110W |     510MiB /   8188MiB |     32%      Default |\n",
      "|                                         |                        |                  N/A |\n",
      "+-----------------------------------------+------------------------+----------------------+\n",
      "                                                                                         \n",
      "+-----------------------------------------------------------------------------------------+\n",
      "| Processes:                                                                              |\n",
      "|  GPU   GI   CI        PID   Type   Process name                              GPU Memory |\n",
      "|        ID   ID                                                               Usage      |\n",
      "|=========================================================================================|\n",
      "|    0   N/A  N/A     12676    C+G   C:\\Windows\\explorer.exe                     N/A      |\n",
      "+-----------------------------------------------------------------------------------------+\n"
     ]
    }
   ],
   "source": [
    "!nvidia-smi"
   ]
  },
  {
   "cell_type": "code",
   "execution_count": 2,
   "metadata": {
    "id": "7U0CiExl8ff6"
   },
   "outputs": [],
   "source": [
    "import os\n",
    "os.environ[\"WANDB_MODE\"] = \"disabled\""
   ]
  },
  {
   "cell_type": "code",
   "execution_count": 3,
   "metadata": {
    "colab": {
     "base_uri": "https://localhost:8080/"
    },
    "id": "VdGG86vbnkdZ",
    "outputId": "18053f79-c3ae-4e52-ab8e-da1349c08faa"
   },
   "outputs": [],
   "source": [
    "from transformers import AutoTokenizer, AutoModelForSeq2SeqLM, DataCollatorForSeq2Seq, Seq2SeqTrainingArguments, Seq2SeqTrainer\n",
    "import torch\n",
    "import numpy as np\n",
    "from torch.utils.data import Dataset, DataLoader\n",
    "from tqdm import tqdm"
   ]
  },
  {
   "cell_type": "code",
   "execution_count": 4,
   "metadata": {
    "id": "8iqM4VL6dBQh"
   },
   "outputs": [],
   "source": [
    "from torch.utils.data import Dataset\n",
    "import pandas as pd\n",
    "\n",
    "class TextToTextDataset(Dataset):\n",
    "    def __init__(self, csv_file, tokenizer):\n",
    "        self.data = pd.read_csv(csv_file)\n",
    "        self.tokenizer = tokenizer\n",
    "\n",
    "    def __len__(self):\n",
    "        return len(self.data)\n",
    "\n",
    "    def __getitem__(self, idx):\n",
    "        input_text = self.data.iloc[idx]['Input_text']\n",
    "        output_text = self.data.iloc[idx]['Output_text']\n",
    "\n",
    "        input_tokens = self.tokenizer(input_text, truncation=True, padding='max_length', max_length=128, return_tensors='pt')\n",
    "        output_tokens = self.tokenizer(output_text, truncation=True, padding='max_length', max_length=128, return_tensors='pt')\n",
    "\n",
    "        return {\n",
    "            'input_ids': input_tokens['input_ids'].squeeze(),\n",
    "            'attention_mask': input_tokens['attention_mask'].squeeze(),\n",
    "            'labels': output_tokens['input_ids'].squeeze()\n",
    "        }"
   ]
  },
  {
   "cell_type": "code",
   "execution_count": 5,
   "metadata": {
    "id": "85Z75JCVXNZ4"
   },
   "outputs": [],
   "source": [
    "from peft import get_peft_model, LoraConfig, TaskType\n",
    "\n",
    "lora_config = LoraConfig(\n",
    "    task_type=TaskType.SEQ_2_SEQ_LM,  # Type of task (e.g., Seq2Seq)\n",
    "    inference_mode=False,            # Enables training mode\n",
    "    r=6,                             # Low-rank parameter (smaller r reduces memory usage)\n",
    "    lora_alpha=32,                   # Scaling factor\n",
    "    lora_dropout=0.1                 # Dropout to prevent overfitting\n",
    ")\n"
   ]
  },
  {
   "cell_type": "code",
   "execution_count": 6,
   "metadata": {
    "colab": {
     "base_uri": "https://localhost:8080/",
     "height": 313,
     "referenced_widgets": [
      "84fe9658d51346db84696248ec23e929",
      "035df2920a0d45f581c58e3380258e39",
      "16faf414c2f94938b3187ee09093ce5c",
      "ba8411e888fe4f12969e0e6282b47319",
      "4ad67877bec245beb843e6e97cd165c8",
      "8c83f96447ed4201a22fdc021b6ab826",
      "453e0ec0003e4bbaaffe8fa368a254ee",
      "af9a1672808f48c5ab444a3d93707860",
      "2082191c5f9c47139da23b1582c0783c",
      "7f86764443fb46ab86de74012551b129",
      "868677f004654e398febdb8924353d15",
      "f852128516f44542b0384d83c669b8e4",
      "7eb24d5002514b95bac99022cf63e7de",
      "f4b3ac043bac4e02bcb05502e9b0cf77",
      "2344b50d1951441895023086ad0d30c8",
      "038a4fc478fa46f3988b144fb34330d3",
      "968c2c2597c04472a9133c30a9407d16",
      "efdf32d718044a289678064d0b4529dc",
      "c2fbb412d0654eedab399f82c45df529",
      "5aa64fdf1c234b6ba2bf7b0ad9cf7b03",
      "72f3ea2de5684683b7823b9a5079a9b2",
      "5b9b6817788a4158a7b3ee3f13babba3",
      "bc2633f452f249d1b09a94520188385d",
      "f77853cd3c0f438fbb64928044bb4c91",
      "ca72f073c21b4e03b7d3bd48e56a23fd",
      "a8a24346f0af479481636af21ed3b7fe",
      "6aa7bf2eec1c475ca9197d659411466c",
      "c91c79517bb84c23858127c252988c9d",
      "7b6b59797bc04377b99484dba8d3a04a",
      "2e2372aa53ee4e6b9c2cbab515edef77",
      "b3ab9705357e4ce988e950eaaa3041a2",
      "861fc17d3e9647c197a72a0b111579dc",
      "bacc9b7bac2d4efb92933d5e53cc84d6",
      "203088326ee945fcb406e40aab83f70c",
      "dfe4368a7d024b96a198ba01d908806e",
      "10f9131b19634ae88a9a72390e0ca43f",
      "42f94f68b10140ed8acb7c2b1c0cd384",
      "77e373f3d23849f384e0c7dcc19444bd",
      "e7b5aa326f704a34849deb4225df1b24",
      "c606c8301a3448daa8a24d3175abc2a5",
      "b577722f19b94fb598c31a169de0082c",
      "1b9abcc2b6764aa9b078ae5504b4ee49",
      "8b4f35bd75b64addbc42b8424230798f",
      "3ed52ec57df84a67b4de6c04c8d94036",
      "4df37b7e231f4e18a31d608f1f028888",
      "0cb001353d07496aae9ec70018e03b44",
      "f9fdc585b2284ec78d6b07f4f6e6a27a",
      "2e02dc2ffadd4b2ca810faba3e94b335",
      "196d912db8ac41b08483e875550b1810",
      "5ca3e1708500490686913637debd7de4",
      "45636727430d45dbb4e487b11c9ef98d",
      "01f9063bbf1048d1ae4bd3af427bad03",
      "93f10cc2ba0743a9bf61c4a3a465c230",
      "9a8b2fef829442ae87e0b299abc24962",
      "25eaa4e3638e4ed093d413ef54db3ad7",
      "f56d1fe67fc3442b9da9dd1bddd2d3c1",
      "edf09cab64ff4a6d8b05afa3b373f30d",
      "cc9cd09e263d40a8b89942edcab5d4f8",
      "fdf28d6d3938459eb108992ac026b5f9",
      "aef8c873d51147979264f7b1ca189d2c",
      "291abc5aea114a789da92c2a010bfeaa",
      "ac0d3700dd4b40638483b52ffff396fc",
      "87025b8a22474c8a91d00068a559e632",
      "3d2a71ffd50f46f8b5bee35c2346beee",
      "6445bbed02094ce7942f3cf824f5dc88",
      "be004f590d9542d7afa1b6266b969ab7"
     ]
    },
    "id": "XTQbAUoqacK7",
    "outputId": "3ccc0c41-71a1-4620-dbe3-d68e095e96e7"
   },
   "outputs": [],
   "source": [
    "from transformers import AutoTokenizer, AutoModelForSeq2SeqLM, Seq2SeqTrainingArguments, Seq2SeqTrainer, DataCollatorForSeq2Seq\n",
    "\n",
    "# Load the tokenizer and model\n",
    "model_checkpoint = \"t5-small\"  # You can use any other seq2seq model like 'bart-base'\n",
    "tokenizer = AutoTokenizer.from_pretrained(model_checkpoint)\n",
    "model = AutoModelForSeq2SeqLM.from_pretrained(model_checkpoint)\n",
    "\n",
    "model = get_peft_model(model, lora_config)"
   ]
  },
  {
   "cell_type": "code",
   "execution_count": 7,
   "metadata": {
    "colab": {
     "base_uri": "https://localhost:8080/"
    },
    "id": "5LSFqdVqfgPx",
    "outputId": "06c03460-279b-4a52-b408-55b626857ec9"
   },
   "outputs": [
    {
     "name": "stdout",
     "output_type": "stream",
     "text": [
      "Total parameters: 60,727,808\n",
      "Trainable parameters: 221,184\n",
      "Percentage of trainable parameters: 0.36%\n"
     ]
    }
   ],
   "source": [
    "def count_parameters(model):\n",
    "    total_params = sum(p.numel() for p in model.parameters())\n",
    "    trainable_params = sum(p.numel() for p in model.parameters() if p.requires_grad)\n",
    "    print(f\"Total parameters: {total_params:,}\")\n",
    "    print(f\"Trainable parameters: {trainable_params:,}\")\n",
    "    print(f\"Percentage of trainable parameters: {100 * trainable_params / total_params:.2f}%\")\n",
    "\n",
    "\n",
    "# LoRA-adapted model\n",
    "count_parameters(model)\n",
    "\n"
   ]
  },
  {
   "cell_type": "code",
   "execution_count": 8,
   "metadata": {
    "colab": {
     "base_uri": "https://localhost:8080/"
    },
    "id": "kQvDLUqwP4RN",
    "outputId": "e8f54467-9437-4081-feda-1228c31bdf4b"
   },
   "outputs": [
    {
     "name": "stdout",
     "output_type": "stream",
     "text": [
      "base_model.model.shared.weight: frozen\n",
      "base_model.model.encoder.block.0.layer.0.SelfAttention.q.base_layer.weight: frozen\n",
      "base_model.model.encoder.block.0.layer.0.SelfAttention.q.lora_A.default.weight: trainable\n",
      "base_model.model.encoder.block.0.layer.0.SelfAttention.q.lora_B.default.weight: trainable\n",
      "base_model.model.encoder.block.0.layer.0.SelfAttention.k.weight: frozen\n",
      "base_model.model.encoder.block.0.layer.0.SelfAttention.v.base_layer.weight: frozen\n",
      "base_model.model.encoder.block.0.layer.0.SelfAttention.v.lora_A.default.weight: trainable\n",
      "base_model.model.encoder.block.0.layer.0.SelfAttention.v.lora_B.default.weight: trainable\n",
      "base_model.model.encoder.block.0.layer.0.SelfAttention.o.weight: frozen\n",
      "base_model.model.encoder.block.0.layer.0.SelfAttention.relative_attention_bias.weight: frozen\n",
      "base_model.model.encoder.block.0.layer.0.layer_norm.weight: frozen\n",
      "base_model.model.encoder.block.0.layer.1.DenseReluDense.wi.weight: frozen\n",
      "base_model.model.encoder.block.0.layer.1.DenseReluDense.wo.weight: frozen\n",
      "base_model.model.encoder.block.0.layer.1.layer_norm.weight: frozen\n",
      "base_model.model.encoder.block.1.layer.0.SelfAttention.q.base_layer.weight: frozen\n",
      "base_model.model.encoder.block.1.layer.0.SelfAttention.q.lora_A.default.weight: trainable\n",
      "base_model.model.encoder.block.1.layer.0.SelfAttention.q.lora_B.default.weight: trainable\n",
      "base_model.model.encoder.block.1.layer.0.SelfAttention.k.weight: frozen\n",
      "base_model.model.encoder.block.1.layer.0.SelfAttention.v.base_layer.weight: frozen\n",
      "base_model.model.encoder.block.1.layer.0.SelfAttention.v.lora_A.default.weight: trainable\n",
      "base_model.model.encoder.block.1.layer.0.SelfAttention.v.lora_B.default.weight: trainable\n",
      "base_model.model.encoder.block.1.layer.0.SelfAttention.o.weight: frozen\n",
      "base_model.model.encoder.block.1.layer.0.layer_norm.weight: frozen\n",
      "base_model.model.encoder.block.1.layer.1.DenseReluDense.wi.weight: frozen\n",
      "base_model.model.encoder.block.1.layer.1.DenseReluDense.wo.weight: frozen\n",
      "base_model.model.encoder.block.1.layer.1.layer_norm.weight: frozen\n",
      "base_model.model.encoder.block.2.layer.0.SelfAttention.q.base_layer.weight: frozen\n",
      "base_model.model.encoder.block.2.layer.0.SelfAttention.q.lora_A.default.weight: trainable\n",
      "base_model.model.encoder.block.2.layer.0.SelfAttention.q.lora_B.default.weight: trainable\n",
      "base_model.model.encoder.block.2.layer.0.SelfAttention.k.weight: frozen\n",
      "base_model.model.encoder.block.2.layer.0.SelfAttention.v.base_layer.weight: frozen\n",
      "base_model.model.encoder.block.2.layer.0.SelfAttention.v.lora_A.default.weight: trainable\n",
      "base_model.model.encoder.block.2.layer.0.SelfAttention.v.lora_B.default.weight: trainable\n",
      "base_model.model.encoder.block.2.layer.0.SelfAttention.o.weight: frozen\n",
      "base_model.model.encoder.block.2.layer.0.layer_norm.weight: frozen\n",
      "base_model.model.encoder.block.2.layer.1.DenseReluDense.wi.weight: frozen\n",
      "base_model.model.encoder.block.2.layer.1.DenseReluDense.wo.weight: frozen\n",
      "base_model.model.encoder.block.2.layer.1.layer_norm.weight: frozen\n",
      "base_model.model.encoder.block.3.layer.0.SelfAttention.q.base_layer.weight: frozen\n",
      "base_model.model.encoder.block.3.layer.0.SelfAttention.q.lora_A.default.weight: trainable\n",
      "base_model.model.encoder.block.3.layer.0.SelfAttention.q.lora_B.default.weight: trainable\n",
      "base_model.model.encoder.block.3.layer.0.SelfAttention.k.weight: frozen\n",
      "base_model.model.encoder.block.3.layer.0.SelfAttention.v.base_layer.weight: frozen\n",
      "base_model.model.encoder.block.3.layer.0.SelfAttention.v.lora_A.default.weight: trainable\n",
      "base_model.model.encoder.block.3.layer.0.SelfAttention.v.lora_B.default.weight: trainable\n",
      "base_model.model.encoder.block.3.layer.0.SelfAttention.o.weight: frozen\n",
      "base_model.model.encoder.block.3.layer.0.layer_norm.weight: frozen\n",
      "base_model.model.encoder.block.3.layer.1.DenseReluDense.wi.weight: frozen\n",
      "base_model.model.encoder.block.3.layer.1.DenseReluDense.wo.weight: frozen\n",
      "base_model.model.encoder.block.3.layer.1.layer_norm.weight: frozen\n",
      "base_model.model.encoder.block.4.layer.0.SelfAttention.q.base_layer.weight: frozen\n",
      "base_model.model.encoder.block.4.layer.0.SelfAttention.q.lora_A.default.weight: trainable\n",
      "base_model.model.encoder.block.4.layer.0.SelfAttention.q.lora_B.default.weight: trainable\n",
      "base_model.model.encoder.block.4.layer.0.SelfAttention.k.weight: frozen\n",
      "base_model.model.encoder.block.4.layer.0.SelfAttention.v.base_layer.weight: frozen\n",
      "base_model.model.encoder.block.4.layer.0.SelfAttention.v.lora_A.default.weight: trainable\n",
      "base_model.model.encoder.block.4.layer.0.SelfAttention.v.lora_B.default.weight: trainable\n",
      "base_model.model.encoder.block.4.layer.0.SelfAttention.o.weight: frozen\n",
      "base_model.model.encoder.block.4.layer.0.layer_norm.weight: frozen\n",
      "base_model.model.encoder.block.4.layer.1.DenseReluDense.wi.weight: frozen\n",
      "base_model.model.encoder.block.4.layer.1.DenseReluDense.wo.weight: frozen\n",
      "base_model.model.encoder.block.4.layer.1.layer_norm.weight: frozen\n",
      "base_model.model.encoder.block.5.layer.0.SelfAttention.q.base_layer.weight: frozen\n",
      "base_model.model.encoder.block.5.layer.0.SelfAttention.q.lora_A.default.weight: trainable\n",
      "base_model.model.encoder.block.5.layer.0.SelfAttention.q.lora_B.default.weight: trainable\n",
      "base_model.model.encoder.block.5.layer.0.SelfAttention.k.weight: frozen\n",
      "base_model.model.encoder.block.5.layer.0.SelfAttention.v.base_layer.weight: frozen\n",
      "base_model.model.encoder.block.5.layer.0.SelfAttention.v.lora_A.default.weight: trainable\n",
      "base_model.model.encoder.block.5.layer.0.SelfAttention.v.lora_B.default.weight: trainable\n",
      "base_model.model.encoder.block.5.layer.0.SelfAttention.o.weight: frozen\n",
      "base_model.model.encoder.block.5.layer.0.layer_norm.weight: frozen\n",
      "base_model.model.encoder.block.5.layer.1.DenseReluDense.wi.weight: frozen\n",
      "base_model.model.encoder.block.5.layer.1.DenseReluDense.wo.weight: frozen\n",
      "base_model.model.encoder.block.5.layer.1.layer_norm.weight: frozen\n",
      "base_model.model.encoder.final_layer_norm.weight: frozen\n",
      "base_model.model.decoder.block.0.layer.0.SelfAttention.q.base_layer.weight: frozen\n",
      "base_model.model.decoder.block.0.layer.0.SelfAttention.q.lora_A.default.weight: trainable\n",
      "base_model.model.decoder.block.0.layer.0.SelfAttention.q.lora_B.default.weight: trainable\n",
      "base_model.model.decoder.block.0.layer.0.SelfAttention.k.weight: frozen\n",
      "base_model.model.decoder.block.0.layer.0.SelfAttention.v.base_layer.weight: frozen\n",
      "base_model.model.decoder.block.0.layer.0.SelfAttention.v.lora_A.default.weight: trainable\n",
      "base_model.model.decoder.block.0.layer.0.SelfAttention.v.lora_B.default.weight: trainable\n",
      "base_model.model.decoder.block.0.layer.0.SelfAttention.o.weight: frozen\n",
      "base_model.model.decoder.block.0.layer.0.SelfAttention.relative_attention_bias.weight: frozen\n",
      "base_model.model.decoder.block.0.layer.0.layer_norm.weight: frozen\n",
      "base_model.model.decoder.block.0.layer.1.EncDecAttention.q.base_layer.weight: frozen\n",
      "base_model.model.decoder.block.0.layer.1.EncDecAttention.q.lora_A.default.weight: trainable\n",
      "base_model.model.decoder.block.0.layer.1.EncDecAttention.q.lora_B.default.weight: trainable\n",
      "base_model.model.decoder.block.0.layer.1.EncDecAttention.k.weight: frozen\n",
      "base_model.model.decoder.block.0.layer.1.EncDecAttention.v.base_layer.weight: frozen\n",
      "base_model.model.decoder.block.0.layer.1.EncDecAttention.v.lora_A.default.weight: trainable\n",
      "base_model.model.decoder.block.0.layer.1.EncDecAttention.v.lora_B.default.weight: trainable\n",
      "base_model.model.decoder.block.0.layer.1.EncDecAttention.o.weight: frozen\n",
      "base_model.model.decoder.block.0.layer.1.layer_norm.weight: frozen\n",
      "base_model.model.decoder.block.0.layer.2.DenseReluDense.wi.weight: frozen\n",
      "base_model.model.decoder.block.0.layer.2.DenseReluDense.wo.weight: frozen\n",
      "base_model.model.decoder.block.0.layer.2.layer_norm.weight: frozen\n",
      "base_model.model.decoder.block.1.layer.0.SelfAttention.q.base_layer.weight: frozen\n",
      "base_model.model.decoder.block.1.layer.0.SelfAttention.q.lora_A.default.weight: trainable\n",
      "base_model.model.decoder.block.1.layer.0.SelfAttention.q.lora_B.default.weight: trainable\n",
      "base_model.model.decoder.block.1.layer.0.SelfAttention.k.weight: frozen\n",
      "base_model.model.decoder.block.1.layer.0.SelfAttention.v.base_layer.weight: frozen\n",
      "base_model.model.decoder.block.1.layer.0.SelfAttention.v.lora_A.default.weight: trainable\n",
      "base_model.model.decoder.block.1.layer.0.SelfAttention.v.lora_B.default.weight: trainable\n",
      "base_model.model.decoder.block.1.layer.0.SelfAttention.o.weight: frozen\n",
      "base_model.model.decoder.block.1.layer.0.layer_norm.weight: frozen\n",
      "base_model.model.decoder.block.1.layer.1.EncDecAttention.q.base_layer.weight: frozen\n",
      "base_model.model.decoder.block.1.layer.1.EncDecAttention.q.lora_A.default.weight: trainable\n",
      "base_model.model.decoder.block.1.layer.1.EncDecAttention.q.lora_B.default.weight: trainable\n",
      "base_model.model.decoder.block.1.layer.1.EncDecAttention.k.weight: frozen\n",
      "base_model.model.decoder.block.1.layer.1.EncDecAttention.v.base_layer.weight: frozen\n",
      "base_model.model.decoder.block.1.layer.1.EncDecAttention.v.lora_A.default.weight: trainable\n",
      "base_model.model.decoder.block.1.layer.1.EncDecAttention.v.lora_B.default.weight: trainable\n",
      "base_model.model.decoder.block.1.layer.1.EncDecAttention.o.weight: frozen\n",
      "base_model.model.decoder.block.1.layer.1.layer_norm.weight: frozen\n",
      "base_model.model.decoder.block.1.layer.2.DenseReluDense.wi.weight: frozen\n",
      "base_model.model.decoder.block.1.layer.2.DenseReluDense.wo.weight: frozen\n",
      "base_model.model.decoder.block.1.layer.2.layer_norm.weight: frozen\n",
      "base_model.model.decoder.block.2.layer.0.SelfAttention.q.base_layer.weight: frozen\n",
      "base_model.model.decoder.block.2.layer.0.SelfAttention.q.lora_A.default.weight: trainable\n",
      "base_model.model.decoder.block.2.layer.0.SelfAttention.q.lora_B.default.weight: trainable\n",
      "base_model.model.decoder.block.2.layer.0.SelfAttention.k.weight: frozen\n",
      "base_model.model.decoder.block.2.layer.0.SelfAttention.v.base_layer.weight: frozen\n",
      "base_model.model.decoder.block.2.layer.0.SelfAttention.v.lora_A.default.weight: trainable\n",
      "base_model.model.decoder.block.2.layer.0.SelfAttention.v.lora_B.default.weight: trainable\n",
      "base_model.model.decoder.block.2.layer.0.SelfAttention.o.weight: frozen\n",
      "base_model.model.decoder.block.2.layer.0.layer_norm.weight: frozen\n",
      "base_model.model.decoder.block.2.layer.1.EncDecAttention.q.base_layer.weight: frozen\n",
      "base_model.model.decoder.block.2.layer.1.EncDecAttention.q.lora_A.default.weight: trainable\n",
      "base_model.model.decoder.block.2.layer.1.EncDecAttention.q.lora_B.default.weight: trainable\n",
      "base_model.model.decoder.block.2.layer.1.EncDecAttention.k.weight: frozen\n",
      "base_model.model.decoder.block.2.layer.1.EncDecAttention.v.base_layer.weight: frozen\n",
      "base_model.model.decoder.block.2.layer.1.EncDecAttention.v.lora_A.default.weight: trainable\n",
      "base_model.model.decoder.block.2.layer.1.EncDecAttention.v.lora_B.default.weight: trainable\n",
      "base_model.model.decoder.block.2.layer.1.EncDecAttention.o.weight: frozen\n",
      "base_model.model.decoder.block.2.layer.1.layer_norm.weight: frozen\n",
      "base_model.model.decoder.block.2.layer.2.DenseReluDense.wi.weight: frozen\n",
      "base_model.model.decoder.block.2.layer.2.DenseReluDense.wo.weight: frozen\n",
      "base_model.model.decoder.block.2.layer.2.layer_norm.weight: frozen\n",
      "base_model.model.decoder.block.3.layer.0.SelfAttention.q.base_layer.weight: frozen\n",
      "base_model.model.decoder.block.3.layer.0.SelfAttention.q.lora_A.default.weight: trainable\n",
      "base_model.model.decoder.block.3.layer.0.SelfAttention.q.lora_B.default.weight: trainable\n",
      "base_model.model.decoder.block.3.layer.0.SelfAttention.k.weight: frozen\n",
      "base_model.model.decoder.block.3.layer.0.SelfAttention.v.base_layer.weight: frozen\n",
      "base_model.model.decoder.block.3.layer.0.SelfAttention.v.lora_A.default.weight: trainable\n",
      "base_model.model.decoder.block.3.layer.0.SelfAttention.v.lora_B.default.weight: trainable\n",
      "base_model.model.decoder.block.3.layer.0.SelfAttention.o.weight: frozen\n",
      "base_model.model.decoder.block.3.layer.0.layer_norm.weight: frozen\n",
      "base_model.model.decoder.block.3.layer.1.EncDecAttention.q.base_layer.weight: frozen\n",
      "base_model.model.decoder.block.3.layer.1.EncDecAttention.q.lora_A.default.weight: trainable\n",
      "base_model.model.decoder.block.3.layer.1.EncDecAttention.q.lora_B.default.weight: trainable\n",
      "base_model.model.decoder.block.3.layer.1.EncDecAttention.k.weight: frozen\n",
      "base_model.model.decoder.block.3.layer.1.EncDecAttention.v.base_layer.weight: frozen\n",
      "base_model.model.decoder.block.3.layer.1.EncDecAttention.v.lora_A.default.weight: trainable\n",
      "base_model.model.decoder.block.3.layer.1.EncDecAttention.v.lora_B.default.weight: trainable\n",
      "base_model.model.decoder.block.3.layer.1.EncDecAttention.o.weight: frozen\n",
      "base_model.model.decoder.block.3.layer.1.layer_norm.weight: frozen\n",
      "base_model.model.decoder.block.3.layer.2.DenseReluDense.wi.weight: frozen\n",
      "base_model.model.decoder.block.3.layer.2.DenseReluDense.wo.weight: frozen\n",
      "base_model.model.decoder.block.3.layer.2.layer_norm.weight: frozen\n",
      "base_model.model.decoder.block.4.layer.0.SelfAttention.q.base_layer.weight: frozen\n",
      "base_model.model.decoder.block.4.layer.0.SelfAttention.q.lora_A.default.weight: trainable\n",
      "base_model.model.decoder.block.4.layer.0.SelfAttention.q.lora_B.default.weight: trainable\n",
      "base_model.model.decoder.block.4.layer.0.SelfAttention.k.weight: frozen\n",
      "base_model.model.decoder.block.4.layer.0.SelfAttention.v.base_layer.weight: frozen\n",
      "base_model.model.decoder.block.4.layer.0.SelfAttention.v.lora_A.default.weight: trainable\n",
      "base_model.model.decoder.block.4.layer.0.SelfAttention.v.lora_B.default.weight: trainable\n",
      "base_model.model.decoder.block.4.layer.0.SelfAttention.o.weight: frozen\n",
      "base_model.model.decoder.block.4.layer.0.layer_norm.weight: frozen\n",
      "base_model.model.decoder.block.4.layer.1.EncDecAttention.q.base_layer.weight: frozen\n",
      "base_model.model.decoder.block.4.layer.1.EncDecAttention.q.lora_A.default.weight: trainable\n",
      "base_model.model.decoder.block.4.layer.1.EncDecAttention.q.lora_B.default.weight: trainable\n",
      "base_model.model.decoder.block.4.layer.1.EncDecAttention.k.weight: frozen\n",
      "base_model.model.decoder.block.4.layer.1.EncDecAttention.v.base_layer.weight: frozen\n",
      "base_model.model.decoder.block.4.layer.1.EncDecAttention.v.lora_A.default.weight: trainable\n",
      "base_model.model.decoder.block.4.layer.1.EncDecAttention.v.lora_B.default.weight: trainable\n",
      "base_model.model.decoder.block.4.layer.1.EncDecAttention.o.weight: frozen\n",
      "base_model.model.decoder.block.4.layer.1.layer_norm.weight: frozen\n",
      "base_model.model.decoder.block.4.layer.2.DenseReluDense.wi.weight: frozen\n",
      "base_model.model.decoder.block.4.layer.2.DenseReluDense.wo.weight: frozen\n",
      "base_model.model.decoder.block.4.layer.2.layer_norm.weight: frozen\n",
      "base_model.model.decoder.block.5.layer.0.SelfAttention.q.base_layer.weight: frozen\n",
      "base_model.model.decoder.block.5.layer.0.SelfAttention.q.lora_A.default.weight: trainable\n",
      "base_model.model.decoder.block.5.layer.0.SelfAttention.q.lora_B.default.weight: trainable\n",
      "base_model.model.decoder.block.5.layer.0.SelfAttention.k.weight: frozen\n",
      "base_model.model.decoder.block.5.layer.0.SelfAttention.v.base_layer.weight: frozen\n",
      "base_model.model.decoder.block.5.layer.0.SelfAttention.v.lora_A.default.weight: trainable\n",
      "base_model.model.decoder.block.5.layer.0.SelfAttention.v.lora_B.default.weight: trainable\n",
      "base_model.model.decoder.block.5.layer.0.SelfAttention.o.weight: frozen\n",
      "base_model.model.decoder.block.5.layer.0.layer_norm.weight: frozen\n",
      "base_model.model.decoder.block.5.layer.1.EncDecAttention.q.base_layer.weight: frozen\n",
      "base_model.model.decoder.block.5.layer.1.EncDecAttention.q.lora_A.default.weight: trainable\n",
      "base_model.model.decoder.block.5.layer.1.EncDecAttention.q.lora_B.default.weight: trainable\n",
      "base_model.model.decoder.block.5.layer.1.EncDecAttention.k.weight: frozen\n",
      "base_model.model.decoder.block.5.layer.1.EncDecAttention.v.base_layer.weight: frozen\n",
      "base_model.model.decoder.block.5.layer.1.EncDecAttention.v.lora_A.default.weight: trainable\n",
      "base_model.model.decoder.block.5.layer.1.EncDecAttention.v.lora_B.default.weight: trainable\n",
      "base_model.model.decoder.block.5.layer.1.EncDecAttention.o.weight: frozen\n",
      "base_model.model.decoder.block.5.layer.1.layer_norm.weight: frozen\n",
      "base_model.model.decoder.block.5.layer.2.DenseReluDense.wi.weight: frozen\n",
      "base_model.model.decoder.block.5.layer.2.DenseReluDense.wo.weight: frozen\n",
      "base_model.model.decoder.block.5.layer.2.layer_norm.weight: frozen\n",
      "base_model.model.decoder.final_layer_norm.weight: frozen\n"
     ]
    }
   ],
   "source": [
    "for name, param in model.named_parameters():\n",
    "    print(f\"{name}: {'trainable' if param.requires_grad else 'frozen'}\")\n"
   ]
  },
  {
   "cell_type": "code",
   "execution_count": 9,
   "metadata": {
    "colab": {
     "base_uri": "https://localhost:8080/"
    },
    "id": "HT6r1lI6Qp-y",
    "outputId": "e261e3d5-5f33-4064-b35f-afe43b95c290"
   },
   "outputs": [
    {
     "name": "stdout",
     "output_type": "stream",
     "text": [
      "Number of trainable parameters in the optimizer: 72\n"
     ]
    }
   ],
   "source": [
    "trainable_params = [p for p in model.parameters() if p.requires_grad]\n",
    "print(f\"Number of trainable parameters in the optimizer: {len(trainable_params)}\")\n"
   ]
  },
  {
   "cell_type": "code",
   "execution_count": 10,
   "metadata": {
    "id": "HK-7BJ74YR0N"
   },
   "outputs": [],
   "source": [
    "# Load your dataset\n",
    "train_dataset = TextToTextDataset(\"./navigation_dataset_Training.csv\", tokenizer)\n",
    "eval_dataset = TextToTextDataset(\"./navigation_dataset_Validation.csv\", tokenizer)\n",
    "\n",
    "# Define the data collator (handles padding and batching)\n",
    "data_collator = DataCollatorForSeq2Seq(tokenizer, model=model)"
   ]
  },
  {
   "cell_type": "code",
   "execution_count": 11,
   "metadata": {
    "colab": {
     "base_uri": "https://localhost:8080/"
    },
    "id": "DdG8aL_ScjXu",
    "outputId": "d39747c7-b0e6-4b4e-a78c-c5937828155a"
   },
   "outputs": [
    {
     "name": "stderr",
     "output_type": "stream",
     "text": [
      "c:\\Users\\jagad\\AppData\\Local\\Programs\\Python\\Python310\\lib\\site-packages\\transformers\\training_args.py:1568: FutureWarning: `evaluation_strategy` is deprecated and will be removed in version 4.46 of 🤗 Transformers. Use `eval_strategy` instead\n",
      "  warnings.warn(\n"
     ]
    }
   ],
   "source": [
    "# Define training arguments\n",
    "training_args = Seq2SeqTrainingArguments(\n",
    "    output_dir=\"./results_lora\",\n",
    "    evaluation_strategy=\"epoch\",\n",
    "    learning_rate=2e-5,\n",
    "    per_device_train_batch_size=16,\n",
    "    per_device_eval_batch_size=16,\n",
    "    weight_decay=0.01,\n",
    "    save_total_limit=3,\n",
    "    num_train_epochs=25,\n",
    "    predict_with_generate=True,\n",
    "    push_to_hub=False\n",
    ")\n"
   ]
  },
  {
   "cell_type": "code",
   "execution_count": 12,
   "metadata": {
    "id": "d14SHSfDRaGL"
   },
   "outputs": [],
   "source": [
    "from torch.optim import AdamW\n",
    "\n",
    "optimizer = AdamW(filter(lambda p: p.requires_grad, model.parameters()), lr=2e-5)\n"
   ]
  },
  {
   "cell_type": "code",
   "execution_count": 13,
   "metadata": {
    "colab": {
     "base_uri": "https://localhost:8080/",
     "height": 297
    },
    "collapsed": true,
    "id": "tXTJJ_HvUFTc",
    "outputId": "719e5e3b-f17d-4d46-deca-86185c00f956"
   },
   "outputs": [
    {
     "name": "stderr",
     "output_type": "stream",
     "text": [
      "C:\\Users\\jagad\\AppData\\Local\\Temp\\ipykernel_20540\\3514917252.py:2: FutureWarning: `tokenizer` is deprecated and will be removed in version 5.0.0 for `Seq2SeqTrainer.__init__`. Use `processing_class` instead.\n",
      "  trainer = Seq2SeqTrainer(\n"
     ]
    },
    {
     "data": {
      "application/vnd.jupyter.widget-view+json": {
       "model_id": "2433e469dca648ff8088dd6a6eee1440",
       "version_major": 2,
       "version_minor": 0
      },
      "text/plain": [
       "  0%|          | 0/30950 [00:00<?, ?it/s]"
      ]
     },
     "metadata": {},
     "output_type": "display_data"
    },
    {
     "name": "stderr",
     "output_type": "stream",
     "text": [
      "c:\\Users\\jagad\\AppData\\Local\\Programs\\Python\\Python310\\lib\\site-packages\\transformers\\data\\data_collator.py:657: UserWarning: Creating a tensor from a list of numpy.ndarrays is extremely slow. Please consider converting the list to a single numpy.ndarray with numpy.array() before converting to a tensor. (Triggered internally at C:\\actions-runner\\_work\\pytorch\\pytorch\\builder\\windows\\pytorch\\torch\\csrc\\utils\\tensor_new.cpp:281.)\n",
      "  batch[\"labels\"] = torch.tensor(batch[\"labels\"], dtype=torch.int64)\n",
      "Passing a tuple of `past_key_values` is deprecated and will be removed in Transformers v4.48.0. You should pass an instance of `EncoderDecoderCache` instead, e.g. `past_key_values=EncoderDecoderCache.from_legacy_cache(past_key_values)`.\n"
     ]
    },
    {
     "name": "stdout",
     "output_type": "stream",
     "text": [
      "{'loss': 8.0132, 'grad_norm': 1.5736799240112305, 'learning_rate': 1.967689822294023e-05, 'epoch': 0.4}\n",
      "{'loss': 0.3951, 'grad_norm': 0.3903377950191498, 'learning_rate': 1.9353796445880454e-05, 'epoch': 0.81}\n"
     ]
    },
    {
     "data": {
      "application/vnd.jupyter.widget-view+json": {
       "model_id": "f91fd28cc4954da28a898351a782ec4b",
       "version_major": 2,
       "version_minor": 0
      },
      "text/plain": [
       "  0%|          | 0/299 [00:00<?, ?it/s]"
      ]
     },
     "metadata": {},
     "output_type": "display_data"
    },
    {
     "name": "stdout",
     "output_type": "stream",
     "text": [
      "{'eval_loss': 0.12541449069976807, 'eval_runtime': 13.1152, 'eval_samples_per_second': 364.463, 'eval_steps_per_second': 22.798, 'epoch': 1.0}\n",
      "{'loss': 0.1897, 'grad_norm': 0.29120492935180664, 'learning_rate': 1.903069466882068e-05, 'epoch': 1.21}\n",
      "{'loss': 0.0984, 'grad_norm': 0.3016502559185028, 'learning_rate': 1.8707592891760907e-05, 'epoch': 1.62}\n"
     ]
    },
    {
     "data": {
      "application/vnd.jupyter.widget-view+json": {
       "model_id": "3c0bad8042184f6b84db5e44401c7875",
       "version_major": 2,
       "version_minor": 0
      },
      "text/plain": [
       "  0%|          | 0/299 [00:00<?, ?it/s]"
      ]
     },
     "metadata": {},
     "output_type": "display_data"
    },
    {
     "name": "stdout",
     "output_type": "stream",
     "text": [
      "{'eval_loss': 0.0411812849342823, 'eval_runtime': 12.6962, 'eval_samples_per_second': 376.489, 'eval_steps_per_second': 23.55, 'epoch': 2.0}\n",
      "{'loss': 0.0711, 'grad_norm': 0.23398371040821075, 'learning_rate': 1.8384491114701135e-05, 'epoch': 2.02}\n",
      "{'loss': 0.058, 'grad_norm': 0.2573159337043762, 'learning_rate': 1.806138933764136e-05, 'epoch': 2.42}\n",
      "{'loss': 0.0487, 'grad_norm': 0.20314699411392212, 'learning_rate': 1.7738287560581584e-05, 'epoch': 2.83}\n"
     ]
    },
    {
     "data": {
      "application/vnd.jupyter.widget-view+json": {
       "model_id": "fe7bd4e5cf434d7f801d9216f9e315cb",
       "version_major": 2,
       "version_minor": 0
      },
      "text/plain": [
       "  0%|          | 0/299 [00:00<?, ?it/s]"
      ]
     },
     "metadata": {},
     "output_type": "display_data"
    },
    {
     "name": "stdout",
     "output_type": "stream",
     "text": [
      "{'eval_loss': 0.025716321542859077, 'eval_runtime': 12.4543, 'eval_samples_per_second': 383.802, 'eval_steps_per_second': 24.008, 'epoch': 3.0}\n",
      "{'loss': 0.0414, 'grad_norm': 0.1750364452600479, 'learning_rate': 1.741518578352181e-05, 'epoch': 3.23}\n",
      "{'loss': 0.0366, 'grad_norm': 0.21996912360191345, 'learning_rate': 1.7092084006462036e-05, 'epoch': 3.63}\n"
     ]
    },
    {
     "data": {
      "application/vnd.jupyter.widget-view+json": {
       "model_id": "aca386b93fc945a7b5b3605bfdd79b10",
       "version_major": 2,
       "version_minor": 0
      },
      "text/plain": [
       "  0%|          | 0/299 [00:00<?, ?it/s]"
      ]
     },
     "metadata": {},
     "output_type": "display_data"
    },
    {
     "name": "stdout",
     "output_type": "stream",
     "text": [
      "{'eval_loss': 0.015732385218143463, 'eval_runtime': 14.1538, 'eval_samples_per_second': 337.718, 'eval_steps_per_second': 21.125, 'epoch': 4.0}\n",
      "{'loss': 0.0318, 'grad_norm': 0.24617193639278412, 'learning_rate': 1.6768982229402264e-05, 'epoch': 4.04}\n",
      "{'loss': 0.0277, 'grad_norm': 0.2815904915332794, 'learning_rate': 1.644588045234249e-05, 'epoch': 4.44}\n",
      "{'loss': 0.0248, 'grad_norm': 0.20262092351913452, 'learning_rate': 1.6122778675282717e-05, 'epoch': 4.85}\n"
     ]
    },
    {
     "data": {
      "application/vnd.jupyter.widget-view+json": {
       "model_id": "13a9098c315641c1aa261a5bb91800dc",
       "version_major": 2,
       "version_minor": 0
      },
      "text/plain": [
       "  0%|          | 0/299 [00:00<?, ?it/s]"
      ]
     },
     "metadata": {},
     "output_type": "display_data"
    },
    {
     "name": "stdout",
     "output_type": "stream",
     "text": [
      "{'eval_loss': 0.009901481680572033, 'eval_runtime': 12.7055, 'eval_samples_per_second': 376.215, 'eval_steps_per_second': 23.533, 'epoch': 5.0}\n",
      "{'loss': 0.021, 'grad_norm': 0.3100850284099579, 'learning_rate': 1.579967689822294e-05, 'epoch': 5.25}\n",
      "{'loss': 0.0189, 'grad_norm': 0.17977364361286163, 'learning_rate': 1.547657512116317e-05, 'epoch': 5.65}\n"
     ]
    },
    {
     "data": {
      "application/vnd.jupyter.widget-view+json": {
       "model_id": "48192fc0d3474007b8c99bdf6170e3fa",
       "version_major": 2,
       "version_minor": 0
      },
      "text/plain": [
       "  0%|          | 0/299 [00:00<?, ?it/s]"
      ]
     },
     "metadata": {},
     "output_type": "display_data"
    },
    {
     "name": "stdout",
     "output_type": "stream",
     "text": [
      "{'eval_loss': 0.006801421754062176, 'eval_runtime': 13.5735, 'eval_samples_per_second': 352.157, 'eval_steps_per_second': 22.028, 'epoch': 6.0}\n",
      "{'loss': 0.017, 'grad_norm': 0.10061720758676529, 'learning_rate': 1.5153473344103394e-05, 'epoch': 6.06}\n",
      "{'loss': 0.0151, 'grad_norm': 0.3096373677253723, 'learning_rate': 1.483037156704362e-05, 'epoch': 6.46}\n",
      "{'loss': 0.014, 'grad_norm': 0.17579831182956696, 'learning_rate': 1.4507269789983846e-05, 'epoch': 6.87}\n"
     ]
    },
    {
     "data": {
      "application/vnd.jupyter.widget-view+json": {
       "model_id": "114dcc811439407199591de7af28f3f7",
       "version_major": 2,
       "version_minor": 0
      },
      "text/plain": [
       "  0%|          | 0/299 [00:00<?, ?it/s]"
      ]
     },
     "metadata": {},
     "output_type": "display_data"
    },
    {
     "name": "stdout",
     "output_type": "stream",
     "text": [
      "{'eval_loss': 0.005110312253236771, 'eval_runtime': 12.4892, 'eval_samples_per_second': 382.729, 'eval_steps_per_second': 23.941, 'epoch': 7.0}\n",
      "{'loss': 0.0126, 'grad_norm': 0.2099732756614685, 'learning_rate': 1.4184168012924074e-05, 'epoch': 7.27}\n",
      "{'loss': 0.0113, 'grad_norm': 0.22194364666938782, 'learning_rate': 1.3861066235864299e-05, 'epoch': 7.67}\n"
     ]
    },
    {
     "data": {
      "application/vnd.jupyter.widget-view+json": {
       "model_id": "9da61fdd7fe84612b11d7509acbce454",
       "version_major": 2,
       "version_minor": 0
      },
      "text/plain": [
       "  0%|          | 0/299 [00:00<?, ?it/s]"
      ]
     },
     "metadata": {},
     "output_type": "display_data"
    },
    {
     "name": "stdout",
     "output_type": "stream",
     "text": [
      "{'eval_loss': 0.003906907048076391, 'eval_runtime': 12.5265, 'eval_samples_per_second': 381.59, 'eval_steps_per_second': 23.869, 'epoch': 8.0}\n",
      "{'loss': 0.0105, 'grad_norm': 0.16858826577663422, 'learning_rate': 1.3537964458804525e-05, 'epoch': 8.08}\n",
      "{'loss': 0.01, 'grad_norm': 0.330400675535202, 'learning_rate': 1.3214862681744751e-05, 'epoch': 8.48}\n",
      "{'loss': 0.0089, 'grad_norm': 0.19757668673992157, 'learning_rate': 1.2891760904684977e-05, 'epoch': 8.89}\n"
     ]
    },
    {
     "data": {
      "application/vnd.jupyter.widget-view+json": {
       "model_id": "8ddf3f5247664260902bebf493f38f2e",
       "version_major": 2,
       "version_minor": 0
      },
      "text/plain": [
       "  0%|          | 0/299 [00:00<?, ?it/s]"
      ]
     },
     "metadata": {},
     "output_type": "display_data"
    },
    {
     "name": "stdout",
     "output_type": "stream",
     "text": [
      "{'eval_loss': 0.003385744756087661, 'eval_runtime': 12.463, 'eval_samples_per_second': 383.537, 'eval_steps_per_second': 23.991, 'epoch': 9.0}\n",
      "{'loss': 0.0087, 'grad_norm': 0.3623034954071045, 'learning_rate': 1.2568659127625202e-05, 'epoch': 9.29}\n",
      "{'loss': 0.0079, 'grad_norm': 0.17536060512065887, 'learning_rate': 1.224555735056543e-05, 'epoch': 9.69}\n"
     ]
    },
    {
     "data": {
      "application/vnd.jupyter.widget-view+json": {
       "model_id": "229ff596d9f440bd9b2edb07deefc4f5",
       "version_major": 2,
       "version_minor": 0
      },
      "text/plain": [
       "  0%|          | 0/299 [00:00<?, ?it/s]"
      ]
     },
     "metadata": {},
     "output_type": "display_data"
    },
    {
     "name": "stdout",
     "output_type": "stream",
     "text": [
      "{'eval_loss': 0.0032931019086390734, 'eval_runtime': 12.4917, 'eval_samples_per_second': 382.653, 'eval_steps_per_second': 23.936, 'epoch': 10.0}\n",
      "{'loss': 0.0075, 'grad_norm': 0.18894782662391663, 'learning_rate': 1.1922455573505656e-05, 'epoch': 10.1}\n",
      "{'loss': 0.007, 'grad_norm': 0.2151758223772049, 'learning_rate': 1.1599353796445882e-05, 'epoch': 10.5}\n",
      "{'loss': 0.0068, 'grad_norm': 0.28117290139198303, 'learning_rate': 1.1276252019386107e-05, 'epoch': 10.9}\n"
     ]
    },
    {
     "data": {
      "application/vnd.jupyter.widget-view+json": {
       "model_id": "ba794256934e4b828f4db700d75c503a",
       "version_major": 2,
       "version_minor": 0
      },
      "text/plain": [
       "  0%|          | 0/299 [00:00<?, ?it/s]"
      ]
     },
     "metadata": {},
     "output_type": "display_data"
    },
    {
     "name": "stdout",
     "output_type": "stream",
     "text": [
      "{'eval_loss': 0.003553685499355197, 'eval_runtime': 12.6243, 'eval_samples_per_second': 378.636, 'eval_steps_per_second': 23.685, 'epoch': 11.0}\n",
      "{'loss': 0.0063, 'grad_norm': 0.13030043244361877, 'learning_rate': 1.0953150242326333e-05, 'epoch': 11.31}\n",
      "{'loss': 0.0059, 'grad_norm': 0.2252766489982605, 'learning_rate': 1.0630048465266561e-05, 'epoch': 11.71}\n"
     ]
    },
    {
     "data": {
      "application/vnd.jupyter.widget-view+json": {
       "model_id": "749d9f13182849f58059f6934a24506a",
       "version_major": 2,
       "version_minor": 0
      },
      "text/plain": [
       "  0%|          | 0/299 [00:00<?, ?it/s]"
      ]
     },
     "metadata": {},
     "output_type": "display_data"
    },
    {
     "name": "stdout",
     "output_type": "stream",
     "text": [
      "{'eval_loss': 0.003487729001790285, 'eval_runtime': 12.5067, 'eval_samples_per_second': 382.196, 'eval_steps_per_second': 23.907, 'epoch': 12.0}\n",
      "{'loss': 0.0059, 'grad_norm': 0.16634920239448547, 'learning_rate': 1.0306946688206787e-05, 'epoch': 12.12}\n",
      "{'loss': 0.0054, 'grad_norm': 0.3030807077884674, 'learning_rate': 9.983844911147012e-06, 'epoch': 12.52}\n",
      "{'loss': 0.0053, 'grad_norm': 0.1988922655582428, 'learning_rate': 9.660743134087238e-06, 'epoch': 12.92}\n"
     ]
    },
    {
     "data": {
      "application/vnd.jupyter.widget-view+json": {
       "model_id": "33836d66faeb4542bbd4609ff1cfeb6a",
       "version_major": 2,
       "version_minor": 0
      },
      "text/plain": [
       "  0%|          | 0/299 [00:00<?, ?it/s]"
      ]
     },
     "metadata": {},
     "output_type": "display_data"
    },
    {
     "name": "stdout",
     "output_type": "stream",
     "text": [
      "{'eval_loss': 0.003883581142872572, 'eval_runtime': 12.489, 'eval_samples_per_second': 382.735, 'eval_steps_per_second': 23.941, 'epoch': 13.0}\n",
      "{'loss': 0.005, 'grad_norm': 0.12768957018852234, 'learning_rate': 9.337641357027464e-06, 'epoch': 13.33}\n",
      "{'loss': 0.0049, 'grad_norm': 0.23987536132335663, 'learning_rate': 9.01453957996769e-06, 'epoch': 13.73}\n"
     ]
    },
    {
     "data": {
      "application/vnd.jupyter.widget-view+json": {
       "model_id": "58802f2a721d4e0c84ee30e4f0599b76",
       "version_major": 2,
       "version_minor": 0
      },
      "text/plain": [
       "  0%|          | 0/299 [00:00<?, ?it/s]"
      ]
     },
     "metadata": {},
     "output_type": "display_data"
    },
    {
     "name": "stdout",
     "output_type": "stream",
     "text": [
      "{'eval_loss': 0.0039037903770804405, 'eval_runtime': 12.472, 'eval_samples_per_second': 383.258, 'eval_steps_per_second': 23.974, 'epoch': 14.0}\n",
      "{'loss': 0.0047, 'grad_norm': 0.19394177198410034, 'learning_rate': 8.691437802907917e-06, 'epoch': 14.14}\n",
      "{'loss': 0.0045, 'grad_norm': 0.37986990809440613, 'learning_rate': 8.368336025848143e-06, 'epoch': 14.54}\n",
      "{'loss': 0.0044, 'grad_norm': 0.2049127072095871, 'learning_rate': 8.04523424878837e-06, 'epoch': 14.94}\n"
     ]
    },
    {
     "data": {
      "application/vnd.jupyter.widget-view+json": {
       "model_id": "f00b94c949c64ffe91643f71e46d4df4",
       "version_major": 2,
       "version_minor": 0
      },
      "text/plain": [
       "  0%|          | 0/299 [00:00<?, ?it/s]"
      ]
     },
     "metadata": {},
     "output_type": "display_data"
    },
    {
     "name": "stdout",
     "output_type": "stream",
     "text": [
      "{'eval_loss': 0.00383810605853796, 'eval_runtime': 12.4633, 'eval_samples_per_second': 383.527, 'eval_steps_per_second': 23.991, 'epoch': 15.0}\n",
      "{'loss': 0.004, 'grad_norm': 0.24701061844825745, 'learning_rate': 7.722132471728596e-06, 'epoch': 15.35}\n",
      "{'loss': 0.0042, 'grad_norm': 0.2766515016555786, 'learning_rate': 7.399030694668822e-06, 'epoch': 15.75}\n"
     ]
    },
    {
     "data": {
      "application/vnd.jupyter.widget-view+json": {
       "model_id": "53d7e81e3cd649c68377fa715b9ef784",
       "version_major": 2,
       "version_minor": 0
      },
      "text/plain": [
       "  0%|          | 0/299 [00:00<?, ?it/s]"
      ]
     },
     "metadata": {},
     "output_type": "display_data"
    },
    {
     "name": "stdout",
     "output_type": "stream",
     "text": [
      "{'eval_loss': 0.003919599112123251, 'eval_runtime': 12.6545, 'eval_samples_per_second': 377.732, 'eval_steps_per_second': 23.628, 'epoch': 16.0}\n",
      "{'loss': 0.0039, 'grad_norm': 0.2766628861427307, 'learning_rate': 7.075928917609047e-06, 'epoch': 16.16}\n",
      "{'loss': 0.0038, 'grad_norm': 0.11422920227050781, 'learning_rate': 6.752827140549274e-06, 'epoch': 16.56}\n",
      "{'loss': 0.0038, 'grad_norm': 0.3076309561729431, 'learning_rate': 6.4297253634895e-06, 'epoch': 16.96}\n"
     ]
    },
    {
     "data": {
      "application/vnd.jupyter.widget-view+json": {
       "model_id": "ca82b98d34204108b6ce5aac45e109ab",
       "version_major": 2,
       "version_minor": 0
      },
      "text/plain": [
       "  0%|          | 0/299 [00:00<?, ?it/s]"
      ]
     },
     "metadata": {},
     "output_type": "display_data"
    },
    {
     "name": "stdout",
     "output_type": "stream",
     "text": [
      "{'eval_loss': 0.004005303606390953, 'eval_runtime': 12.5042, 'eval_samples_per_second': 382.272, 'eval_steps_per_second': 23.912, 'epoch': 17.0}\n",
      "{'loss': 0.0037, 'grad_norm': 0.29807791113853455, 'learning_rate': 6.106623586429726e-06, 'epoch': 17.37}\n",
      "{'loss': 0.0036, 'grad_norm': 0.2248014360666275, 'learning_rate': 5.783521809369952e-06, 'epoch': 17.77}\n"
     ]
    },
    {
     "data": {
      "application/vnd.jupyter.widget-view+json": {
       "model_id": "3c7903a3719f41beba44bd1a81f32de8",
       "version_major": 2,
       "version_minor": 0
      },
      "text/plain": [
       "  0%|          | 0/299 [00:00<?, ?it/s]"
      ]
     },
     "metadata": {},
     "output_type": "display_data"
    },
    {
     "name": "stdout",
     "output_type": "stream",
     "text": [
      "{'eval_loss': 0.004096689634025097, 'eval_runtime': 14.0242, 'eval_samples_per_second': 340.839, 'eval_steps_per_second': 21.32, 'epoch': 18.0}\n",
      "{'loss': 0.0035, 'grad_norm': 0.1842288374900818, 'learning_rate': 5.4604200323101785e-06, 'epoch': 18.17}\n",
      "{'loss': 0.0035, 'grad_norm': 0.06329822540283203, 'learning_rate': 5.137318255250404e-06, 'epoch': 18.58}\n",
      "{'loss': 0.0033, 'grad_norm': 0.21289902925491333, 'learning_rate': 4.81421647819063e-06, 'epoch': 18.98}\n"
     ]
    },
    {
     "data": {
      "application/vnd.jupyter.widget-view+json": {
       "model_id": "4b3e8f40dd844fe5aa420b9bc2291f18",
       "version_major": 2,
       "version_minor": 0
      },
      "text/plain": [
       "  0%|          | 0/299 [00:00<?, ?it/s]"
      ]
     },
     "metadata": {},
     "output_type": "display_data"
    },
    {
     "name": "stdout",
     "output_type": "stream",
     "text": [
      "{'eval_loss': 0.004367782734334469, 'eval_runtime': 13.353, 'eval_samples_per_second': 357.972, 'eval_steps_per_second': 22.392, 'epoch': 19.0}\n",
      "{'loss': 0.0034, 'grad_norm': 0.21759018301963806, 'learning_rate': 4.491114701130856e-06, 'epoch': 19.39}\n",
      "{'loss': 0.0032, 'grad_norm': 0.22471816837787628, 'learning_rate': 4.168012924071083e-06, 'epoch': 19.79}\n"
     ]
    },
    {
     "data": {
      "application/vnd.jupyter.widget-view+json": {
       "model_id": "f957080c92824bd5a647521464435ad0",
       "version_major": 2,
       "version_minor": 0
      },
      "text/plain": [
       "  0%|          | 0/299 [00:00<?, ?it/s]"
      ]
     },
     "metadata": {},
     "output_type": "display_data"
    },
    {
     "name": "stdout",
     "output_type": "stream",
     "text": [
      "{'eval_loss': 0.004366233944892883, 'eval_runtime': 12.5963, 'eval_samples_per_second': 379.475, 'eval_steps_per_second': 23.737, 'epoch': 20.0}\n",
      "{'loss': 0.003, 'grad_norm': 0.12996111810207367, 'learning_rate': 3.844911147011309e-06, 'epoch': 20.19}\n",
      "{'loss': 0.0033, 'grad_norm': 0.07795819640159607, 'learning_rate': 3.5218093699515347e-06, 'epoch': 20.6}\n"
     ]
    },
    {
     "data": {
      "application/vnd.jupyter.widget-view+json": {
       "model_id": "608628a76849433ca8351e7b237ab8ce",
       "version_major": 2,
       "version_minor": 0
      },
      "text/plain": [
       "  0%|          | 0/299 [00:00<?, ?it/s]"
      ]
     },
     "metadata": {},
     "output_type": "display_data"
    },
    {
     "name": "stdout",
     "output_type": "stream",
     "text": [
      "{'eval_loss': 0.004349364899098873, 'eval_runtime': 13.2324, 'eval_samples_per_second': 361.236, 'eval_steps_per_second': 22.596, 'epoch': 21.0}\n",
      "{'loss': 0.0032, 'grad_norm': 0.15647734701633453, 'learning_rate': 3.198707592891761e-06, 'epoch': 21.0}\n",
      "{'loss': 0.003, 'grad_norm': 0.13693831861019135, 'learning_rate': 2.875605815831987e-06, 'epoch': 21.41}\n",
      "{'loss': 0.0031, 'grad_norm': 0.15246853232383728, 'learning_rate': 2.5525040387722134e-06, 'epoch': 21.81}\n"
     ]
    },
    {
     "data": {
      "application/vnd.jupyter.widget-view+json": {
       "model_id": "2373acc9214c47dc9a6f520bc373017b",
       "version_major": 2,
       "version_minor": 0
      },
      "text/plain": [
       "  0%|          | 0/299 [00:00<?, ?it/s]"
      ]
     },
     "metadata": {},
     "output_type": "display_data"
    },
    {
     "name": "stdout",
     "output_type": "stream",
     "text": [
      "{'eval_loss': 0.004354281350970268, 'eval_runtime': 12.3505, 'eval_samples_per_second': 387.03, 'eval_steps_per_second': 24.21, 'epoch': 22.0}\n",
      "{'loss': 0.0029, 'grad_norm': 0.10667601972818375, 'learning_rate': 2.2294022617124397e-06, 'epoch': 22.21}\n",
      "{'loss': 0.003, 'grad_norm': 0.15650805830955505, 'learning_rate': 1.906300484652666e-06, 'epoch': 22.62}\n"
     ]
    },
    {
     "data": {
      "application/vnd.jupyter.widget-view+json": {
       "model_id": "5d3b61f976c14cbe88c81f5f66d902ac",
       "version_major": 2,
       "version_minor": 0
      },
      "text/plain": [
       "  0%|          | 0/299 [00:00<?, ?it/s]"
      ]
     },
     "metadata": {},
     "output_type": "display_data"
    },
    {
     "name": "stdout",
     "output_type": "stream",
     "text": [
      "{'eval_loss': 0.004289666656404734, 'eval_runtime': 12.3336, 'eval_samples_per_second': 387.559, 'eval_steps_per_second': 24.243, 'epoch': 23.0}\n",
      "{'loss': 0.003, 'grad_norm': 0.21090887486934662, 'learning_rate': 1.583198707592892e-06, 'epoch': 23.02}\n",
      "{'loss': 0.0029, 'grad_norm': 0.2574300169944763, 'learning_rate': 1.2600969305331182e-06, 'epoch': 23.42}\n",
      "{'loss': 0.003, 'grad_norm': 0.22634394466876984, 'learning_rate': 9.369951534733441e-07, 'epoch': 23.83}\n"
     ]
    },
    {
     "data": {
      "application/vnd.jupyter.widget-view+json": {
       "model_id": "4b773324d4864d5ba902ee9dc94704b8",
       "version_major": 2,
       "version_minor": 0
      },
      "text/plain": [
       "  0%|          | 0/299 [00:00<?, ?it/s]"
      ]
     },
     "metadata": {},
     "output_type": "display_data"
    },
    {
     "name": "stdout",
     "output_type": "stream",
     "text": [
      "{'eval_loss': 0.004385428968816996, 'eval_runtime': 12.314, 'eval_samples_per_second': 388.176, 'eval_steps_per_second': 24.281, 'epoch': 24.0}\n",
      "{'loss': 0.0028, 'grad_norm': 0.1518854945898056, 'learning_rate': 6.138933764135703e-07, 'epoch': 24.23}\n",
      "{'loss': 0.0029, 'grad_norm': 0.1504703015089035, 'learning_rate': 2.9079159935379645e-07, 'epoch': 24.64}\n"
     ]
    },
    {
     "data": {
      "application/vnd.jupyter.widget-view+json": {
       "model_id": "99d17417a87e479085917c90f2932d54",
       "version_major": 2,
       "version_minor": 0
      },
      "text/plain": [
       "  0%|          | 0/299 [00:00<?, ?it/s]"
      ]
     },
     "metadata": {},
     "output_type": "display_data"
    },
    {
     "name": "stdout",
     "output_type": "stream",
     "text": [
      "{'eval_loss': 0.004363458137959242, 'eval_runtime': 12.3529, 'eval_samples_per_second': 386.955, 'eval_steps_per_second': 24.205, 'epoch': 25.0}\n",
      "{'train_runtime': 3414.994, 'train_samples_per_second': 144.949, 'train_steps_per_second': 9.063, 'train_loss': 0.1510232857240421, 'epoch': 25.0}\n"
     ]
    },
    {
     "data": {
      "text/plain": [
       "TrainOutput(global_step=30950, training_loss=0.1510232857240421, metrics={'train_runtime': 3414.994, 'train_samples_per_second': 144.949, 'train_steps_per_second': 9.063, 'total_flos': 1.68326332416e+16, 'train_loss': 0.1510232857240421, 'epoch': 25.0})"
      ]
     },
     "execution_count": 13,
     "metadata": {},
     "output_type": "execute_result"
    }
   ],
   "source": [
    "# Trainer with LoRA model\n",
    "trainer = Seq2SeqTrainer(\n",
    "    model=model,\n",
    "    args=training_args,\n",
    "    train_dataset=train_dataset,\n",
    "    eval_dataset=eval_dataset,\n",
    "    tokenizer=tokenizer,\n",
    "    data_collator=data_collator,\n",
    "    optimizers=(optimizer, None)\n",
    ")\n",
    "\n",
    "trainer.train()\n"
   ]
  },
  {
   "cell_type": "code",
   "execution_count": 14,
   "metadata": {
    "colab": {
     "base_uri": "https://localhost:8080/",
     "height": 581
    },
    "id": "IeSyncoCiBVd",
    "outputId": "ae7937ae-4d10-4f9d-d855-1901f2b2bcee"
   },
   "outputs": [
    {
     "name": "stdout",
     "output_type": "stream",
     "text": [
      "Plot saved at ./content/results_lora_T5/train_val__loss_graphs\\training_validation_loss.png\n"
     ]
    },
    {
     "data": {
      "image/png": "[encoded data removed]",
      "text/plain": [
       "<Figure size 1000x600 with 1 Axes>"
      ]
     },
     "metadata": {},
     "output_type": "display_data"
    }
   ],
   "source": [
    "import os\n",
    "import matplotlib.pyplot as plt\n",
    "\n",
    "save_dir = \"./content/results_lora_T5/train_val__loss_graphs\"\n",
    "os.makedirs(save_dir, exist_ok=True)  # Create the directory if it doesn't exist\n",
    "\n",
    "# Retrieve the training logs\n",
    "logs = trainer.state.log_history\n",
    "\n",
    "# Extract training and validation loss values\n",
    "train_loss = [log['loss'] for log in logs if 'loss' in log]\n",
    "train_steps = [log['step'] for log in logs if 'loss' in log]\n",
    "eval_loss = [log['eval_loss'] for log in logs if 'eval_loss' in log]\n",
    "eval_steps = [log['step'] for log in logs if 'eval_loss' in log]\n",
    "\n",
    "# Calculate epochs based on the step and total steps per epoch\n",
    "steps_per_epoch = len(train_dataset) // trainer.args.per_device_train_batch_size\n",
    "train_epochs = [step / steps_per_epoch for step in train_steps]\n",
    "eval_epochs = [step / steps_per_epoch for step in eval_steps]\n",
    "\n",
    "# Plot the training and validation loss\n",
    "plt.figure(figsize=(10, 6))\n",
    "plt.plot(train_epochs, train_loss, label='Training Loss')\n",
    "if eval_loss:\n",
    "    plt.plot(eval_epochs, eval_loss, label='Validation Loss')\n",
    "plt.title('Training and Validation Loss')\n",
    "plt.xlabel('Steps')\n",
    "plt.ylabel('Loss')\n",
    "plt.legend()\n",
    "\n",
    "# Save the plot to the specified directory\n",
    "plot_path = os.path.join(save_dir, \"training_validation_loss.png\")\n",
    "plt.savefig(plot_path)\n",
    "print(f\"Plot saved at {plot_path}\")\n",
    "\n",
    "plt.show()"
   ]
  },
  {
   "cell_type": "code",
   "execution_count": 15,
   "metadata": {
    "id": "Qh_dF0MHePpW"
   },
   "outputs": [],
   "source": [
    "# Evaluation function\n",
    "def compute_accuracies(model, tokenizer, eval_dataset, batch_size=16):\n",
    "    device = torch.device('cuda' if torch.cuda.is_available() else 'cpu')\n",
    "    model.to(device)\n",
    "    model.eval()\n",
    "\n",
    "    dataloader = DataLoader(eval_dataset, batch_size=batch_size)\n",
    "    sequence_correct = 0\n",
    "    total_positions = 0\n",
    "    position_correct = 0\n",
    "    total_sequences = 0\n",
    "\n",
    "    with torch.no_grad():\n",
    "        for batch in tqdm(dataloader):\n",
    "            input_ids = batch['input_ids'].to(device)\n",
    "            labels = batch['labels']\n",
    "\n",
    "            outputs = model.generate(\n",
    "                input_ids=input_ids,\n",
    "                max_length=128,\n",
    "                pad_token_id=tokenizer.pad_token_id\n",
    "            )\n",
    "\n",
    "            predictions = [tokenizer.decode(output, skip_special_tokens=True) for output in outputs]\n",
    "            true_labels = [tokenizer.decode(label[label != -100], skip_special_tokens=True) for label in labels]\n",
    "\n",
    "            for pred, true in zip(predictions, true_labels):\n",
    "                # Split by semicolon and strip whitespace\n",
    "                pred_colors = [color.strip() for color in pred.split(';')]\n",
    "                true_colors = [color.strip() for color in true.split(';')]\n",
    "\n",
    "                if pred_colors == true_colors:\n",
    "                    sequence_correct += 1\n",
    "                total_sequences += 1\n",
    "\n",
    "                min_len = min(len(pred_colors), len(true_colors))\n",
    "                for i in range(min_len):\n",
    "                    if pred_colors[i] == true_colors[i]:\n",
    "                        position_correct += 1\n",
    "                total_positions += len(true_colors)\n",
    "\n",
    "    sequence_accuracy = sequence_correct / total_sequences\n",
    "    position_accuracy = position_correct / total_positions\n",
    "\n",
    "    return {\n",
    "        'sequence_accuracy': sequence_accuracy,\n",
    "        'position_accuracy': position_accuracy,\n",
    "        'total_sequences': total_sequences,\n",
    "        'total_positions': total_positions\n",
    "    }"
   ]
  },
  {
   "cell_type": "code",
   "execution_count": 16,
   "metadata": {
    "colab": {
     "base_uri": "https://localhost:8080/"
    },
    "id": "fEP2N4l_eUc8",
    "outputId": "ca140df8-52c8-419e-9856-9a02e133cb37"
   },
   "outputs": [
    {
     "name": "stderr",
     "output_type": "stream",
     "text": [
      "100%|██████████| 299/299 [00:31<00:00,  9.46it/s]"
     ]
    },
    {
     "name": "stdout",
     "output_type": "stream",
     "text": [
      "Sequence Accuracy: 0.9404\n",
      "Position Accuracy: 0.9735\n",
      "Total sequences evaluated: 4780\n",
      "Total positions evaluated: 22620\n"
     ]
    },
    {
     "name": "stderr",
     "output_type": "stream",
     "text": [
      "\n"
     ]
    }
   ],
   "source": [
    "# Run evaluation\n",
    "results = compute_accuracies(model, tokenizer, eval_dataset)\n",
    "print(f\"Sequence Accuracy: {results['sequence_accuracy']:.4f}\")\n",
    "print(f\"Position Accuracy: {results['position_accuracy']:.4f}\")\n",
    "print(f\"Total sequences evaluated: {results['total_sequences']}\")\n",
    "print(f\"Total positions evaluated: {results['total_positions']}\")"
   ]
  },
  {
   "cell_type": "code",
   "execution_count": 18,
   "metadata": {
    "colab": {
     "base_uri": "https://localhost:8080/",
     "height": 478
    },
    "id": "MfLHJzrWYuTv",
    "outputId": "24be25ba-4c83-4925-baa8-162d0ba9c56c"
   },
   "outputs": [
    {
     "name": "stdout",
     "output_type": "stream",
     "text": [
      "cuda\n",
      "Input: Before going to purple battery, start your task at green battery and make sure to visit blue battery along the way. Then go to the red battery, and wrap up at the orange battery.\n",
      "Output: green; blue; red; orange; purple\n"
     ]
    }
   ],
   "source": [
    "# Example of generating output for a single input\n",
    "\n",
    "model_path = \"./results_lora/checkpoint-30950\"\n",
    "tokenizer = AutoTokenizer.from_pretrained(model_path)\n",
    "model = AutoModelForSeq2SeqLM.from_pretrained(model_path)\n",
    "\n",
    "def generate_output(input_text):\n",
    "    # Move model to the same device as the input\n",
    "    device = torch.device('cuda' if torch.cuda.is_available() else 'cpu')\n",
    "    print(device)\n",
    "\n",
    "    # Tokenize the input and move the inputs to the correct device\n",
    "    inputs = tokenizer(input_text, return_tensors=\"pt\", truncation=True, padding='max_length', max_length=128).to(device)\n",
    "\n",
    "    # Make sure the model is also on the same device\n",
    "    model.to(device)\n",
    "\n",
    "    # Generate the output sequence\n",
    "    output = model.generate(inputs['input_ids'], max_length=128)\n",
    "\n",
    "    # Decode the generated tokens to text\n",
    "    return tokenizer.decode(output[0], skip_special_tokens=True)\n",
    "\n",
    "# Test the model with a sample input\n",
    "sample_input = \"Before going to purple battery, start your task at green battery and make sure to visit blue battery along the way. Then go to the red battery, and wrap up at the orange battery.\"\n",
    "generated_output = generate_output(sample_input)\n",
    "print(f\"Input: {sample_input}\")\n",
    "print(f\"Output: {generated_output}\")\n"
   ]
  }
 ],
 "metadata": {
  "accelerator": "GPU",
  "colab": {
   "provenance": []
  },
  "kernelspec": {
   "display_name": "Python 3",
   "name": "python3"
  },
  "language_info": {
   "codemirror_mode": {
    "name": "ipython",
    "version": 3
   },
   "file_extension": ".py",
   "mimetype": "text/x-python",
   "name": "python",
   "nbconvert_exporter": "python",
   "pygments_lexer": "ipython3",
   "version": "3.10.10"
  },
  "widgets": {
   "application/vnd.jupyter.widget-state+json": {
    "01f9063bbf1048d1ae4bd3af427bad03": {
     "model_module": "@jupyter-widgets/base",
     "model_module_version": "1.2.0",
     "model_name": "LayoutModel",
     "state": {
      "_model_module": "@jupyter-widgets/base",
      "_model_module_version": "1.2.0",
      "_model_name": "LayoutModel",
      "_view_count": null,
      "_view_module": "@jupyter-widgets/base",
      "_view_module_version": "1.2.0",
      "_view_name": "LayoutView",
      "align_content": null,
      "align_items": null,
      "align_self": null,
      "border": null,
      "bottom": null,
      "display": null,
      "flex": null,
      "flex_flow": null,
      "grid_area": null,
      "grid_auto_columns": null,
      "grid_auto_flow": null,
      "grid_auto_rows": null,
      "grid_column": null,
      "grid_gap": null,
      "grid_row": null,
      "grid_template_areas": null,
      "grid_template_columns": null,
      "grid_template_rows": null,
      "height": null,
      "justify_content": null,
      "justify_items": null,
      "left": null,
      "margin": null,
      "max_height": null,
      "max_width": null,
      "min_height": null,
      "min_width": null,
      "object_fit": null,
      "object_position": null,
      "order": null,
      "overflow": null,
      "overflow_x": null,
      "overflow_y": null,
      "padding": null,
      "right": null,
      "top": null,
      "visibility": null,
      "width": null
     }
    },
    "035df2920a0d45f581c58e3380258e39": {
     "model_module": "@jupyter-widgets/controls",
     "model_module_version": "1.5.0",
     "model_name": "HTMLModel",
     "state": {
      "_dom_classes": [],
      "_model_module": "@jupyter-widgets/controls",
      "_model_module_version": "1.5.0",
      "_model_name": "HTMLModel",
      "_view_count": null,
      "_view_module": "@jupyter-widgets/controls",
      "_view_module_version": "1.5.0",
      "_view_name": "HTMLView",
      "description": "",
      "description_tooltip": null,
      "layout": "IPY_MODEL_8c83f96447ed4201a22fdc021b6ab826",
      "placeholder": "​",
      "style": "IPY_MODEL_453e0ec0003e4bbaaffe8fa368a254ee",
      "value": "tokenizer_config.json: 100%"
     }
    },
    "038a4fc478fa46f3988b144fb34330d3": {
     "model_module": "@jupyter-widgets/base",
     "model_module_version": "1.2.0",
     "model_name": "LayoutModel",
     "state": {
      "_model_module": "@jupyter-widgets/base",
      "_model_module_version": "1.2.0",
      "_model_name": "LayoutModel",
      "_view_count": null,
      "_view_module": "@jupyter-widgets/base",
      "_view_module_version": "1.2.0",
      "_view_name": "LayoutView",
      "align_content": null,
      "align_items": null,
      "align_self": null,
      "border": null,
      "bottom": null,
      "display": null,
      "flex": null,
      "flex_flow": null,
      "grid_area": null,
      "grid_auto_columns": null,
      "grid_auto_flow": null,
      "grid_auto_rows": null,
      "grid_column": null,
      "grid_gap": null,
      "grid_row": null,
      "grid_template_areas": null,
      "grid_template_columns": null,
      "grid_template_rows": null,
      "height": null,
      "justify_content": null,
      "justify_items": null,
      "left": null,
      "margin": null,
      "max_height": null,
      "max_width": null,
      "min_height": null,
      "min_width": null,
      "object_fit": null,
      "object_position": null,
      "order": null,
      "overflow": null,
      "overflow_x": null,
      "overflow_y": null,
      "padding": null,
      "right": null,
      "top": null,
      "visibility": null,
      "width": null
     }
    },
    "0cb001353d07496aae9ec70018e03b44": {
     "model_module": "@jupyter-widgets/controls",
     "model_module_version": "1.5.0",
     "model_name": "HTMLModel",
     "state": {
      "_dom_classes": [],
      "_model_module": "@jupyter-widgets/controls",
      "_model_module_version": "1.5.0",
      "_model_name": "HTMLModel",
      "_view_count": null,
      "_view_module": "@jupyter-widgets/controls",
      "_view_module_version": "1.5.0",
      "_view_name": "HTMLView",
      "description": "",
      "description_tooltip": null,
      "layout": "IPY_MODEL_5ca3e1708500490686913637debd7de4",
      "placeholder": "​",
      "style": "IPY_MODEL_45636727430d45dbb4e487b11c9ef98d",
      "value": "model.safetensors: 100%"
     }
    },
    "10f9131b19634ae88a9a72390e0ca43f": {
     "model_module": "@jupyter-widgets/controls",
     "model_module_version": "1.5.0",
     "model_name": "FloatProgressModel",
     "state": {
      "_dom_classes": [],
      "_model_module": "@jupyter-widgets/controls",
      "_model_module_version": "1.5.0",
      "_model_name": "FloatProgressModel",
      "_view_count": null,
      "_view_module": "@jupyter-widgets/controls",
      "_view_module_version": "1.5.0",
      "_view_name": "ProgressView",
      "bar_style": "success",
      "description": "",
      "description_tooltip": null,
      "layout": "IPY_MODEL_b577722f19b94fb598c31a169de0082c",
      "max": 1206,
      "min": 0,
      "orientation": "horizontal",
      "style": "IPY_MODEL_1b9abcc2b6764aa9b078ae5504b4ee49",
      "value": 1206
     }
    },
    "16faf414c2f94938b3187ee09093ce5c": {
     "model_module": "@jupyter-widgets/controls",
     "model_module_version": "1.5.0",
     "model_name": "FloatProgressModel",
     "state": {
      "_dom_classes": [],
      "_model_module": "@jupyter-widgets/controls",
      "_model_module_version": "1.5.0",
      "_model_name": "FloatProgressModel",
      "_view_count": null,
      "_view_module": "@jupyter-widgets/controls",
      "_view_module_version": "1.5.0",
      "_view_name": "ProgressView",
      "bar_style": "success",
      "description": "",
      "description_tooltip": null,
      "layout": "IPY_MODEL_af9a1672808f48c5ab444a3d93707860",
      "max": 2324,
      "min": 0,
      "orientation": "horizontal",
      "style": "IPY_MODEL_2082191c5f9c47139da23b1582c0783c",
      "value": 2324
     }
    },
    "196d912db8ac41b08483e875550b1810": {
     "model_module": "@jupyter-widgets/base",
     "model_module_version": "1.2.0",
     "model_name": "LayoutModel",
     "state": {
      "_model_module": "@jupyter-widgets/base",
      "_model_module_version": "1.2.0",
      "_model_name": "LayoutModel",
      "_view_count": null,
      "_view_module": "@jupyter-widgets/base",
      "_view_module_version": "1.2.0",
      "_view_name": "LayoutView",
      "align_content": null,
      "align_items": null,
      "align_self": null,
      "border": null,
      "bottom": null,
      "display": null,
      "flex": null,
      "flex_flow": null,
      "grid_area": null,
      "grid_auto_columns": null,
      "grid_auto_flow": null,
      "grid_auto_rows": null,
      "grid_column": null,
      "grid_gap": null,
      "grid_row": null,
      "grid_template_areas": null,
      "grid_template_columns": null,
      "grid_template_rows": null,
      "height": null,
      "justify_content": null,
      "justify_items": null,
      "left": null,
      "margin": null,
      "max_height": null,
      "max_width": null,
      "min_height": null,
      "min_width": null,
      "object_fit": null,
      "object_position": null,
      "order": null,
      "overflow": null,
      "overflow_x": null,
      "overflow_y": null,
      "padding": null,
      "right": null,
      "top": null,
      "visibility": null,
      "width": null
     }
    },
    "1b9abcc2b6764aa9b078ae5504b4ee49": {
     "model_module": "@jupyter-widgets/controls",
     "model_module_version": "1.5.0",
     "model_name": "ProgressStyleModel",
     "state": {
      "_model_module": "@jupyter-widgets/controls",
      "_model_module_version": "1.5.0",
      "_model_name": "ProgressStyleModel",
      "_view_count": null,
      "_view_module": "@jupyter-widgets/base",
      "_view_module_version": "1.2.0",
      "_view_name": "StyleView",
      "bar_color": null,
      "description_width": ""
     }
    },
    "203088326ee945fcb406e40aab83f70c": {
     "model_module": "@jupyter-widgets/controls",
     "model_module_version": "1.5.0",
     "model_name": "HBoxModel",
     "state": {
      "_dom_classes": [],
      "_model_module": "@jupyter-widgets/controls",
      "_model_module_version": "1.5.0",
      "_model_name": "HBoxModel",
      "_view_count": null,
      "_view_module": "@jupyter-widgets/controls",
      "_view_module_version": "1.5.0",
      "_view_name": "HBoxView",
      "box_style": "",
      "children": [
       "IPY_MODEL_dfe4368a7d024b96a198ba01d908806e",
       "IPY_MODEL_10f9131b19634ae88a9a72390e0ca43f",
       "IPY_MODEL_42f94f68b10140ed8acb7c2b1c0cd384"
      ],
      "layout": "IPY_MODEL_77e373f3d23849f384e0c7dcc19444bd"
     }
    },
    "2082191c5f9c47139da23b1582c0783c": {
     "model_module": "@jupyter-widgets/controls",
     "model_module_version": "1.5.0",
     "model_name": "ProgressStyleModel",
     "state": {
      "_model_module": "@jupyter-widgets/controls",
      "_model_module_version": "1.5.0",
      "_model_name": "ProgressStyleModel",
      "_view_count": null,
      "_view_module": "@jupyter-widgets/base",
      "_view_module_version": "1.2.0",
      "_view_name": "StyleView",
      "bar_color": null,
      "description_width": ""
     }
    },
    "2344b50d1951441895023086ad0d30c8": {
     "model_module": "@jupyter-widgets/controls",
     "model_module_version": "1.5.0",
     "model_name": "HTMLModel",
     "state": {
      "_dom_classes": [],
      "_model_module": "@jupyter-widgets/controls",
      "_model_module_version": "1.5.0",
      "_model_name": "HTMLModel",
      "_view_count": null,
      "_view_module": "@jupyter-widgets/controls",
      "_view_module_version": "1.5.0",
      "_view_name": "HTMLView",
      "description": "",
      "description_tooltip": null,
      "layout": "IPY_MODEL_72f3ea2de5684683b7823b9a5079a9b2",
      "placeholder": "​",
      "style": "IPY_MODEL_5b9b6817788a4158a7b3ee3f13babba3",
      "value": " 792k/792k [00:00&lt;00:00, 5.61MB/s]"
     }
    },
    "25eaa4e3638e4ed093d413ef54db3ad7": {
     "model_module": "@jupyter-widgets/controls",
     "model_module_version": "1.5.0",
     "model_name": "DescriptionStyleModel",
     "state": {
      "_model_module": "@jupyter-widgets/controls",
      "_model_module_version": "1.5.0",
      "_model_name": "DescriptionStyleModel",
      "_view_count": null,
      "_view_module": "@jupyter-widgets/base",
      "_view_module_version": "1.2.0",
      "_view_name": "StyleView",
      "description_width": ""
     }
    },
    "291abc5aea114a789da92c2a010bfeaa": {
     "model_module": "@jupyter-widgets/base",
     "model_module_version": "1.2.0",
     "model_name": "LayoutModel",
     "state": {
      "_model_module": "@jupyter-widgets/base",
      "_model_module_version": "1.2.0",
      "_model_name": "LayoutModel",
      "_view_count": null,
      "_view_module": "@jupyter-widgets/base",
      "_view_module_version": "1.2.0",
      "_view_name": "LayoutView",
      "align_content": null,
      "align_items": null,
      "align_self": null,
      "border": null,
      "bottom": null,
      "display": null,
      "flex": null,
      "flex_flow": null,
      "grid_area": null,
      "grid_auto_columns": null,
      "grid_auto_flow": null,
      "grid_auto_rows": null,
      "grid_column": null,
      "grid_gap": null,
      "grid_row": null,
      "grid_template_areas": null,
      "grid_template_columns": null,
      "grid_template_rows": null,
      "height": null,
      "justify_content": null,
      "justify_items": null,
      "left": null,
      "margin": null,
      "max_height": null,
      "max_width": null,
      "min_height": null,
      "min_width": null,
      "object_fit": null,
      "object_position": null,
      "order": null,
      "overflow": null,
      "overflow_x": null,
      "overflow_y": null,
      "padding": null,
      "right": null,
      "top": null,
      "visibility": null,
      "width": null
     }
    },
    "2e02dc2ffadd4b2ca810faba3e94b335": {
     "model_module": "@jupyter-widgets/controls",
     "model_module_version": "1.5.0",
     "model_name": "HTMLModel",
     "state": {
      "_dom_classes": [],
      "_model_module": "@jupyter-widgets/controls",
      "_model_module_version": "1.5.0",
      "_model_name": "HTMLModel",
      "_view_count": null,
      "_view_module": "@jupyter-widgets/controls",
      "_view_module_version": "1.5.0",
      "_view_name": "HTMLView",
      "description": "",
      "description_tooltip": null,
      "layout": "IPY_MODEL_9a8b2fef829442ae87e0b299abc24962",
      "placeholder": "​",
      "style": "IPY_MODEL_25eaa4e3638e4ed093d413ef54db3ad7",
      "value": " 242M/242M [00:01&lt;00:00, 201MB/s]"
     }
    },
    "2e2372aa53ee4e6b9c2cbab515edef77": {
     "model_module": "@jupyter-widgets/base",
     "model_module_version": "1.2.0",
     "model_name": "LayoutModel",
     "state": {
      "_model_module": "@jupyter-widgets/base",
      "_model_module_version": "1.2.0",
      "_model_name": "LayoutModel",
      "_view_count": null,
      "_view_module": "@jupyter-widgets/base",
      "_view_module_version": "1.2.0",
      "_view_name": "LayoutView",
      "align_content": null,
      "align_items": null,
      "align_self": null,
      "border": null,
      "bottom": null,
      "display": null,
      "flex": null,
      "flex_flow": null,
      "grid_area": null,
      "grid_auto_columns": null,
      "grid_auto_flow": null,
      "grid_auto_rows": null,
      "grid_column": null,
      "grid_gap": null,
      "grid_row": null,
      "grid_template_areas": null,
      "grid_template_columns": null,
      "grid_template_rows": null,
      "height": null,
      "justify_content": null,
      "justify_items": null,
      "left": null,
      "margin": null,
      "max_height": null,
      "max_width": null,
      "min_height": null,
      "min_width": null,
      "object_fit": null,
      "object_position": null,
      "order": null,
      "overflow": null,
      "overflow_x": null,
      "overflow_y": null,
      "padding": null,
      "right": null,
      "top": null,
      "visibility": null,
      "width": null
     }
    },
    "3d2a71ffd50f46f8b5bee35c2346beee": {
     "model_module": "@jupyter-widgets/controls",
     "model_module_version": "1.5.0",
     "model_name": "ProgressStyleModel",
     "state": {
      "_model_module": "@jupyter-widgets/controls",
      "_model_module_version": "1.5.0",
      "_model_name": "ProgressStyleModel",
      "_view_count": null,
      "_view_module": "@jupyter-widgets/base",
      "_view_module_version": "1.2.0",
      "_view_name": "StyleView",
      "bar_color": null,
      "description_width": ""
     }
    },
    "3ed52ec57df84a67b4de6c04c8d94036": {
     "model_module": "@jupyter-widgets/controls",
     "model_module_version": "1.5.0",
     "model_name": "DescriptionStyleModel",
     "state": {
      "_model_module": "@jupyter-widgets/controls",
      "_model_module_version": "1.5.0",
      "_model_name": "DescriptionStyleModel",
      "_view_count": null,
      "_view_module": "@jupyter-widgets/base",
      "_view_module_version": "1.2.0",
      "_view_name": "StyleView",
      "description_width": ""
     }
    },
    "42f94f68b10140ed8acb7c2b1c0cd384": {
     "model_module": "@jupyter-widgets/controls",
     "model_module_version": "1.5.0",
     "model_name": "HTMLModel",
     "state": {
      "_dom_classes": [],
      "_model_module": "@jupyter-widgets/controls",
      "_model_module_version": "1.5.0",
      "_model_name": "HTMLModel",
      "_view_count": null,
      "_view_module": "@jupyter-widgets/controls",
      "_view_module_version": "1.5.0",
      "_view_name": "HTMLView",
      "description": "",
      "description_tooltip": null,
      "layout": "IPY_MODEL_8b4f35bd75b64addbc42b8424230798f",
      "placeholder": "​",
      "style": "IPY_MODEL_3ed52ec57df84a67b4de6c04c8d94036",
      "value": " 1.21k/1.21k [00:00&lt;00:00, 48.3kB/s]"
     }
    },
    "453e0ec0003e4bbaaffe8fa368a254ee": {
     "model_module": "@jupyter-widgets/controls",
     "model_module_version": "1.5.0",
     "model_name": "DescriptionStyleModel",
     "state": {
      "_model_module": "@jupyter-widgets/controls",
      "_model_module_version": "1.5.0",
      "_model_name": "DescriptionStyleModel",
      "_view_count": null,
      "_view_module": "@jupyter-widgets/base",
      "_view_module_version": "1.2.0",
      "_view_name": "StyleView",
      "description_width": ""
     }
    },
    "45636727430d45dbb4e487b11c9ef98d": {
     "model_module": "@jupyter-widgets/controls",
     "model_module_version": "1.5.0",
     "model_name": "DescriptionStyleModel",
     "state": {
      "_model_module": "@jupyter-widgets/controls",
      "_model_module_version": "1.5.0",
      "_model_name": "DescriptionStyleModel",
      "_view_count": null,
      "_view_module": "@jupyter-widgets/base",
      "_view_module_version": "1.2.0",
      "_view_name": "StyleView",
      "description_width": ""
     }
    },
    "4ad67877bec245beb843e6e97cd165c8": {
     "model_module": "@jupyter-widgets/base",
     "model_module_version": "1.2.0",
     "model_name": "LayoutModel",
     "state": {
      "_model_module": "@jupyter-widgets/base",
      "_model_module_version": "1.2.0",
      "_model_name": "LayoutModel",
      "_view_count": null,
      "_view_module": "@jupyter-widgets/base",
      "_view_module_version": "1.2.0",
      "_view_name": "LayoutView",
      "align_content": null,
      "align_items": null,
      "align_self": null,
      "border": null,
      "bottom": null,
      "display": null,
      "flex": null,
      "flex_flow": null,
      "grid_area": null,
      "grid_auto_columns": null,
      "grid_auto_flow": null,
      "grid_auto_rows": null,
      "grid_column": null,
      "grid_gap": null,
      "grid_row": null,
      "grid_template_areas": null,
      "grid_template_columns": null,
      "grid_template_rows": null,
      "height": null,
      "justify_content": null,
      "justify_items": null,
      "left": null,
      "margin": null,
      "max_height": null,
      "max_width": null,
      "min_height": null,
      "min_width": null,
      "object_fit": null,
      "object_position": null,
      "order": null,
      "overflow": null,
      "overflow_x": null,
      "overflow_y": null,
      "padding": null,
      "right": null,
      "top": null,
      "visibility": null,
      "width": null
     }
    },
    "4df37b7e231f4e18a31d608f1f028888": {
     "model_module": "@jupyter-widgets/controls",
     "model_module_version": "1.5.0",
     "model_name": "HBoxModel",
     "state": {
      "_dom_classes": [],
      "_model_module": "@jupyter-widgets/controls",
      "_model_module_version": "1.5.0",
      "_model_name": "HBoxModel",
      "_view_count": null,
      "_view_module": "@jupyter-widgets/controls",
      "_view_module_version": "1.5.0",
      "_view_name": "HBoxView",
      "box_style": "",
      "children": [
       "IPY_MODEL_0cb001353d07496aae9ec70018e03b44",
       "IPY_MODEL_f9fdc585b2284ec78d6b07f4f6e6a27a",
       "IPY_MODEL_2e02dc2ffadd4b2ca810faba3e94b335"
      ],
      "layout": "IPY_MODEL_196d912db8ac41b08483e875550b1810"
     }
    },
    "5aa64fdf1c234b6ba2bf7b0ad9cf7b03": {
     "model_module": "@jupyter-widgets/controls",
     "model_module_version": "1.5.0",
     "model_name": "ProgressStyleModel",
     "state": {
      "_model_module": "@jupyter-widgets/controls",
      "_model_module_version": "1.5.0",
      "_model_name": "ProgressStyleModel",
      "_view_count": null,
      "_view_module": "@jupyter-widgets/base",
      "_view_module_version": "1.2.0",
      "_view_name": "StyleView",
      "bar_color": null,
      "description_width": ""
     }
    },
    "5b9b6817788a4158a7b3ee3f13babba3": {
     "model_module": "@jupyter-widgets/controls",
     "model_module_version": "1.5.0",
     "model_name": "DescriptionStyleModel",
     "state": {
      "_model_module": "@jupyter-widgets/controls",
      "_model_module_version": "1.5.0",
      "_model_name": "DescriptionStyleModel",
      "_view_count": null,
      "_view_module": "@jupyter-widgets/base",
      "_view_module_version": "1.2.0",
      "_view_name": "StyleView",
      "description_width": ""
     }
    },
    "5ca3e1708500490686913637debd7de4": {
     "model_module": "@jupyter-widgets/base",
     "model_module_version": "1.2.0",
     "model_name": "LayoutModel",
     "state": {
      "_model_module": "@jupyter-widgets/base",
      "_model_module_version": "1.2.0",
      "_model_name": "LayoutModel",
      "_view_count": null,
      "_view_module": "@jupyter-widgets/base",
      "_view_module_version": "1.2.0",
      "_view_name": "LayoutView",
      "align_content": null,
      "align_items": null,
      "align_self": null,
      "border": null,
      "bottom": null,
      "display": null,
      "flex": null,
      "flex_flow": null,
      "grid_area": null,
      "grid_auto_columns": null,
      "grid_auto_flow": null,
      "grid_auto_rows": null,
      "grid_column": null,
      "grid_gap": null,
      "grid_row": null,
      "grid_template_areas": null,
      "grid_template_columns": null,
      "grid_template_rows": null,
      "height": null,
      "justify_content": null,
      "justify_items": null,
      "left": null,
      "margin": null,
      "max_height": null,
      "max_width": null,
      "min_height": null,
      "min_width": null,
      "object_fit": null,
      "object_position": null,
      "order": null,
      "overflow": null,
      "overflow_x": null,
      "overflow_y": null,
      "padding": null,
      "right": null,
      "top": null,
      "visibility": null,
      "width": null
     }
    },
    "6445bbed02094ce7942f3cf824f5dc88": {
     "model_module": "@jupyter-widgets/base",
     "model_module_version": "1.2.0",
     "model_name": "LayoutModel",
     "state": {
      "_model_module": "@jupyter-widgets/base",
      "_model_module_version": "1.2.0",
      "_model_name": "LayoutModel",
      "_view_count": null,
      "_view_module": "@jupyter-widgets/base",
      "_view_module_version": "1.2.0",
      "_view_name": "LayoutView",
      "align_content": null,
      "align_items": null,
      "align_self": null,
      "border": null,
      "bottom": null,
      "display": null,
      "flex": null,
      "flex_flow": null,
      "grid_area": null,
      "grid_auto_columns": null,
      "grid_auto_flow": null,
      "grid_auto_rows": null,
      "grid_column": null,
      "grid_gap": null,
      "grid_row": null,
      "grid_template_areas": null,
      "grid_template_columns": null,
      "grid_template_rows": null,
      "height": null,
      "justify_content": null,
      "justify_items": null,
      "left": null,
      "margin": null,
      "max_height": null,
      "max_width": null,
      "min_height": null,
      "min_width": null,
      "object_fit": null,
      "object_position": null,
      "order": null,
      "overflow": null,
      "overflow_x": null,
      "overflow_y": null,
      "padding": null,
      "right": null,
      "top": null,
      "visibility": null,
      "width": null
     }
    },
    "6aa7bf2eec1c475ca9197d659411466c": {
     "model_module": "@jupyter-widgets/base",
     "model_module_version": "1.2.0",
     "model_name": "LayoutModel",
     "state": {
      "_model_module": "@jupyter-widgets/base",
      "_model_module_version": "1.2.0",
      "_model_name": "LayoutModel",
      "_view_count": null,
      "_view_module": "@jupyter-widgets/base",
      "_view_module_version": "1.2.0",
      "_view_name": "LayoutView",
      "align_content": null,
      "align_items": null,
      "align_self": null,
      "border": null,
      "bottom": null,
      "display": null,
      "flex": null,
      "flex_flow": null,
      "grid_area": null,
      "grid_auto_columns": null,
      "grid_auto_flow": null,
      "grid_auto_rows": null,
      "grid_column": null,
      "grid_gap": null,
      "grid_row": null,
      "grid_template_areas": null,
      "grid_template_columns": null,
      "grid_template_rows": null,
      "height": null,
      "justify_content": null,
      "justify_items": null,
      "left": null,
      "margin": null,
      "max_height": null,
      "max_width": null,
      "min_height": null,
      "min_width": null,
      "object_fit": null,
      "object_position": null,
      "order": null,
      "overflow": null,
      "overflow_x": null,
      "overflow_y": null,
      "padding": null,
      "right": null,
      "top": null,
      "visibility": null,
      "width": null
     }
    },
    "72f3ea2de5684683b7823b9a5079a9b2": {
     "model_module": "@jupyter-widgets/base",
     "model_module_version": "1.2.0",
     "model_name": "LayoutModel",
     "state": {
      "_model_module": "@jupyter-widgets/base",
      "_model_module_version": "1.2.0",
      "_model_name": "LayoutModel",
      "_view_count": null,
      "_view_module": "@jupyter-widgets/base",
      "_view_module_version": "1.2.0",
      "_view_name": "LayoutView",
      "align_content": null,
      "align_items": null,
      "align_self": null,
      "border": null,
      "bottom": null,
      "display": null,
      "flex": null,
      "flex_flow": null,
      "grid_area": null,
      "grid_auto_columns": null,
      "grid_auto_flow": null,
      "grid_auto_rows": null,
      "grid_column": null,
      "grid_gap": null,
      "grid_row": null,
      "grid_template_areas": null,
      "grid_template_columns": null,
      "grid_template_rows": null,
      "height": null,
      "justify_content": null,
      "justify_items": null,
      "left": null,
      "margin": null,
      "max_height": null,
      "max_width": null,
      "min_height": null,
      "min_width": null,
      "object_fit": null,
      "object_position": null,
      "order": null,
      "overflow": null,
      "overflow_x": null,
      "overflow_y": null,
      "padding": null,
      "right": null,
      "top": null,
      "visibility": null,
      "width": null
     }
    },
    "77e373f3d23849f384e0c7dcc19444bd": {
     "model_module": "@jupyter-widgets/base",
     "model_module_version": "1.2.0",
     "model_name": "LayoutModel",
     "state": {
      "_model_module": "@jupyter-widgets/base",
      "_model_module_version": "1.2.0",
      "_model_name": "LayoutModel",
      "_view_count": null,
      "_view_module": "@jupyter-widgets/base",
      "_view_module_version": "1.2.0",
      "_view_name": "LayoutView",
      "align_content": null,
      "align_items": null,
      "align_self": null,
      "border": null,
      "bottom": null,
      "display": null,
      "flex": null,
      "flex_flow": null,
      "grid_area": null,
      "grid_auto_columns": null,
      "grid_auto_flow": null,
      "grid_auto_rows": null,
      "grid_column": null,
      "grid_gap": null,
      "grid_row": null,
      "grid_template_areas": null,
      "grid_template_columns": null,
      "grid_template_rows": null,
      "height": null,
      "justify_content": null,
      "justify_items": null,
      "left": null,
      "margin": null,
      "max_height": null,
      "max_width": null,
      "min_height": null,
      "min_width": null,
      "object_fit": null,
      "object_position": null,
      "order": null,
      "overflow": null,
      "overflow_x": null,
      "overflow_y": null,
      "padding": null,
      "right": null,
      "top": null,
      "visibility": null,
      "width": null
     }
    },
    "7b6b59797bc04377b99484dba8d3a04a": {
     "model_module": "@jupyter-widgets/controls",
     "model_module_version": "1.5.0",
     "model_name": "DescriptionStyleModel",
     "state": {
      "_model_module": "@jupyter-widgets/controls",
      "_model_module_version": "1.5.0",
      "_model_name": "DescriptionStyleModel",
      "_view_count": null,
      "_view_module": "@jupyter-widgets/base",
      "_view_module_version": "1.2.0",
      "_view_name": "StyleView",
      "description_width": ""
     }
    },
    "7eb24d5002514b95bac99022cf63e7de": {
     "model_module": "@jupyter-widgets/controls",
     "model_module_version": "1.5.0",
     "model_name": "HTMLModel",
     "state": {
      "_dom_classes": [],
      "_model_module": "@jupyter-widgets/controls",
      "_model_module_version": "1.5.0",
      "_model_name": "HTMLModel",
      "_view_count": null,
      "_view_module": "@jupyter-widgets/controls",
      "_view_module_version": "1.5.0",
      "_view_name": "HTMLView",
      "description": "",
      "description_tooltip": null,
      "layout": "IPY_MODEL_968c2c2597c04472a9133c30a9407d16",
      "placeholder": "​",
      "style": "IPY_MODEL_efdf32d718044a289678064d0b4529dc",
      "value": "spiece.model: 100%"
     }
    },
    "7f86764443fb46ab86de74012551b129": {
     "model_module": "@jupyter-widgets/base",
     "model_module_version": "1.2.0",
     "model_name": "LayoutModel",
     "state": {
      "_model_module": "@jupyter-widgets/base",
      "_model_module_version": "1.2.0",
      "_model_name": "LayoutModel",
      "_view_count": null,
      "_view_module": "@jupyter-widgets/base",
      "_view_module_version": "1.2.0",
      "_view_name": "LayoutView",
      "align_content": null,
      "align_items": null,
      "align_self": null,
      "border": null,
      "bottom": null,
      "display": null,
      "flex": null,
      "flex_flow": null,
      "grid_area": null,
      "grid_auto_columns": null,
      "grid_auto_flow": null,
      "grid_auto_rows": null,
      "grid_column": null,
      "grid_gap": null,
      "grid_row": null,
      "grid_template_areas": null,
      "grid_template_columns": null,
      "grid_template_rows": null,
      "height": null,
      "justify_content": null,
      "justify_items": null,
      "left": null,
      "margin": null,
      "max_height": null,
      "max_width": null,
      "min_height": null,
      "min_width": null,
      "object_fit": null,
      "object_position": null,
      "order": null,
      "overflow": null,
      "overflow_x": null,
      "overflow_y": null,
      "padding": null,
      "right": null,
      "top": null,
      "visibility": null,
      "width": null
     }
    },
    "84fe9658d51346db84696248ec23e929": {
     "model_module": "@jupyter-widgets/controls",
     "model_module_version": "1.5.0",
     "model_name": "HBoxModel",
     "state": {
      "_dom_classes": [],
      "_model_module": "@jupyter-widgets/controls",
      "_model_module_version": "1.5.0",
      "_model_name": "HBoxModel",
      "_view_count": null,
      "_view_module": "@jupyter-widgets/controls",
      "_view_module_version": "1.5.0",
      "_view_name": "HBoxView",
      "box_style": "",
      "children": [
       "IPY_MODEL_035df2920a0d45f581c58e3380258e39",
       "IPY_MODEL_16faf414c2f94938b3187ee09093ce5c",
       "IPY_MODEL_ba8411e888fe4f12969e0e6282b47319"
      ],
      "layout": "IPY_MODEL_4ad67877bec245beb843e6e97cd165c8"
     }
    },
    "861fc17d3e9647c197a72a0b111579dc": {
     "model_module": "@jupyter-widgets/base",
     "model_module_version": "1.2.0",
     "model_name": "LayoutModel",
     "state": {
      "_model_module": "@jupyter-widgets/base",
      "_model_module_version": "1.2.0",
      "_model_name": "LayoutModel",
      "_view_count": null,
      "_view_module": "@jupyter-widgets/base",
      "_view_module_version": "1.2.0",
      "_view_name": "LayoutView",
      "align_content": null,
      "align_items": null,
      "align_self": null,
      "border": null,
      "bottom": null,
      "display": null,
      "flex": null,
      "flex_flow": null,
      "grid_area": null,
      "grid_auto_columns": null,
      "grid_auto_flow": null,
      "grid_auto_rows": null,
      "grid_column": null,
      "grid_gap": null,
      "grid_row": null,
      "grid_template_areas": null,
      "grid_template_columns": null,
      "grid_template_rows": null,
      "height": null,
      "justify_content": null,
      "justify_items": null,
      "left": null,
      "margin": null,
      "max_height": null,
      "max_width": null,
      "min_height": null,
      "min_width": null,
      "object_fit": null,
      "object_position": null,
      "order": null,
      "overflow": null,
      "overflow_x": null,
      "overflow_y": null,
      "padding": null,
      "right": null,
      "top": null,
      "visibility": null,
      "width": null
     }
    },
    "868677f004654e398febdb8924353d15": {
     "model_module": "@jupyter-widgets/controls",
     "model_module_version": "1.5.0",
     "model_name": "DescriptionStyleModel",
     "state": {
      "_model_module": "@jupyter-widgets/controls",
      "_model_module_version": "1.5.0",
      "_model_name": "DescriptionStyleModel",
      "_view_count": null,
      "_view_module": "@jupyter-widgets/base",
      "_view_module_version": "1.2.0",
      "_view_name": "StyleView",
      "description_width": ""
     }
    },
    "87025b8a22474c8a91d00068a559e632": {
     "model_module": "@jupyter-widgets/base",
     "model_module_version": "1.2.0",
     "model_name": "LayoutModel",
     "state": {
      "_model_module": "@jupyter-widgets/base",
      "_model_module_version": "1.2.0",
      "_model_name": "LayoutModel",
      "_view_count": null,
      "_view_module": "@jupyter-widgets/base",
      "_view_module_version": "1.2.0",
      "_view_name": "LayoutView",
      "align_content": null,
      "align_items": null,
      "align_self": null,
      "border": null,
      "bottom": null,
      "display": null,
      "flex": null,
      "flex_flow": null,
      "grid_area": null,
      "grid_auto_columns": null,
      "grid_auto_flow": null,
      "grid_auto_rows": null,
      "grid_column": null,
      "grid_gap": null,
      "grid_row": null,
      "grid_template_areas": null,
      "grid_template_columns": null,
      "grid_template_rows": null,
      "height": null,
      "justify_content": null,
      "justify_items": null,
      "left": null,
      "margin": null,
      "max_height": null,
      "max_width": null,
      "min_height": null,
      "min_width": null,
      "object_fit": null,
      "object_position": null,
      "order": null,
      "overflow": null,
      "overflow_x": null,
      "overflow_y": null,
      "padding": null,
      "right": null,
      "top": null,
      "visibility": null,
      "width": null
     }
    },
    "8b4f35bd75b64addbc42b8424230798f": {
     "model_module": "@jupyter-widgets/base",
     "model_module_version": "1.2.0",
     "model_name": "LayoutModel",
     "state": {
      "_model_module": "@jupyter-widgets/base",
      "_model_module_version": "1.2.0",
      "_model_name": "LayoutModel",
      "_view_count": null,
      "_view_module": "@jupyter-widgets/base",
      "_view_module_version": "1.2.0",
      "_view_name": "LayoutView",
      "align_content": null,
      "align_items": null,
      "align_self": null,
      "border": null,
      "bottom": null,
      "display": null,
      "flex": null,
      "flex_flow": null,
      "grid_area": null,
      "grid_auto_columns": null,
      "grid_auto_flow": null,
      "grid_auto_rows": null,
      "grid_column": null,
      "grid_gap": null,
      "grid_row": null,
      "grid_template_areas": null,
      "grid_template_columns": null,
      "grid_template_rows": null,
      "height": null,
      "justify_content": null,
      "justify_items": null,
      "left": null,
      "margin": null,
      "max_height": null,
      "max_width": null,
      "min_height": null,
      "min_width": null,
      "object_fit": null,
      "object_position": null,
      "order": null,
      "overflow": null,
      "overflow_x": null,
      "overflow_y": null,
      "padding": null,
      "right": null,
      "top": null,
      "visibility": null,
      "width": null
     }
    },
    "8c83f96447ed4201a22fdc021b6ab826": {
     "model_module": "@jupyter-widgets/base",
     "model_module_version": "1.2.0",
     "model_name": "LayoutModel",
     "state": {
      "_model_module": "@jupyter-widgets/base",
      "_model_module_version": "1.2.0",
      "_model_name": "LayoutModel",
      "_view_count": null,
      "_view_module": "@jupyter-widgets/base",
      "_view_module_version": "1.2.0",
      "_view_name": "LayoutView",
      "align_content": null,
      "align_items": null,
      "align_self": null,
      "border": null,
      "bottom": null,
      "display": null,
      "flex": null,
      "flex_flow": null,
      "grid_area": null,
      "grid_auto_columns": null,
      "grid_auto_flow": null,
      "grid_auto_rows": null,
      "grid_column": null,
      "grid_gap": null,
      "grid_row": null,
      "grid_template_areas": null,
      "grid_template_columns": null,
      "grid_template_rows": null,
      "height": null,
      "justify_content": null,
      "justify_items": null,
      "left": null,
      "margin": null,
      "max_height": null,
      "max_width": null,
      "min_height": null,
      "min_width": null,
      "object_fit": null,
      "object_position": null,
      "order": null,
      "overflow": null,
      "overflow_x": null,
      "overflow_y": null,
      "padding": null,
      "right": null,
      "top": null,
      "visibility": null,
      "width": null
     }
    },
    "93f10cc2ba0743a9bf61c4a3a465c230": {
     "model_module": "@jupyter-widgets/controls",
     "model_module_version": "1.5.0",
     "model_name": "ProgressStyleModel",
     "state": {
      "_model_module": "@jupyter-widgets/controls",
      "_model_module_version": "1.5.0",
      "_model_name": "ProgressStyleModel",
      "_view_count": null,
      "_view_module": "@jupyter-widgets/base",
      "_view_module_version": "1.2.0",
      "_view_name": "StyleView",
      "bar_color": null,
      "description_width": ""
     }
    },
    "968c2c2597c04472a9133c30a9407d16": {
     "model_module": "@jupyter-widgets/base",
     "model_module_version": "1.2.0",
     "model_name": "LayoutModel",
     "state": {
      "_model_module": "@jupyter-widgets/base",
      "_model_module_version": "1.2.0",
      "_model_name": "LayoutModel",
      "_view_count": null,
      "_view_module": "@jupyter-widgets/base",
      "_view_module_version": "1.2.0",
      "_view_name": "LayoutView",
      "align_content": null,
      "align_items": null,
      "align_self": null,
      "border": null,
      "bottom": null,
      "display": null,
      "flex": null,
      "flex_flow": null,
      "grid_area": null,
      "grid_auto_columns": null,
      "grid_auto_flow": null,
      "grid_auto_rows": null,
      "grid_column": null,
      "grid_gap": null,
      "grid_row": null,
      "grid_template_areas": null,
      "grid_template_columns": null,
      "grid_template_rows": null,
      "height": null,
      "justify_content": null,
      "justify_items": null,
      "left": null,
      "margin": null,
      "max_height": null,
      "max_width": null,
      "min_height": null,
      "min_width": null,
      "object_fit": null,
      "object_position": null,
      "order": null,
      "overflow": null,
      "overflow_x": null,
      "overflow_y": null,
      "padding": null,
      "right": null,
      "top": null,
      "visibility": null,
      "width": null
     }
    },
    "9a8b2fef829442ae87e0b299abc24962": {
     "model_module": "@jupyter-widgets/base",
     "model_module_version": "1.2.0",
     "model_name": "LayoutModel",
     "state": {
      "_model_module": "@jupyter-widgets/base",
      "_model_module_version": "1.2.0",
      "_model_name": "LayoutModel",
      "_view_count": null,
      "_view_module": "@jupyter-widgets/base",
      "_view_module_version": "1.2.0",
      "_view_name": "LayoutView",
      "align_content": null,
      "align_items": null,
      "align_self": null,
      "border": null,
      "bottom": null,
      "display": null,
      "flex": null,
      "flex_flow": null,
      "grid_area": null,
      "grid_auto_columns": null,
      "grid_auto_flow": null,
      "grid_auto_rows": null,
      "grid_column": null,
      "grid_gap": null,
      "grid_row": null,
      "grid_template_areas": null,
      "grid_template_columns": null,
      "grid_template_rows": null,
      "height": null,
      "justify_content": null,
      "justify_items": null,
      "left": null,
      "margin": null,
      "max_height": null,
      "max_width": null,
      "min_height": null,
      "min_width": null,
      "object_fit": null,
      "object_position": null,
      "order": null,
      "overflow": null,
      "overflow_x": null,
      "overflow_y": null,
      "padding": null,
      "right": null,
      "top": null,
      "visibility": null,
      "width": null
     }
    },
    "a8a24346f0af479481636af21ed3b7fe": {
     "model_module": "@jupyter-widgets/controls",
     "model_module_version": "1.5.0",
     "model_name": "HTMLModel",
     "state": {
      "_dom_classes": [],
      "_model_module": "@jupyter-widgets/controls",
      "_model_module_version": "1.5.0",
      "_model_name": "HTMLModel",
      "_view_count": null,
      "_view_module": "@jupyter-widgets/controls",
      "_view_module_version": "1.5.0",
      "_view_name": "HTMLView",
      "description": "",
      "description_tooltip": null,
      "layout": "IPY_MODEL_861fc17d3e9647c197a72a0b111579dc",
      "placeholder": "​",
      "style": "IPY_MODEL_bacc9b7bac2d4efb92933d5e53cc84d6",
      "value": " 1.39M/1.39M [00:00&lt;00:00, 15.2MB/s]"
     }
    },
    "ac0d3700dd4b40638483b52ffff396fc": {
     "model_module": "@jupyter-widgets/controls",
     "model_module_version": "1.5.0",
     "model_name": "DescriptionStyleModel",
     "state": {
      "_model_module": "@jupyter-widgets/controls",
      "_model_module_version": "1.5.0",
      "_model_name": "DescriptionStyleModel",
      "_view_count": null,
      "_view_module": "@jupyter-widgets/base",
      "_view_module_version": "1.2.0",
      "_view_name": "StyleView",
      "description_width": ""
     }
    },
    "aef8c873d51147979264f7b1ca189d2c": {
     "model_module": "@jupyter-widgets/base",
     "model_module_version": "1.2.0",
     "model_name": "LayoutModel",
     "state": {
      "_model_module": "@jupyter-widgets/base",
      "_model_module_version": "1.2.0",
      "_model_name": "LayoutModel",
      "_view_count": null,
      "_view_module": "@jupyter-widgets/base",
      "_view_module_version": "1.2.0",
      "_view_name": "LayoutView",
      "align_content": null,
      "align_items": null,
      "align_self": null,
      "border": null,
      "bottom": null,
      "display": null,
      "flex": null,
      "flex_flow": null,
      "grid_area": null,
      "grid_auto_columns": null,
      "grid_auto_flow": null,
      "grid_auto_rows": null,
      "grid_column": null,
      "grid_gap": null,
      "grid_row": null,
      "grid_template_areas": null,
      "grid_template_columns": null,
      "grid_template_rows": null,
      "height": null,
      "justify_content": null,
      "justify_items": null,
      "left": null,
      "margin": null,
      "max_height": null,
      "max_width": null,
      "min_height": null,
      "min_width": null,
      "object_fit": null,
      "object_position": null,
      "order": null,
      "overflow": null,
      "overflow_x": null,
      "overflow_y": null,
      "padding": null,
      "right": null,
      "top": null,
      "visibility": null,
      "width": null
     }
    },
    "af9a1672808f48c5ab444a3d93707860": {
     "model_module": "@jupyter-widgets/base",
     "model_module_version": "1.2.0",
     "model_name": "LayoutModel",
     "state": {
      "_model_module": "@jupyter-widgets/base",
      "_model_module_version": "1.2.0",
      "_model_name": "LayoutModel",
      "_view_count": null,
      "_view_module": "@jupyter-widgets/base",
      "_view_module_version": "1.2.0",
      "_view_name": "LayoutView",
      "align_content": null,
      "align_items": null,
      "align_self": null,
      "border": null,
      "bottom": null,
      "display": null,
      "flex": null,
      "flex_flow": null,
      "grid_area": null,
      "grid_auto_columns": null,
      "grid_auto_flow": null,
      "grid_auto_rows": null,
      "grid_column": null,
      "grid_gap": null,
      "grid_row": null,
      "grid_template_areas": null,
      "grid_template_columns": null,
      "grid_template_rows": null,
      "height": null,
      "justify_content": null,
      "justify_items": null,
      "left": null,
      "margin": null,
      "max_height": null,
      "max_width": null,
      "min_height": null,
      "min_width": null,
      "object_fit": null,
      "object_position": null,
      "order": null,
      "overflow": null,
      "overflow_x": null,
      "overflow_y": null,
      "padding": null,
      "right": null,
      "top": null,
      "visibility": null,
      "width": null
     }
    },
    "b3ab9705357e4ce988e950eaaa3041a2": {
     "model_module": "@jupyter-widgets/controls",
     "model_module_version": "1.5.0",
     "model_name": "ProgressStyleModel",
     "state": {
      "_model_module": "@jupyter-widgets/controls",
      "_model_module_version": "1.5.0",
      "_model_name": "ProgressStyleModel",
      "_view_count": null,
      "_view_module": "@jupyter-widgets/base",
      "_view_module_version": "1.2.0",
      "_view_name": "StyleView",
      "bar_color": null,
      "description_width": ""
     }
    },
    "b577722f19b94fb598c31a169de0082c": {
     "model_module": "@jupyter-widgets/base",
     "model_module_version": "1.2.0",
     "model_name": "LayoutModel",
     "state": {
      "_model_module": "@jupyter-widgets/base",
      "_model_module_version": "1.2.0",
      "_model_name": "LayoutModel",
      "_view_count": null,
      "_view_module": "@jupyter-widgets/base",
      "_view_module_version": "1.2.0",
      "_view_name": "LayoutView",
      "align_content": null,
      "align_items": null,
      "align_self": null,
      "border": null,
      "bottom": null,
      "display": null,
      "flex": null,
      "flex_flow": null,
      "grid_area": null,
      "grid_auto_columns": null,
      "grid_auto_flow": null,
      "grid_auto_rows": null,
      "grid_column": null,
      "grid_gap": null,
      "grid_row": null,
      "grid_template_areas": null,
      "grid_template_columns": null,
      "grid_template_rows": null,
      "height": null,
      "justify_content": null,
      "justify_items": null,
      "left": null,
      "margin": null,
      "max_height": null,
      "max_width": null,
      "min_height": null,
      "min_width": null,
      "object_fit": null,
      "object_position": null,
      "order": null,
      "overflow": null,
      "overflow_x": null,
      "overflow_y": null,
      "padding": null,
      "right": null,
      "top": null,
      "visibility": null,
      "width": null
     }
    },
    "ba8411e888fe4f12969e0e6282b47319": {
     "model_module": "@jupyter-widgets/controls",
     "model_module_version": "1.5.0",
     "model_name": "HTMLModel",
     "state": {
      "_dom_classes": [],
      "_model_module": "@jupyter-widgets/controls",
      "_model_module_version": "1.5.0",
      "_model_name": "HTMLModel",
      "_view_count": null,
      "_view_module": "@jupyter-widgets/controls",
      "_view_module_version": "1.5.0",
      "_view_name": "HTMLView",
      "description": "",
      "description_tooltip": null,
      "layout": "IPY_MODEL_7f86764443fb46ab86de74012551b129",
      "placeholder": "​",
      "style": "IPY_MODEL_868677f004654e398febdb8924353d15",
      "value": " 2.32k/2.32k [00:00&lt;00:00, 118kB/s]"
     }
    },
    "bacc9b7bac2d4efb92933d5e53cc84d6": {
     "model_module": "@jupyter-widgets/controls",
     "model_module_version": "1.5.0",
     "model_name": "DescriptionStyleModel",
     "state": {
      "_model_module": "@jupyter-widgets/controls",
      "_model_module_version": "1.5.0",
      "_model_name": "DescriptionStyleModel",
      "_view_count": null,
      "_view_module": "@jupyter-widgets/base",
      "_view_module_version": "1.2.0",
      "_view_name": "StyleView",
      "description_width": ""
     }
    },
    "bc2633f452f249d1b09a94520188385d": {
     "model_module": "@jupyter-widgets/controls",
     "model_module_version": "1.5.0",
     "model_name": "HBoxModel",
     "state": {
      "_dom_classes": [],
      "_model_module": "@jupyter-widgets/controls",
      "_model_module_version": "1.5.0",
      "_model_name": "HBoxModel",
      "_view_count": null,
      "_view_module": "@jupyter-widgets/controls",
      "_view_module_version": "1.5.0",
      "_view_name": "HBoxView",
      "box_style": "",
      "children": [
       "IPY_MODEL_f77853cd3c0f438fbb64928044bb4c91",
       "IPY_MODEL_ca72f073c21b4e03b7d3bd48e56a23fd",
       "IPY_MODEL_a8a24346f0af479481636af21ed3b7fe"
      ],
      "layout": "IPY_MODEL_6aa7bf2eec1c475ca9197d659411466c"
     }
    },
    "be004f590d9542d7afa1b6266b969ab7": {
     "model_module": "@jupyter-widgets/controls",
     "model_module_version": "1.5.0",
     "model_name": "DescriptionStyleModel",
     "state": {
      "_model_module": "@jupyter-widgets/controls",
      "_model_module_version": "1.5.0",
      "_model_name": "DescriptionStyleModel",
      "_view_count": null,
      "_view_module": "@jupyter-widgets/base",
      "_view_module_version": "1.2.0",
      "_view_name": "StyleView",
      "description_width": ""
     }
    },
    "c2fbb412d0654eedab399f82c45df529": {
     "model_module": "@jupyter-widgets/base",
     "model_module_version": "1.2.0",
     "model_name": "LayoutModel",
     "state": {
      "_model_module": "@jupyter-widgets/base",
      "_model_module_version": "1.2.0",
      "_model_name": "LayoutModel",
      "_view_count": null,
      "_view_module": "@jupyter-widgets/base",
      "_view_module_version": "1.2.0",
      "_view_name": "LayoutView",
      "align_content": null,
      "align_items": null,
      "align_self": null,
      "border": null,
      "bottom": null,
      "display": null,
      "flex": null,
      "flex_flow": null,
      "grid_area": null,
      "grid_auto_columns": null,
      "grid_auto_flow": null,
      "grid_auto_rows": null,
      "grid_column": null,
      "grid_gap": null,
      "grid_row": null,
      "grid_template_areas": null,
      "grid_template_columns": null,
      "grid_template_rows": null,
      "height": null,
      "justify_content": null,
      "justify_items": null,
      "left": null,
      "margin": null,
      "max_height": null,
      "max_width": null,
      "min_height": null,
      "min_width": null,
      "object_fit": null,
      "object_position": null,
      "order": null,
      "overflow": null,
      "overflow_x": null,
      "overflow_y": null,
      "padding": null,
      "right": null,
      "top": null,
      "visibility": null,
      "width": null
     }
    },
    "c606c8301a3448daa8a24d3175abc2a5": {
     "model_module": "@jupyter-widgets/controls",
     "model_module_version": "1.5.0",
     "model_name": "DescriptionStyleModel",
     "state": {
      "_model_module": "@jupyter-widgets/controls",
      "_model_module_version": "1.5.0",
      "_model_name": "DescriptionStyleModel",
      "_view_count": null,
      "_view_module": "@jupyter-widgets/base",
      "_view_module_version": "1.2.0",
      "_view_name": "StyleView",
      "description_width": ""
     }
    },
    "c91c79517bb84c23858127c252988c9d": {
     "model_module": "@jupyter-widgets/base",
     "model_module_version": "1.2.0",
     "model_name": "LayoutModel",
     "state": {
      "_model_module": "@jupyter-widgets/base",
      "_model_module_version": "1.2.0",
      "_model_name": "LayoutModel",
      "_view_count": null,
      "_view_module": "@jupyter-widgets/base",
      "_view_module_version": "1.2.0",
      "_view_name": "LayoutView",
      "align_content": null,
      "align_items": null,
      "align_self": null,
      "border": null,
      "bottom": null,
      "display": null,
      "flex": null,
      "flex_flow": null,
      "grid_area": null,
      "grid_auto_columns": null,
      "grid_auto_flow": null,
      "grid_auto_rows": null,
      "grid_column": null,
      "grid_gap": null,
      "grid_row": null,
      "grid_template_areas": null,
      "grid_template_columns": null,
      "grid_template_rows": null,
      "height": null,
      "justify_content": null,
      "justify_items": null,
      "left": null,
      "margin": null,
      "max_height": null,
      "max_width": null,
      "min_height": null,
      "min_width": null,
      "object_fit": null,
      "object_position": null,
      "order": null,
      "overflow": null,
      "overflow_x": null,
      "overflow_y": null,
      "padding": null,
      "right": null,
      "top": null,
      "visibility": null,
      "width": null
     }
    },
    "ca72f073c21b4e03b7d3bd48e56a23fd": {
     "model_module": "@jupyter-widgets/controls",
     "model_module_version": "1.5.0",
     "model_name": "FloatProgressModel",
     "state": {
      "_dom_classes": [],
      "_model_module": "@jupyter-widgets/controls",
      "_model_module_version": "1.5.0",
      "_model_name": "FloatProgressModel",
      "_view_count": null,
      "_view_module": "@jupyter-widgets/controls",
      "_view_module_version": "1.5.0",
      "_view_name": "ProgressView",
      "bar_style": "success",
      "description": "",
      "description_tooltip": null,
      "layout": "IPY_MODEL_2e2372aa53ee4e6b9c2cbab515edef77",
      "max": 1389353,
      "min": 0,
      "orientation": "horizontal",
      "style": "IPY_MODEL_b3ab9705357e4ce988e950eaaa3041a2",
      "value": 1389353
     }
    },
    "cc9cd09e263d40a8b89942edcab5d4f8": {
     "model_module": "@jupyter-widgets/controls",
     "model_module_version": "1.5.0",
     "model_name": "FloatProgressModel",
     "state": {
      "_dom_classes": [],
      "_model_module": "@jupyter-widgets/controls",
      "_model_module_version": "1.5.0",
      "_model_name": "FloatProgressModel",
      "_view_count": null,
      "_view_module": "@jupyter-widgets/controls",
      "_view_module_version": "1.5.0",
      "_view_name": "ProgressView",
      "bar_style": "success",
      "description": "",
      "description_tooltip": null,
      "layout": "IPY_MODEL_87025b8a22474c8a91d00068a559e632",
      "max": 147,
      "min": 0,
      "orientation": "horizontal",
      "style": "IPY_MODEL_3d2a71ffd50f46f8b5bee35c2346beee",
      "value": 147
     }
    },
    "dfe4368a7d024b96a198ba01d908806e": {
     "model_module": "@jupyter-widgets/controls",
     "model_module_version": "1.5.0",
     "model_name": "HTMLModel",
     "state": {
      "_dom_classes": [],
      "_model_module": "@jupyter-widgets/controls",
      "_model_module_version": "1.5.0",
      "_model_name": "HTMLModel",
      "_view_count": null,
      "_view_module": "@jupyter-widgets/controls",
      "_view_module_version": "1.5.0",
      "_view_name": "HTMLView",
      "description": "",
      "description_tooltip": null,
      "layout": "IPY_MODEL_e7b5aa326f704a34849deb4225df1b24",
      "placeholder": "​",
      "style": "IPY_MODEL_c606c8301a3448daa8a24d3175abc2a5",
      "value": "config.json: 100%"
     }
    },
    "e7b5aa326f704a34849deb4225df1b24": {
     "model_module": "@jupyter-widgets/base",
     "model_module_version": "1.2.0",
     "model_name": "LayoutModel",
     "state": {
      "_model_module": "@jupyter-widgets/base",
      "_model_module_version": "1.2.0",
      "_model_name": "LayoutModel",
      "_view_count": null,
      "_view_module": "@jupyter-widgets/base",
      "_view_module_version": "1.2.0",
      "_view_name": "LayoutView",
      "align_content": null,
      "align_items": null,
      "align_self": null,
      "border": null,
      "bottom": null,
      "display": null,
      "flex": null,
      "flex_flow": null,
      "grid_area": null,
      "grid_auto_columns": null,
      "grid_auto_flow": null,
      "grid_auto_rows": null,
      "grid_column": null,
      "grid_gap": null,
      "grid_row": null,
      "grid_template_areas": null,
      "grid_template_columns": null,
      "grid_template_rows": null,
      "height": null,
      "justify_content": null,
      "justify_items": null,
      "left": null,
      "margin": null,
      "max_height": null,
      "max_width": null,
      "min_height": null,
      "min_width": null,
      "object_fit": null,
      "object_position": null,
      "order": null,
      "overflow": null,
      "overflow_x": null,
      "overflow_y": null,
      "padding": null,
      "right": null,
      "top": null,
      "visibility": null,
      "width": null
     }
    },
    "edf09cab64ff4a6d8b05afa3b373f30d": {
     "model_module": "@jupyter-widgets/controls",
     "model_module_version": "1.5.0",
     "model_name": "HTMLModel",
     "state": {
      "_dom_classes": [],
      "_model_module": "@jupyter-widgets/controls",
      "_model_module_version": "1.5.0",
      "_model_name": "HTMLModel",
      "_view_count": null,
      "_view_module": "@jupyter-widgets/controls",
      "_view_module_version": "1.5.0",
      "_view_name": "HTMLView",
      "description": "",
      "description_tooltip": null,
      "layout": "IPY_MODEL_291abc5aea114a789da92c2a010bfeaa",
      "placeholder": "​",
      "style": "IPY_MODEL_ac0d3700dd4b40638483b52ffff396fc",
      "value": "generation_config.json: 100%"
     }
    },
    "efdf32d718044a289678064d0b4529dc": {
     "model_module": "@jupyter-widgets/controls",
     "model_module_version": "1.5.0",
     "model_name": "DescriptionStyleModel",
     "state": {
      "_model_module": "@jupyter-widgets/controls",
      "_model_module_version": "1.5.0",
      "_model_name": "DescriptionStyleModel",
      "_view_count": null,
      "_view_module": "@jupyter-widgets/base",
      "_view_module_version": "1.2.0",
      "_view_name": "StyleView",
      "description_width": ""
     }
    },
    "f4b3ac043bac4e02bcb05502e9b0cf77": {
     "model_module": "@jupyter-widgets/controls",
     "model_module_version": "1.5.0",
     "model_name": "FloatProgressModel",
     "state": {
      "_dom_classes": [],
      "_model_module": "@jupyter-widgets/controls",
      "_model_module_version": "1.5.0",
      "_model_name": "FloatProgressModel",
      "_view_count": null,
      "_view_module": "@jupyter-widgets/controls",
      "_view_module_version": "1.5.0",
      "_view_name": "ProgressView",
      "bar_style": "success",
      "description": "",
      "description_tooltip": null,
      "layout": "IPY_MODEL_c2fbb412d0654eedab399f82c45df529",
      "max": 791656,
      "min": 0,
      "orientation": "horizontal",
      "style": "IPY_MODEL_5aa64fdf1c234b6ba2bf7b0ad9cf7b03",
      "value": 791656
     }
    },
    "f56d1fe67fc3442b9da9dd1bddd2d3c1": {
     "model_module": "@jupyter-widgets/controls",
     "model_module_version": "1.5.0",
     "model_name": "HBoxModel",
     "state": {
      "_dom_classes": [],
      "_model_module": "@jupyter-widgets/controls",
      "_model_module_version": "1.5.0",
      "_model_name": "HBoxModel",
      "_view_count": null,
      "_view_module": "@jupyter-widgets/controls",
      "_view_module_version": "1.5.0",
      "_view_name": "HBoxView",
      "box_style": "",
      "children": [
       "IPY_MODEL_edf09cab64ff4a6d8b05afa3b373f30d",
       "IPY_MODEL_cc9cd09e263d40a8b89942edcab5d4f8",
       "IPY_MODEL_fdf28d6d3938459eb108992ac026b5f9"
      ],
      "layout": "IPY_MODEL_aef8c873d51147979264f7b1ca189d2c"
     }
    },
    "f77853cd3c0f438fbb64928044bb4c91": {
     "model_module": "@jupyter-widgets/controls",
     "model_module_version": "1.5.0",
     "model_name": "HTMLModel",
     "state": {
      "_dom_classes": [],
      "_model_module": "@jupyter-widgets/controls",
      "_model_module_version": "1.5.0",
      "_model_name": "HTMLModel",
      "_view_count": null,
      "_view_module": "@jupyter-widgets/controls",
      "_view_module_version": "1.5.0",
      "_view_name": "HTMLView",
      "description": "",
      "description_tooltip": null,
      "layout": "IPY_MODEL_c91c79517bb84c23858127c252988c9d",
      "placeholder": "​",
      "style": "IPY_MODEL_7b6b59797bc04377b99484dba8d3a04a",
      "value": "tokenizer.json: 100%"
     }
    },
    "f852128516f44542b0384d83c669b8e4": {
     "model_module": "@jupyter-widgets/controls",
     "model_module_version": "1.5.0",
     "model_name": "HBoxModel",
     "state": {
      "_dom_classes": [],
      "_model_module": "@jupyter-widgets/controls",
      "_model_module_version": "1.5.0",
      "_model_name": "HBoxModel",
      "_view_count": null,
      "_view_module": "@jupyter-widgets/controls",
      "_view_module_version": "1.5.0",
      "_view_name": "HBoxView",
      "box_style": "",
      "children": [
       "IPY_MODEL_7eb24d5002514b95bac99022cf63e7de",
       "IPY_MODEL_f4b3ac043bac4e02bcb05502e9b0cf77",
       "IPY_MODEL_2344b50d1951441895023086ad0d30c8"
      ],
      "layout": "IPY_MODEL_038a4fc478fa46f3988b144fb34330d3"
     }
    },
    "f9fdc585b2284ec78d6b07f4f6e6a27a": {
     "model_module": "@jupyter-widgets/controls",
     "model_module_version": "1.5.0",
     "model_name": "FloatProgressModel",
     "state": {
      "_dom_classes": [],
      "_model_module": "@jupyter-widgets/controls",
      "_model_module_version": "1.5.0",
      "_model_name": "FloatProgressModel",
      "_view_count": null,
      "_view_module": "@jupyter-widgets/controls",
      "_view_module_version": "1.5.0",
      "_view_name": "ProgressView",
      "bar_style": "success",
      "description": "",
      "description_tooltip": null,
      "layout": "IPY_MODEL_01f9063bbf1048d1ae4bd3af427bad03",
      "max": 242043056,
      "min": 0,
      "orientation": "horizontal",
      "style": "IPY_MODEL_93f10cc2ba0743a9bf61c4a3a465c230",
      "value": 242043056
     }
    },
    "fdf28d6d3938459eb108992ac026b5f9": {
     "model_module": "@jupyter-widgets/controls",
     "model_module_version": "1.5.0",
     "model_name": "HTMLModel",
     "state": {
      "_dom_classes": [],
      "_model_module": "@jupyter-widgets/controls",
      "_model_module_version": "1.5.0",
      "_model_name": "HTMLModel",
      "_view_count": null,
      "_view_module": "@jupyter-widgets/controls",
      "_view_module_version": "1.5.0",
      "_view_name": "HTMLView",
      "description": "",
      "description_tooltip": null,
      "layout": "IPY_MODEL_6445bbed02094ce7942f3cf824f5dc88",
      "placeholder": "​",
      "style": "IPY_MODEL_be004f590d9542d7afa1b6266b969ab7",
      "value": " 147/147 [00:00&lt;00:00, 6.67kB/s]"
     }
    }
   }
  }
 },
 "nbformat": 4,
 "nbformat_minor": 0
}
