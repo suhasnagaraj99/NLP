{
 "cells": [
  {
   "cell_type": "code",
   "execution_count": 4,
   "metadata": {
    "id": "7U0CiExl8ff6"
   },
   "outputs": [],
   "source": [
    "import os\n",
    "os.environ[\"WANDB_MODE\"] = \"disabled\"\n"
   ]
  },
  {
   "cell_type": "code",
   "execution_count": 5,
   "metadata": {
    "colab": {
     "base_uri": "https://localhost:8080/"
    },
    "id": "VdGG86vbnkdZ",
    "outputId": "da93e5fc-8cca-40f3-8cbb-1ec99768aa1d"
   },
   "outputs": [],
   "source": [
    "from transformers import AutoTokenizer, AutoModelForSeq2SeqLM, DataCollatorForSeq2Seq, Seq2SeqTrainingArguments, Seq2SeqTrainer\n",
    "import torch\n",
    "import numpy as np\n",
    "from torch.utils.data import Dataset, DataLoader\n",
    "from tqdm import tqdm"
   ]
  },
  {
   "cell_type": "code",
   "execution_count": 6,
   "metadata": {
    "id": "8iqM4VL6dBQh"
   },
   "outputs": [],
   "source": [
    "from torch.utils.data import Dataset\n",
    "import pandas as pd\n",
    "\n",
    "class TextToTextDataset(Dataset):\n",
    "    def __init__(self, csv_file, tokenizer):\n",
    "        self.data = pd.read_csv(csv_file)\n",
    "        self.tokenizer = tokenizer\n",
    "\n",
    "    def __len__(self):\n",
    "        return len(self.data)\n",
    "\n",
    "    def __getitem__(self, idx):\n",
    "        input_text = self.data.iloc[idx]['Input_text']\n",
    "        output_text = self.data.iloc[idx]['Output_text']\n",
    "\n",
    "        input_tokens = self.tokenizer(input_text, truncation=True, padding='max_length', max_length=128, return_tensors='pt')\n",
    "        output_tokens = self.tokenizer(output_text, truncation=True, padding='max_length', max_length=128, return_tensors='pt')\n",
    "\n",
    "        return {\n",
    "            'input_ids': input_tokens['input_ids'].squeeze(),\n",
    "            'attention_mask': input_tokens['attention_mask'].squeeze(),\n",
    "            'labels': output_tokens['input_ids'].squeeze()\n",
    "        }"
   ]
  },
  {
   "cell_type": "code",
   "execution_count": 7,
   "metadata": {
    "colab": {
     "base_uri": "https://localhost:8080/",
     "height": 333,
     "referenced_widgets": [
      "65e906a639a342cebdb11fbba1435510",
      "32634f7ebdb34dc2b2736a64eec54553",
      "000c11910071462d9d2254c917886e65",
      "e45df6bbf72840d8af5b04f76c23312a",
      "89b9a90b5a474f3caf7fd3a7bf26cf40",
      "bd93443233d348d9ad50c16d5892ffe0",
      "ea389e1af8c443c2b06a3667dba5a77f",
      "cecad32c5c3240038ed8bf7cea31a12c",
      "7374ea0bee2248b68f6603a78a89000c",
      "a470e1825e904baeb086296db00caea5",
      "9a359928cae947b9a57ac544047a3203",
      "0e9e92b258974fb683e25e463698bdcf",
      "8283b228f0f141fd918a55b1abddd0a4",
      "cb6369537a684c1dbf4b08b5a4a443a0",
      "a3001dca1b5b4b7d8a02486736189518",
      "aea807044ed349a187105a31f652819e",
      "99f441874026468cb608b19ca1cee2d0",
      "58f21c90a2de4695b1ae24d3aae690d4",
      "9021f0781b1444778d1793b0799dce23",
      "0c0c49c0f074484296bf1276ce85250d",
      "fa36f4b4f94443b2aa26fb2a14b792db",
      "1cd81200aa30422aa32c2802c7dd8a29",
      "1d3b3c102fcd43d7bc0976a29bc12be8",
      "a52041a7a70446a4b19693e1ba06fec9",
      "eb0fafd0f801403b8cb23bb1cb4462dc",
      "3dac56d590e746f389bf17e98cde8737",
      "281c9b7e94cd479aa5c39cd810f94412",
      "09de98b618514b6097e8ae8b048faedf",
      "8d2606853bfc4fdca529bd826add3e8f",
      "de80546adaef4957b60f6219e85c397b",
      "ce356e88af404b888eb4fc1a4724f068",
      "e67f31179b744075b7d4281ad6828ee6",
      "4090f7d206e6402697ca8719f4b37de9",
      "47b06c475a9c4fa99f581bb6d733569d",
      "25946df617c74c6cb03f054d03e703fa",
      "b47ba91ccd68481094257c1fd48d975d",
      "e96b3bb82ae14be39b569ad2083a4180",
      "e07f0a58cf264ee4a2b4b3cc0dc7e308",
      "add656b45fb843ed89d663668f69f1c6",
      "def69d3e530841e796483c73203f645a",
      "ae041ca444e243eca502bd99712420b1",
      "39446c18dc224bd3b1d25b963045e7ed",
      "fe716c829eb94899b68b61a995ba7a0c",
      "f52609a2991347f0a4fa5ea9817b186b",
      "6aab5187eee848168c6e9c3dd4bb31e5",
      "8a017c8d44fc4a4e94943f507fd155cd",
      "cfff8a19fdd54e8d8d6a88ab133419a3",
      "e5e872fb824248e89e8f4c02da86fa83",
      "a41f1a03576349d2911b5ead6574df1b",
      "a6250d5e5b0b4eb6a7255192d5ba63e5",
      "954e388cb4d04371978714e24b768f98",
      "aee257cfc63e4723b0c5138f03c25ddc",
      "5e97bd1da2834f6482f1abf91f985e12",
      "f2a1bea5938e450eaf75c363c335e77d",
      "15ec1f5e342d4c9e9de75ee7dcf8d2b5",
      "3544fa009b504835b5c2bc215fac1044",
      "b3eced3e561b4ad88c43860ec9aaa907",
      "71be09db79c54bf481c94c457697241a",
      "b5873d1c39ae446e8ae6099993dc88ca",
      "1d8bc0c2f5324938a386b6c8a97bec41",
      "6d58d219bd4a4eab83fdb6431d4d8d09",
      "2e018a4823384af29f155e11328e77cc",
      "6ab60ed0d2534290b9e9676b09ef1759",
      "d0c39787e3614772a5b131b0c168ca89",
      "209b685fb67a4d06b0adf3e13cee50fc",
      "2e09ce67fbe14799a78762f3b35dfa0b"
     ]
    },
    "id": "XTQbAUoqacK7",
    "outputId": "92c99978-7d03-4585-9f57-1f1a8ff67f14"
   },
   "outputs": [],
   "source": [
    "from transformers import AutoTokenizer, AutoModelForSeq2SeqLM, Seq2SeqTrainingArguments, Seq2SeqTrainer, DataCollatorForSeq2Seq\n",
    "\n",
    "# Load the tokenizer and model\n",
    "model_checkpoint = \"t5-small\"  # You can use any other seq2seq model like 'bart-base'\n",
    "tokenizer = AutoTokenizer.from_pretrained(model_checkpoint)\n",
    "model = AutoModelForSeq2SeqLM.from_pretrained(model_checkpoint)"
   ]
  },
  {
   "cell_type": "code",
   "execution_count": 8,
   "metadata": {
    "colab": {
     "base_uri": "https://localhost:8080/"
    },
    "id": "Xqkt723Ofz8A",
    "outputId": "0a275770-a552-4996-ebec-ebbe4813d9d0"
   },
   "outputs": [
    {
     "name": "stdout",
     "output_type": "stream",
     "text": [
      "Total parameters: 60,506,624\n",
      "Trainable parameters: 60,506,624\n",
      "Percentage of trainable parameters: 100.00%\n"
     ]
    }
   ],
   "source": [
    "def count_parameters(model):\n",
    "    total_params = sum(p.numel() for p in model.parameters())\n",
    "    trainable_params = sum(p.numel() for p in model.parameters() if p.requires_grad)\n",
    "    print(f\"Total parameters: {total_params:,}\")\n",
    "    print(f\"Trainable parameters: {trainable_params:,}\")\n",
    "    print(f\"Percentage of trainable parameters: {100 * trainable_params / total_params:.2f}%\")\n",
    "\n",
    "\n",
    "count_parameters(model)"
   ]
  },
  {
   "cell_type": "code",
   "execution_count": 9,
   "metadata": {
    "colab": {
     "base_uri": "https://localhost:8080/"
    },
    "id": "obi-AjZaTNuv",
    "outputId": "4ddc6008-dcb8-4ea3-efd7-80108800dc22"
   },
   "outputs": [
    {
     "name": "stdout",
     "output_type": "stream",
     "text": [
      "shared.weight: trainable\n",
      "encoder.block.0.layer.0.SelfAttention.q.weight: trainable\n",
      "encoder.block.0.layer.0.SelfAttention.k.weight: trainable\n",
      "encoder.block.0.layer.0.SelfAttention.v.weight: trainable\n",
      "encoder.block.0.layer.0.SelfAttention.o.weight: trainable\n",
      "encoder.block.0.layer.0.SelfAttention.relative_attention_bias.weight: trainable\n",
      "encoder.block.0.layer.0.layer_norm.weight: trainable\n",
      "encoder.block.0.layer.1.DenseReluDense.wi.weight: trainable\n",
      "encoder.block.0.layer.1.DenseReluDense.wo.weight: trainable\n",
      "encoder.block.0.layer.1.layer_norm.weight: trainable\n",
      "encoder.block.1.layer.0.SelfAttention.q.weight: trainable\n",
      "encoder.block.1.layer.0.SelfAttention.k.weight: trainable\n",
      "encoder.block.1.layer.0.SelfAttention.v.weight: trainable\n",
      "encoder.block.1.layer.0.SelfAttention.o.weight: trainable\n",
      "encoder.block.1.layer.0.layer_norm.weight: trainable\n",
      "encoder.block.1.layer.1.DenseReluDense.wi.weight: trainable\n",
      "encoder.block.1.layer.1.DenseReluDense.wo.weight: trainable\n",
      "encoder.block.1.layer.1.layer_norm.weight: trainable\n",
      "encoder.block.2.layer.0.SelfAttention.q.weight: trainable\n",
      "encoder.block.2.layer.0.SelfAttention.k.weight: trainable\n",
      "encoder.block.2.layer.0.SelfAttention.v.weight: trainable\n",
      "encoder.block.2.layer.0.SelfAttention.o.weight: trainable\n",
      "encoder.block.2.layer.0.layer_norm.weight: trainable\n",
      "encoder.block.2.layer.1.DenseReluDense.wi.weight: trainable\n",
      "encoder.block.2.layer.1.DenseReluDense.wo.weight: trainable\n",
      "encoder.block.2.layer.1.layer_norm.weight: trainable\n",
      "encoder.block.3.layer.0.SelfAttention.q.weight: trainable\n",
      "encoder.block.3.layer.0.SelfAttention.k.weight: trainable\n",
      "encoder.block.3.layer.0.SelfAttention.v.weight: trainable\n",
      "encoder.block.3.layer.0.SelfAttention.o.weight: trainable\n",
      "encoder.block.3.layer.0.layer_norm.weight: trainable\n",
      "encoder.block.3.layer.1.DenseReluDense.wi.weight: trainable\n",
      "encoder.block.3.layer.1.DenseReluDense.wo.weight: trainable\n",
      "encoder.block.3.layer.1.layer_norm.weight: trainable\n",
      "encoder.block.4.layer.0.SelfAttention.q.weight: trainable\n",
      "encoder.block.4.layer.0.SelfAttention.k.weight: trainable\n",
      "encoder.block.4.layer.0.SelfAttention.v.weight: trainable\n",
      "encoder.block.4.layer.0.SelfAttention.o.weight: trainable\n",
      "encoder.block.4.layer.0.layer_norm.weight: trainable\n",
      "encoder.block.4.layer.1.DenseReluDense.wi.weight: trainable\n",
      "encoder.block.4.layer.1.DenseReluDense.wo.weight: trainable\n",
      "encoder.block.4.layer.1.layer_norm.weight: trainable\n",
      "encoder.block.5.layer.0.SelfAttention.q.weight: trainable\n",
      "encoder.block.5.layer.0.SelfAttention.k.weight: trainable\n",
      "encoder.block.5.layer.0.SelfAttention.v.weight: trainable\n",
      "encoder.block.5.layer.0.SelfAttention.o.weight: trainable\n",
      "encoder.block.5.layer.0.layer_norm.weight: trainable\n",
      "encoder.block.5.layer.1.DenseReluDense.wi.weight: trainable\n",
      "encoder.block.5.layer.1.DenseReluDense.wo.weight: trainable\n",
      "encoder.block.5.layer.1.layer_norm.weight: trainable\n",
      "encoder.final_layer_norm.weight: trainable\n",
      "decoder.block.0.layer.0.SelfAttention.q.weight: trainable\n",
      "decoder.block.0.layer.0.SelfAttention.k.weight: trainable\n",
      "decoder.block.0.layer.0.SelfAttention.v.weight: trainable\n",
      "decoder.block.0.layer.0.SelfAttention.o.weight: trainable\n",
      "decoder.block.0.layer.0.SelfAttention.relative_attention_bias.weight: trainable\n",
      "decoder.block.0.layer.0.layer_norm.weight: trainable\n",
      "decoder.block.0.layer.1.EncDecAttention.q.weight: trainable\n",
      "decoder.block.0.layer.1.EncDecAttention.k.weight: trainable\n",
      "decoder.block.0.layer.1.EncDecAttention.v.weight: trainable\n",
      "decoder.block.0.layer.1.EncDecAttention.o.weight: trainable\n",
      "decoder.block.0.layer.1.layer_norm.weight: trainable\n",
      "decoder.block.0.layer.2.DenseReluDense.wi.weight: trainable\n",
      "decoder.block.0.layer.2.DenseReluDense.wo.weight: trainable\n",
      "decoder.block.0.layer.2.layer_norm.weight: trainable\n",
      "decoder.block.1.layer.0.SelfAttention.q.weight: trainable\n",
      "decoder.block.1.layer.0.SelfAttention.k.weight: trainable\n",
      "decoder.block.1.layer.0.SelfAttention.v.weight: trainable\n",
      "decoder.block.1.layer.0.SelfAttention.o.weight: trainable\n",
      "decoder.block.1.layer.0.layer_norm.weight: trainable\n",
      "decoder.block.1.layer.1.EncDecAttention.q.weight: trainable\n",
      "decoder.block.1.layer.1.EncDecAttention.k.weight: trainable\n",
      "decoder.block.1.layer.1.EncDecAttention.v.weight: trainable\n",
      "decoder.block.1.layer.1.EncDecAttention.o.weight: trainable\n",
      "decoder.block.1.layer.1.layer_norm.weight: trainable\n",
      "decoder.block.1.layer.2.DenseReluDense.wi.weight: trainable\n",
      "decoder.block.1.layer.2.DenseReluDense.wo.weight: trainable\n",
      "decoder.block.1.layer.2.layer_norm.weight: trainable\n",
      "decoder.block.2.layer.0.SelfAttention.q.weight: trainable\n",
      "decoder.block.2.layer.0.SelfAttention.k.weight: trainable\n",
      "decoder.block.2.layer.0.SelfAttention.v.weight: trainable\n",
      "decoder.block.2.layer.0.SelfAttention.o.weight: trainable\n",
      "decoder.block.2.layer.0.layer_norm.weight: trainable\n",
      "decoder.block.2.layer.1.EncDecAttention.q.weight: trainable\n",
      "decoder.block.2.layer.1.EncDecAttention.k.weight: trainable\n",
      "decoder.block.2.layer.1.EncDecAttention.v.weight: trainable\n",
      "decoder.block.2.layer.1.EncDecAttention.o.weight: trainable\n",
      "decoder.block.2.layer.1.layer_norm.weight: trainable\n",
      "decoder.block.2.layer.2.DenseReluDense.wi.weight: trainable\n",
      "decoder.block.2.layer.2.DenseReluDense.wo.weight: trainable\n",
      "decoder.block.2.layer.2.layer_norm.weight: trainable\n",
      "decoder.block.3.layer.0.SelfAttention.q.weight: trainable\n",
      "decoder.block.3.layer.0.SelfAttention.k.weight: trainable\n",
      "decoder.block.3.layer.0.SelfAttention.v.weight: trainable\n",
      "decoder.block.3.layer.0.SelfAttention.o.weight: trainable\n",
      "decoder.block.3.layer.0.layer_norm.weight: trainable\n",
      "decoder.block.3.layer.1.EncDecAttention.q.weight: trainable\n",
      "decoder.block.3.layer.1.EncDecAttention.k.weight: trainable\n",
      "decoder.block.3.layer.1.EncDecAttention.v.weight: trainable\n",
      "decoder.block.3.layer.1.EncDecAttention.o.weight: trainable\n",
      "decoder.block.3.layer.1.layer_norm.weight: trainable\n",
      "decoder.block.3.layer.2.DenseReluDense.wi.weight: trainable\n",
      "decoder.block.3.layer.2.DenseReluDense.wo.weight: trainable\n",
      "decoder.block.3.layer.2.layer_norm.weight: trainable\n",
      "decoder.block.4.layer.0.SelfAttention.q.weight: trainable\n",
      "decoder.block.4.layer.0.SelfAttention.k.weight: trainable\n",
      "decoder.block.4.layer.0.SelfAttention.v.weight: trainable\n",
      "decoder.block.4.layer.0.SelfAttention.o.weight: trainable\n",
      "decoder.block.4.layer.0.layer_norm.weight: trainable\n",
      "decoder.block.4.layer.1.EncDecAttention.q.weight: trainable\n",
      "decoder.block.4.layer.1.EncDecAttention.k.weight: trainable\n",
      "decoder.block.4.layer.1.EncDecAttention.v.weight: trainable\n",
      "decoder.block.4.layer.1.EncDecAttention.o.weight: trainable\n",
      "decoder.block.4.layer.1.layer_norm.weight: trainable\n",
      "decoder.block.4.layer.2.DenseReluDense.wi.weight: trainable\n",
      "decoder.block.4.layer.2.DenseReluDense.wo.weight: trainable\n",
      "decoder.block.4.layer.2.layer_norm.weight: trainable\n",
      "decoder.block.5.layer.0.SelfAttention.q.weight: trainable\n",
      "decoder.block.5.layer.0.SelfAttention.k.weight: trainable\n",
      "decoder.block.5.layer.0.SelfAttention.v.weight: trainable\n",
      "decoder.block.5.layer.0.SelfAttention.o.weight: trainable\n",
      "decoder.block.5.layer.0.layer_norm.weight: trainable\n",
      "decoder.block.5.layer.1.EncDecAttention.q.weight: trainable\n",
      "decoder.block.5.layer.1.EncDecAttention.k.weight: trainable\n",
      "decoder.block.5.layer.1.EncDecAttention.v.weight: trainable\n",
      "decoder.block.5.layer.1.EncDecAttention.o.weight: trainable\n",
      "decoder.block.5.layer.1.layer_norm.weight: trainable\n",
      "decoder.block.5.layer.2.DenseReluDense.wi.weight: trainable\n",
      "decoder.block.5.layer.2.DenseReluDense.wo.weight: trainable\n",
      "decoder.block.5.layer.2.layer_norm.weight: trainable\n",
      "decoder.final_layer_norm.weight: trainable\n"
     ]
    }
   ],
   "source": [
    "for name, param in model.named_parameters():\n",
    "    print(f\"{name}: {'trainable' if param.requires_grad else 'frozen'}\")"
   ]
  },
  {
   "cell_type": "code",
   "execution_count": 10,
   "metadata": {
    "colab": {
     "base_uri": "https://localhost:8080/"
    },
    "id": "2NQBsYYfTOSu",
    "outputId": "3ab20388-f4c7-41b3-8575-8d85caf1c4d6"
   },
   "outputs": [
    {
     "name": "stdout",
     "output_type": "stream",
     "text": [
      "Number of trainable parameters in the optimizer: 131\n"
     ]
    }
   ],
   "source": [
    "trainable_params = [p for p in model.parameters() if p.requires_grad]\n",
    "print(f\"Number of trainable parameters in the optimizer: {len(trainable_params)}\")"
   ]
  },
  {
   "cell_type": "code",
   "execution_count": 11,
   "metadata": {
    "id": "HK-7BJ74YR0N"
   },
   "outputs": [],
   "source": [
    "# Load your dataset\n",
    "train_dataset = TextToTextDataset(\"navigation_dataset_Training.csv\", tokenizer)\n",
    "eval_dataset = TextToTextDataset(\"navigation_dataset_Validation.csv\", tokenizer)\n",
    "\n",
    "# Define the data collator (handles padding and batching)\n",
    "data_collator = DataCollatorForSeq2Seq(tokenizer, model=model)"
   ]
  },
  {
   "cell_type": "code",
   "execution_count": 12,
   "metadata": {
    "colab": {
     "base_uri": "https://localhost:8080/"
    },
    "id": "DdG8aL_ScjXu",
    "outputId": "adf3d301-9065-4a22-85ae-904ec9707e07"
   },
   "outputs": [
    {
     "name": "stderr",
     "output_type": "stream",
     "text": [
      "c:\\Users\\jagad\\AppData\\Local\\Programs\\Python\\Python310\\lib\\site-packages\\transformers\\training_args.py:1568: FutureWarning: `evaluation_strategy` is deprecated and will be removed in version 4.46 of 🤗 Transformers. Use `eval_strategy` instead\n",
      "  warnings.warn(\n"
     ]
    }
   ],
   "source": [
    "training_args = Seq2SeqTrainingArguments(\n",
    "    output_dir=\"./results\",\n",
    "    evaluation_strategy=\"epoch\",\n",
    "    learning_rate=2e-5,\n",
    "    per_device_train_batch_size=16,\n",
    "    per_device_eval_batch_size=16,\n",
    "    weight_decay=0.01,\n",
    "    save_total_limit=3,\n",
    "    num_train_epochs=25,\n",
    "    predict_with_generate=True,\n",
    "    push_to_hub=False\n",
    ")\n"
   ]
  },
  {
   "cell_type": "code",
   "execution_count": 13,
   "metadata": {
    "id": "HoduYiXfTSwb"
   },
   "outputs": [],
   "source": [
    "from torch.optim import AdamW\n",
    "\n",
    "optimizer = AdamW(filter(lambda p: p.requires_grad, model.parameters()), lr=2e-5)\n"
   ]
  },
  {
   "cell_type": "code",
   "execution_count": 14,
   "metadata": {
    "colab": {
     "base_uri": "https://localhost:8080/",
     "height": 297
    },
    "collapsed": true,
    "id": "tXTJJ_HvUFTc",
    "outputId": "0d0f9f93-3f1b-442c-a298-84f5c68a5cd4"
   },
   "outputs": [
    {
     "name": "stderr",
     "output_type": "stream",
     "text": [
      "C:\\Users\\jagad\\AppData\\Local\\Temp\\ipykernel_24872\\3945335570.py:2: FutureWarning: `tokenizer` is deprecated and will be removed in version 5.0.0 for `Seq2SeqTrainer.__init__`. Use `processing_class` instead.\n",
      "  trainer = Seq2SeqTrainer(\n"
     ]
    },
    {
     "data": {
      "application/vnd.jupyter.widget-view+json": {
       "model_id": "124b1aab8a1c4044ad32283dc306ff22",
       "version_major": 2,
       "version_minor": 0
      },
      "text/plain": [
       "  0%|          | 0/30950 [00:00<?, ?it/s]"
      ]
     },
     "metadata": {},
     "output_type": "display_data"
    },
    {
     "name": "stderr",
     "output_type": "stream",
     "text": [
      "c:\\Users\\jagad\\AppData\\Local\\Programs\\Python\\Python310\\lib\\site-packages\\transformers\\data\\data_collator.py:657: UserWarning: Creating a tensor from a list of numpy.ndarrays is extremely slow. Please consider converting the list to a single numpy.ndarray with numpy.array() before converting to a tensor. (Triggered internally at C:\\actions-runner\\_work\\pytorch\\pytorch\\builder\\windows\\pytorch\\torch\\csrc\\utils\\tensor_new.cpp:281.)\n",
      "  batch[\"labels\"] = torch.tensor(batch[\"labels\"], dtype=torch.int64)\n",
      "Passing a tuple of `past_key_values` is deprecated and will be removed in Transformers v4.48.0. You should pass an instance of `EncoderDecoderCache` instead, e.g. `past_key_values=EncoderDecoderCache.from_legacy_cache(past_key_values)`.\n"
     ]
    },
    {
     "name": "stdout",
     "output_type": "stream",
     "text": [
      "{'loss': 1.2698, 'grad_norm': 0.45117443799972534, 'learning_rate': 1.967689822294023e-05, 'epoch': 0.4}\n",
      "{'loss': 0.0268, 'grad_norm': 0.3303474187850952, 'learning_rate': 1.9353796445880454e-05, 'epoch': 0.81}\n"
     ]
    },
    {
     "data": {
      "application/vnd.jupyter.widget-view+json": {
       "model_id": "aeba351a619d40d6af8e9affaf682e57",
       "version_major": 2,
       "version_minor": 0
      },
      "text/plain": [
       "  0%|          | 0/299 [00:00<?, ?it/s]"
      ]
     },
     "metadata": {},
     "output_type": "display_data"
    },
    {
     "name": "stdout",
     "output_type": "stream",
     "text": [
      "{'eval_loss': 0.0055312528274953365, 'eval_runtime': 11.7374, 'eval_samples_per_second': 407.245, 'eval_steps_per_second': 25.474, 'epoch': 1.0}\n",
      "{'loss': 0.0128, 'grad_norm': 0.17623844742774963, 'learning_rate': 1.903069466882068e-05, 'epoch': 1.21}\n",
      "{'loss': 0.0071, 'grad_norm': 0.2129611074924469, 'learning_rate': 1.8707592891760907e-05, 'epoch': 1.62}\n"
     ]
    },
    {
     "data": {
      "application/vnd.jupyter.widget-view+json": {
       "model_id": "ca0ad243d11e4ce68921fc8098dc45a7",
       "version_major": 2,
       "version_minor": 0
      },
      "text/plain": [
       "  0%|          | 0/299 [00:00<?, ?it/s]"
      ]
     },
     "metadata": {},
     "output_type": "display_data"
    },
    {
     "name": "stdout",
     "output_type": "stream",
     "text": [
      "{'eval_loss': 0.00338340294547379, 'eval_runtime': 11.8615, 'eval_samples_per_second': 402.986, 'eval_steps_per_second': 25.208, 'epoch': 2.0}\n",
      "{'loss': 0.0041, 'grad_norm': 0.11927991360425949, 'learning_rate': 1.8384491114701135e-05, 'epoch': 2.02}\n",
      "{'loss': 0.0028, 'grad_norm': 0.02084704302251339, 'learning_rate': 1.806138933764136e-05, 'epoch': 2.42}\n",
      "{'loss': 0.0018, 'grad_norm': 0.1608385294675827, 'learning_rate': 1.7738287560581584e-05, 'epoch': 2.83}\n"
     ]
    },
    {
     "data": {
      "application/vnd.jupyter.widget-view+json": {
       "model_id": "7c0c14f8457840a18d07b869a617fba1",
       "version_major": 2,
       "version_minor": 0
      },
      "text/plain": [
       "  0%|          | 0/299 [00:00<?, ?it/s]"
      ]
     },
     "metadata": {},
     "output_type": "display_data"
    },
    {
     "name": "stdout",
     "output_type": "stream",
     "text": [
      "{'eval_loss': 0.004205809906125069, 'eval_runtime': 11.8841, 'eval_samples_per_second': 402.217, 'eval_steps_per_second': 25.16, 'epoch': 3.0}\n",
      "{'loss': 0.0014, 'grad_norm': 0.17630285024642944, 'learning_rate': 1.741518578352181e-05, 'epoch': 3.23}\n",
      "{'loss': 0.0011, 'grad_norm': 0.020115606486797333, 'learning_rate': 1.7092084006462036e-05, 'epoch': 3.63}\n"
     ]
    },
    {
     "data": {
      "application/vnd.jupyter.widget-view+json": {
       "model_id": "f6e5f63f76ff415286bbda8f23182d36",
       "version_major": 2,
       "version_minor": 0
      },
      "text/plain": [
       "  0%|          | 0/299 [00:00<?, ?it/s]"
      ]
     },
     "metadata": {},
     "output_type": "display_data"
    },
    {
     "name": "stdout",
     "output_type": "stream",
     "text": [
      "{'eval_loss': 0.0037382980808615685, 'eval_runtime': 11.8912, 'eval_samples_per_second': 401.977, 'eval_steps_per_second': 25.145, 'epoch': 4.0}\n",
      "{'loss': 0.001, 'grad_norm': 0.042930636554956436, 'learning_rate': 1.6768982229402264e-05, 'epoch': 4.04}\n",
      "{'loss': 0.0007, 'grad_norm': 0.02651054784655571, 'learning_rate': 1.644588045234249e-05, 'epoch': 4.44}\n",
      "{'loss': 0.0006, 'grad_norm': 0.22447675466537476, 'learning_rate': 1.6122778675282717e-05, 'epoch': 4.85}\n"
     ]
    },
    {
     "data": {
      "application/vnd.jupyter.widget-view+json": {
       "model_id": "aa9ea0d605424869a24966130a7c7778",
       "version_major": 2,
       "version_minor": 0
      },
      "text/plain": [
       "  0%|          | 0/299 [00:00<?, ?it/s]"
      ]
     },
     "metadata": {},
     "output_type": "display_data"
    },
    {
     "name": "stdout",
     "output_type": "stream",
     "text": [
      "{'eval_loss': 0.0050986530259251595, 'eval_runtime': 11.8725, 'eval_samples_per_second': 402.612, 'eval_steps_per_second': 25.184, 'epoch': 5.0}\n",
      "{'loss': 0.0005, 'grad_norm': 0.00415400043129921, 'learning_rate': 1.579967689822294e-05, 'epoch': 5.25}\n",
      "{'loss': 0.0004, 'grad_norm': 0.0014863454271107912, 'learning_rate': 1.547657512116317e-05, 'epoch': 5.65}\n"
     ]
    },
    {
     "data": {
      "application/vnd.jupyter.widget-view+json": {
       "model_id": "decb5eb5f96940539a314a2f628d31f3",
       "version_major": 2,
       "version_minor": 0
      },
      "text/plain": [
       "  0%|          | 0/299 [00:00<?, ?it/s]"
      ]
     },
     "metadata": {},
     "output_type": "display_data"
    },
    {
     "name": "stdout",
     "output_type": "stream",
     "text": [
      "{'eval_loss': 0.00497994851320982, 'eval_runtime': 11.8912, 'eval_samples_per_second': 401.979, 'eval_steps_per_second': 25.145, 'epoch': 6.0}\n",
      "{'loss': 0.0004, 'grad_norm': 0.0006304868147708476, 'learning_rate': 1.5153473344103394e-05, 'epoch': 6.06}\n",
      "{'loss': 0.0003, 'grad_norm': 0.22143028676509857, 'learning_rate': 1.483037156704362e-05, 'epoch': 6.46}\n",
      "{'loss': 0.0003, 'grad_norm': 0.0012106028152629733, 'learning_rate': 1.4507269789983846e-05, 'epoch': 6.87}\n"
     ]
    },
    {
     "data": {
      "application/vnd.jupyter.widget-view+json": {
       "model_id": "008d48a008574f2aad29191a078332f6",
       "version_major": 2,
       "version_minor": 0
      },
      "text/plain": [
       "  0%|          | 0/299 [00:00<?, ?it/s]"
      ]
     },
     "metadata": {},
     "output_type": "display_data"
    },
    {
     "name": "stdout",
     "output_type": "stream",
     "text": [
      "{'eval_loss': 0.005570524837821722, 'eval_runtime': 11.8919, 'eval_samples_per_second': 401.956, 'eval_steps_per_second': 25.143, 'epoch': 7.0}\n",
      "{'loss': 0.0002, 'grad_norm': 0.01337767019867897, 'learning_rate': 1.4184168012924074e-05, 'epoch': 7.27}\n",
      "{'loss': 0.0002, 'grad_norm': 0.0034649271983653307, 'learning_rate': 1.3861066235864299e-05, 'epoch': 7.67}\n"
     ]
    },
    {
     "data": {
      "application/vnd.jupyter.widget-view+json": {
       "model_id": "8739af0397c94644a63a98d264f7a35e",
       "version_major": 2,
       "version_minor": 0
      },
      "text/plain": [
       "  0%|          | 0/299 [00:00<?, ?it/s]"
      ]
     },
     "metadata": {},
     "output_type": "display_data"
    },
    {
     "name": "stdout",
     "output_type": "stream",
     "text": [
      "{'eval_loss': 0.00638899439945817, 'eval_runtime': 11.9174, 'eval_samples_per_second': 401.093, 'eval_steps_per_second': 25.089, 'epoch': 8.0}\n",
      "{'loss': 0.0002, 'grad_norm': 0.002779684728011489, 'learning_rate': 1.3537964458804525e-05, 'epoch': 8.08}\n",
      "{'loss': 0.0002, 'grad_norm': 0.0011492164339870214, 'learning_rate': 1.3214862681744751e-05, 'epoch': 8.48}\n",
      "{'loss': 0.0002, 'grad_norm': 0.0022158417850732803, 'learning_rate': 1.2891760904684977e-05, 'epoch': 8.89}\n"
     ]
    },
    {
     "data": {
      "application/vnd.jupyter.widget-view+json": {
       "model_id": "f7253cdc969a41d0ac0f7852308d334e",
       "version_major": 2,
       "version_minor": 0
      },
      "text/plain": [
       "  0%|          | 0/299 [00:00<?, ?it/s]"
      ]
     },
     "metadata": {},
     "output_type": "display_data"
    },
    {
     "name": "stdout",
     "output_type": "stream",
     "text": [
      "{'eval_loss': 0.0060611292719841, 'eval_runtime': 11.9109, 'eval_samples_per_second': 401.313, 'eval_steps_per_second': 25.103, 'epoch': 9.0}\n",
      "{'loss': 0.0002, 'grad_norm': 0.0008223108015954494, 'learning_rate': 1.2568659127625202e-05, 'epoch': 9.29}\n",
      "{'loss': 0.0001, 'grad_norm': 0.00015292565512936562, 'learning_rate': 1.224555735056543e-05, 'epoch': 9.69}\n"
     ]
    },
    {
     "data": {
      "application/vnd.jupyter.widget-view+json": {
       "model_id": "5453604bddbe42b18a336a5fe84c8cec",
       "version_major": 2,
       "version_minor": 0
      },
      "text/plain": [
       "  0%|          | 0/299 [00:00<?, ?it/s]"
      ]
     },
     "metadata": {},
     "output_type": "display_data"
    },
    {
     "name": "stdout",
     "output_type": "stream",
     "text": [
      "{'eval_loss': 0.00596174830570817, 'eval_runtime': 11.911, 'eval_samples_per_second': 401.311, 'eval_steps_per_second': 25.103, 'epoch': 10.0}\n",
      "{'loss': 0.0002, 'grad_norm': 0.00016237558156717569, 'learning_rate': 1.1922455573505656e-05, 'epoch': 10.1}\n",
      "{'loss': 0.0001, 'grad_norm': 0.000322429375955835, 'learning_rate': 1.1599353796445882e-05, 'epoch': 10.5}\n",
      "{'loss': 0.0002, 'grad_norm': 0.0033702212385833263, 'learning_rate': 1.1276252019386107e-05, 'epoch': 10.9}\n"
     ]
    },
    {
     "data": {
      "application/vnd.jupyter.widget-view+json": {
       "model_id": "db7148a90927428c8938ca5f5183ab41",
       "version_major": 2,
       "version_minor": 0
      },
      "text/plain": [
       "  0%|          | 0/299 [00:00<?, ?it/s]"
      ]
     },
     "metadata": {},
     "output_type": "display_data"
    },
    {
     "name": "stdout",
     "output_type": "stream",
     "text": [
      "{'eval_loss': 0.006853950675576925, 'eval_runtime': 11.9304, 'eval_samples_per_second': 400.659, 'eval_steps_per_second': 25.062, 'epoch': 11.0}\n",
      "{'loss': 0.0001, 'grad_norm': 0.0016252694185823202, 'learning_rate': 1.0953150242326333e-05, 'epoch': 11.31}\n",
      "{'loss': 0.0001, 'grad_norm': 0.0011816483456641436, 'learning_rate': 1.0630048465266561e-05, 'epoch': 11.71}\n"
     ]
    },
    {
     "data": {
      "application/vnd.jupyter.widget-view+json": {
       "model_id": "2cb92616cc224fd08c2e5c03fc8df41b",
       "version_major": 2,
       "version_minor": 0
      },
      "text/plain": [
       "  0%|          | 0/299 [00:00<?, ?it/s]"
      ]
     },
     "metadata": {},
     "output_type": "display_data"
    },
    {
     "name": "stdout",
     "output_type": "stream",
     "text": [
      "{'eval_loss': 0.006823114585131407, 'eval_runtime': 11.8653, 'eval_samples_per_second': 402.857, 'eval_steps_per_second': 25.2, 'epoch': 12.0}\n",
      "{'loss': 0.0002, 'grad_norm': 0.0003077418659813702, 'learning_rate': 1.0306946688206787e-05, 'epoch': 12.12}\n",
      "{'loss': 0.0001, 'grad_norm': 0.00014075452054385096, 'learning_rate': 9.983844911147012e-06, 'epoch': 12.52}\n",
      "{'loss': 0.0001, 'grad_norm': 0.0003951510589104146, 'learning_rate': 9.660743134087238e-06, 'epoch': 12.92}\n"
     ]
    },
    {
     "data": {
      "application/vnd.jupyter.widget-view+json": {
       "model_id": "d7eda6362277466090524923f7703eb2",
       "version_major": 2,
       "version_minor": 0
      },
      "text/plain": [
       "  0%|          | 0/299 [00:00<?, ?it/s]"
      ]
     },
     "metadata": {},
     "output_type": "display_data"
    },
    {
     "name": "stdout",
     "output_type": "stream",
     "text": [
      "{'eval_loss': 0.0073179928585886955, 'eval_runtime': 11.8599, 'eval_samples_per_second': 403.037, 'eval_steps_per_second': 25.211, 'epoch': 13.0}\n",
      "{'loss': 0.0001, 'grad_norm': 0.0001037792899296619, 'learning_rate': 9.337641357027464e-06, 'epoch': 13.33}\n",
      "{'loss': 0.0001, 'grad_norm': 0.000276662758551538, 'learning_rate': 9.01453957996769e-06, 'epoch': 13.73}\n"
     ]
    },
    {
     "data": {
      "application/vnd.jupyter.widget-view+json": {
       "model_id": "89c75217d6ef4cfe9671e278d3eeaba0",
       "version_major": 2,
       "version_minor": 0
      },
      "text/plain": [
       "  0%|          | 0/299 [00:00<?, ?it/s]"
      ]
     },
     "metadata": {},
     "output_type": "display_data"
    },
    {
     "name": "stdout",
     "output_type": "stream",
     "text": [
      "{'eval_loss': 0.007768251467496157, 'eval_runtime': 11.8526, 'eval_samples_per_second': 403.288, 'eval_steps_per_second': 25.227, 'epoch': 14.0}\n",
      "{'loss': 0.0001, 'grad_norm': 0.00037027086364105344, 'learning_rate': 8.691437802907917e-06, 'epoch': 14.14}\n",
      "{'loss': 0.0001, 'grad_norm': 0.0028295728843659163, 'learning_rate': 8.368336025848143e-06, 'epoch': 14.54}\n",
      "{'loss': 0.0001, 'grad_norm': 0.00013552725431509316, 'learning_rate': 8.04523424878837e-06, 'epoch': 14.94}\n"
     ]
    },
    {
     "data": {
      "application/vnd.jupyter.widget-view+json": {
       "model_id": "ec328608a0834818adc12899cb57850f",
       "version_major": 2,
       "version_minor": 0
      },
      "text/plain": [
       "  0%|          | 0/299 [00:00<?, ?it/s]"
      ]
     },
     "metadata": {},
     "output_type": "display_data"
    },
    {
     "name": "stdout",
     "output_type": "stream",
     "text": [
      "{'eval_loss': 0.007453940808773041, 'eval_runtime': 11.9038, 'eval_samples_per_second': 401.551, 'eval_steps_per_second': 25.118, 'epoch': 15.0}\n",
      "{'loss': 0.0001, 'grad_norm': 0.00028933401335962117, 'learning_rate': 7.722132471728596e-06, 'epoch': 15.35}\n",
      "{'loss': 0.0001, 'grad_norm': 7.763887697365135e-05, 'learning_rate': 7.399030694668822e-06, 'epoch': 15.75}\n"
     ]
    },
    {
     "data": {
      "application/vnd.jupyter.widget-view+json": {
       "model_id": "caa91e581bc347099ac0b7d5274b90c7",
       "version_major": 2,
       "version_minor": 0
      },
      "text/plain": [
       "  0%|          | 0/299 [00:00<?, ?it/s]"
      ]
     },
     "metadata": {},
     "output_type": "display_data"
    },
    {
     "name": "stdout",
     "output_type": "stream",
     "text": [
      "{'eval_loss': 0.007528791669756174, 'eval_runtime': 11.894, 'eval_samples_per_second': 401.884, 'eval_steps_per_second': 25.139, 'epoch': 16.0}\n",
      "{'loss': 0.0001, 'grad_norm': 0.0002238717133877799, 'learning_rate': 7.075928917609047e-06, 'epoch': 16.16}\n",
      "{'loss': 0.0001, 'grad_norm': 0.0019450685940682888, 'learning_rate': 6.752827140549274e-06, 'epoch': 16.56}\n",
      "{'loss': 0.0001, 'grad_norm': 0.00035984397982247174, 'learning_rate': 6.4297253634895e-06, 'epoch': 16.96}\n"
     ]
    },
    {
     "data": {
      "application/vnd.jupyter.widget-view+json": {
       "model_id": "8a05411686544fc49140a950ec997d46",
       "version_major": 2,
       "version_minor": 0
      },
      "text/plain": [
       "  0%|          | 0/299 [00:00<?, ?it/s]"
      ]
     },
     "metadata": {},
     "output_type": "display_data"
    },
    {
     "name": "stdout",
     "output_type": "stream",
     "text": [
      "{'eval_loss': 0.00789909902960062, 'eval_runtime': 11.9016, 'eval_samples_per_second': 401.626, 'eval_steps_per_second': 25.123, 'epoch': 17.0}\n",
      "{'loss': 0.0001, 'grad_norm': 0.001967102289199829, 'learning_rate': 6.106623586429726e-06, 'epoch': 17.37}\n",
      "{'loss': 0.0, 'grad_norm': 0.0023096182849258184, 'learning_rate': 5.783521809369952e-06, 'epoch': 17.77}\n"
     ]
    },
    {
     "data": {
      "application/vnd.jupyter.widget-view+json": {
       "model_id": "9c9f8de177dc415bbfb643e6a5f673af",
       "version_major": 2,
       "version_minor": 0
      },
      "text/plain": [
       "  0%|          | 0/299 [00:00<?, ?it/s]"
      ]
     },
     "metadata": {},
     "output_type": "display_data"
    },
    {
     "name": "stdout",
     "output_type": "stream",
     "text": [
      "{'eval_loss': 0.00822523795068264, 'eval_runtime': 11.882, 'eval_samples_per_second': 402.288, 'eval_steps_per_second': 25.164, 'epoch': 18.0}\n",
      "{'loss': 0.0, 'grad_norm': 0.0019294448429718614, 'learning_rate': 5.4604200323101785e-06, 'epoch': 18.17}\n",
      "{'loss': 0.0001, 'grad_norm': 0.0001710093201836571, 'learning_rate': 5.137318255250404e-06, 'epoch': 18.58}\n",
      "{'loss': 0.0, 'grad_norm': 0.0002689789980649948, 'learning_rate': 4.81421647819063e-06, 'epoch': 18.98}\n"
     ]
    },
    {
     "data": {
      "application/vnd.jupyter.widget-view+json": {
       "model_id": "b536dcd21aae4350a82737fa829bd210",
       "version_major": 2,
       "version_minor": 0
      },
      "text/plain": [
       "  0%|          | 0/299 [00:00<?, ?it/s]"
      ]
     },
     "metadata": {},
     "output_type": "display_data"
    },
    {
     "name": "stdout",
     "output_type": "stream",
     "text": [
      "{'eval_loss': 0.008452478796243668, 'eval_runtime': 11.8445, 'eval_samples_per_second': 403.564, 'eval_steps_per_second': 25.244, 'epoch': 19.0}\n",
      "{'loss': 0.0001, 'grad_norm': 0.0004054356541018933, 'learning_rate': 4.491114701130856e-06, 'epoch': 19.39}\n",
      "{'loss': 0.0, 'grad_norm': 0.00016709706687834114, 'learning_rate': 4.168012924071083e-06, 'epoch': 19.79}\n"
     ]
    },
    {
     "data": {
      "application/vnd.jupyter.widget-view+json": {
       "model_id": "763e8d8976524a7eb158b3eee43c0bf7",
       "version_major": 2,
       "version_minor": 0
      },
      "text/plain": [
       "  0%|          | 0/299 [00:00<?, ?it/s]"
      ]
     },
     "metadata": {},
     "output_type": "display_data"
    },
    {
     "name": "stdout",
     "output_type": "stream",
     "text": [
      "{'eval_loss': 0.00819813646376133, 'eval_runtime': 11.8547, 'eval_samples_per_second': 403.215, 'eval_steps_per_second': 25.222, 'epoch': 20.0}\n",
      "{'loss': 0.0, 'grad_norm': 7.678167457925156e-05, 'learning_rate': 3.844911147011309e-06, 'epoch': 20.19}\n",
      "{'loss': 0.0, 'grad_norm': 0.002581005683168769, 'learning_rate': 3.5218093699515347e-06, 'epoch': 20.6}\n"
     ]
    },
    {
     "data": {
      "application/vnd.jupyter.widget-view+json": {
       "model_id": "4c0f37b1bac94730bb33128115d13ef4",
       "version_major": 2,
       "version_minor": 0
      },
      "text/plain": [
       "  0%|          | 0/299 [00:00<?, ?it/s]"
      ]
     },
     "metadata": {},
     "output_type": "display_data"
    },
    {
     "name": "stdout",
     "output_type": "stream",
     "text": [
      "{'eval_loss': 0.008427100256085396, 'eval_runtime': 11.9137, 'eval_samples_per_second': 401.218, 'eval_steps_per_second': 25.097, 'epoch': 21.0}\n",
      "{'loss': 0.0, 'grad_norm': 7.033775909803808e-05, 'learning_rate': 3.198707592891761e-06, 'epoch': 21.0}\n",
      "{'loss': 0.0, 'grad_norm': 0.00016779301222413778, 'learning_rate': 2.875605815831987e-06, 'epoch': 21.41}\n",
      "{'loss': 0.0, 'grad_norm': 0.0024612112902104855, 'learning_rate': 2.5525040387722134e-06, 'epoch': 21.81}\n"
     ]
    },
    {
     "data": {
      "application/vnd.jupyter.widget-view+json": {
       "model_id": "2fb9067af8c643af9ae046d8c5ed0c92",
       "version_major": 2,
       "version_minor": 0
      },
      "text/plain": [
       "  0%|          | 0/299 [00:00<?, ?it/s]"
      ]
     },
     "metadata": {},
     "output_type": "display_data"
    },
    {
     "name": "stdout",
     "output_type": "stream",
     "text": [
      "{'eval_loss': 0.008440929464995861, 'eval_runtime': 11.8817, 'eval_samples_per_second': 402.298, 'eval_steps_per_second': 25.165, 'epoch': 22.0}\n",
      "{'loss': 0.0, 'grad_norm': 0.00012277350469958037, 'learning_rate': 2.2294022617124397e-06, 'epoch': 22.21}\n",
      "{'loss': 0.0001, 'grad_norm': 0.0004748845240101218, 'learning_rate': 1.906300484652666e-06, 'epoch': 22.62}\n"
     ]
    },
    {
     "data": {
      "application/vnd.jupyter.widget-view+json": {
       "model_id": "bf194bed261647a7984ba259d2978879",
       "version_major": 2,
       "version_minor": 0
      },
      "text/plain": [
       "  0%|          | 0/299 [00:00<?, ?it/s]"
      ]
     },
     "metadata": {},
     "output_type": "display_data"
    },
    {
     "name": "stdout",
     "output_type": "stream",
     "text": [
      "{'eval_loss': 0.00814598985016346, 'eval_runtime': 11.8848, 'eval_samples_per_second': 402.196, 'eval_steps_per_second': 25.158, 'epoch': 23.0}\n",
      "{'loss': 0.0, 'grad_norm': 0.00026688017533160746, 'learning_rate': 1.583198707592892e-06, 'epoch': 23.02}\n",
      "{'loss': 0.0, 'grad_norm': 0.00010312227095710114, 'learning_rate': 1.2600969305331182e-06, 'epoch': 23.42}\n",
      "{'loss': 0.0001, 'grad_norm': 0.002879653126001358, 'learning_rate': 9.369951534733441e-07, 'epoch': 23.83}\n"
     ]
    },
    {
     "data": {
      "application/vnd.jupyter.widget-view+json": {
       "model_id": "3e2d208b1cc140af9287b647eb403082",
       "version_major": 2,
       "version_minor": 0
      },
      "text/plain": [
       "  0%|          | 0/299 [00:00<?, ?it/s]"
      ]
     },
     "metadata": {},
     "output_type": "display_data"
    },
    {
     "name": "stdout",
     "output_type": "stream",
     "text": [
      "{'eval_loss': 0.008168320171535015, 'eval_runtime': 11.8833, 'eval_samples_per_second': 402.244, 'eval_steps_per_second': 25.161, 'epoch': 24.0}\n",
      "{'loss': 0.0, 'grad_norm': 0.0002772304869722575, 'learning_rate': 6.138933764135703e-07, 'epoch': 24.23}\n",
      "{'loss': 0.0, 'grad_norm': 0.00011525063018780202, 'learning_rate': 2.9079159935379645e-07, 'epoch': 24.64}\n"
     ]
    },
    {
     "data": {
      "application/vnd.jupyter.widget-view+json": {
       "model_id": "acfda773fc58494790885224c84e7aac",
       "version_major": 2,
       "version_minor": 0
      },
      "text/plain": [
       "  0%|          | 0/299 [00:00<?, ?it/s]"
      ]
     },
     "metadata": {},
     "output_type": "display_data"
    },
    {
     "name": "stdout",
     "output_type": "stream",
     "text": [
      "{'eval_loss': 0.008144055493175983, 'eval_runtime': 12.0367, 'eval_samples_per_second': 397.118, 'eval_steps_per_second': 24.841, 'epoch': 25.0}\n",
      "{'train_runtime': 4577.2072, 'train_samples_per_second': 108.145, 'train_steps_per_second': 6.762, 'train_loss': 0.021580826457926885, 'epoch': 25.0}\n"
     ]
    },
    {
     "data": {
      "text/plain": [
       "TrainOutput(global_step=30950, training_loss=0.021580826457926885, metrics={'train_runtime': 4577.2072, 'train_samples_per_second': 108.145, 'train_steps_per_second': 6.762, 'total_flos': 1.674854793216e+16, 'train_loss': 0.021580826457926885, 'epoch': 25.0})"
      ]
     },
     "execution_count": 14,
     "metadata": {},
     "output_type": "execute_result"
    }
   ],
   "source": [
    "# Trainer\n",
    "trainer = Seq2SeqTrainer(\n",
    "    model=model,\n",
    "    args=training_args,\n",
    "    train_dataset=train_dataset,\n",
    "    eval_dataset=eval_dataset,\n",
    "    tokenizer=tokenizer,\n",
    "    data_collator=data_collator,\n",
    "    optimizers=(optimizer, None)\n",
    ")\n",
    "\n",
    "trainer.train()\n"
   ]
  },
  {
   "cell_type": "code",
   "execution_count": 19,
   "metadata": {
    "colab": {
     "base_uri": "https://localhost:8080/",
     "height": 581
    },
    "id": "h8xFU5uEeiHF",
    "outputId": "3c075c53-42fc-4451-81ff-1a1102499b04"
   },
   "outputs": [
    {
     "name": "stdout",
     "output_type": "stream",
     "text": [
      "Plot saved at /content/results_finetune_entire_T5/train_val__loss_graphs\\training_validation_loss.png\n"
     ]
    },
    {
     "data": {
      "image/png": "[encoded data removed]",
      "text/plain": [
       "<Figure size 1000x600 with 1 Axes>"
      ]
     },
     "metadata": {},
     "output_type": "display_data"
    }
   ],
   "source": [
    "import os\n",
    "import matplotlib.pyplot as plt\n",
    "\n",
    "save_dir = \"/content/results_finetune_entire_T5/train_val__loss_graphs\"\n",
    "os.makedirs(save_dir, exist_ok=True)  # Create the directory if it doesn't exist\n",
    "\n",
    "# Retrieve the training logs\n",
    "logs = trainer.state.log_history\n",
    "\n",
    "# Extract training and validation loss values\n",
    "train_loss = [log['loss'] for log in logs if 'loss' in log]\n",
    "train_steps = [log['step'] for log in logs if 'loss' in log]\n",
    "eval_loss = [log['eval_loss'] for log in logs if 'eval_loss' in log]\n",
    "eval_steps = [log['step'] for log in logs if 'eval_loss' in log]\n",
    "\n",
    "# Calculate epochs based on the step and total steps per epoch\n",
    "steps_per_epoch = len(train_dataset) // trainer.args.per_device_train_batch_size\n",
    "train_epochs = [step / steps_per_epoch for step in train_steps]\n",
    "eval_epochs = [step / steps_per_epoch for step in eval_steps]\n",
    "\n",
    "# Plot the training and validation loss\n",
    "plt.figure(figsize=(10, 6))\n",
    "plt.plot(train_epochs, train_loss, label='Training Loss')\n",
    "if eval_loss:\n",
    "    plt.plot(eval_epochs, eval_loss, label='Validation Loss')\n",
    "plt.title('Training and Validation Loss')\n",
    "plt.xlabel('Steps')\n",
    "plt.ylabel('Loss')\n",
    "plt.legend()\n",
    "\n",
    "# Save the plot to the specified directory\n",
    "plot_path = os.path.join(save_dir, \"training_validation_loss.png\")\n",
    "plt.savefig(plot_path)\n",
    "print(f\"Plot saved at {plot_path}\")\n",
    "\n",
    "plt.show()"
   ]
  },
  {
   "cell_type": "code",
   "execution_count": 20,
   "metadata": {
    "id": "SihpX5NVd_Bp"
   },
   "outputs": [],
   "source": [
    "# Evaluation function\n",
    "def compute_accuracies(model, tokenizer, eval_dataset, batch_size=16):\n",
    "    device = torch.device('cuda' if torch.cuda.is_available() else 'cpu')\n",
    "    model.to(device)\n",
    "    model.eval()\n",
    "\n",
    "    dataloader = DataLoader(eval_dataset, batch_size=batch_size)\n",
    "    sequence_correct = 0\n",
    "    total_positions = 0\n",
    "    position_correct = 0\n",
    "    total_sequences = 0\n",
    "\n",
    "    with torch.no_grad():\n",
    "        for batch in tqdm(dataloader):\n",
    "            input_ids = batch['input_ids'].to(device)\n",
    "            labels = batch['labels']\n",
    "\n",
    "            outputs = model.generate(\n",
    "                input_ids,\n",
    "                max_length=128,\n",
    "                pad_token_id=tokenizer.pad_token_id\n",
    "            )\n",
    "\n",
    "            predictions = [tokenizer.decode(output, skip_special_tokens=True) for output in outputs]\n",
    "            true_labels = [tokenizer.decode(label[label != -100], skip_special_tokens=True) for label in labels]\n",
    "\n",
    "            for pred, true in zip(predictions, true_labels):\n",
    "                # Split by semicolon and strip whitespace\n",
    "                pred_colors = [color.strip() for color in pred.split(';')]\n",
    "                true_colors = [color.strip() for color in true.split(';')]\n",
    "\n",
    "                if pred_colors == true_colors:\n",
    "                    sequence_correct += 1\n",
    "                total_sequences += 1\n",
    "\n",
    "                min_len = min(len(pred_colors), len(true_colors))\n",
    "                for i in range(min_len):\n",
    "                    if pred_colors[i] == true_colors[i]:\n",
    "                        position_correct += 1\n",
    "                total_positions += len(true_colors)\n",
    "\n",
    "    sequence_accuracy = sequence_correct / total_sequences\n",
    "    position_accuracy = position_correct / total_positions\n",
    "\n",
    "    return {\n",
    "        'sequence_accuracy': sequence_accuracy,\n",
    "        'position_accuracy': position_accuracy,\n",
    "        'total_sequences': total_sequences,\n",
    "        'total_positions': total_positions\n",
    "    }"
   ]
  },
  {
   "cell_type": "code",
   "execution_count": 21,
   "metadata": {
    "colab": {
     "base_uri": "https://localhost:8080/"
    },
    "id": "CXxwH0C9eCFY",
    "outputId": "36fd0745-8860-43b4-b601-cdae71fdffee"
   },
   "outputs": [
    {
     "name": "stderr",
     "output_type": "stream",
     "text": [
      "100%|██████████| 299/299 [00:23<00:00, 12.58it/s]"
     ]
    },
    {
     "name": "stdout",
     "output_type": "stream",
     "text": [
      "Sequence Accuracy: 0.9498\n",
      "Position Accuracy: 0.9735\n",
      "Total sequences evaluated: 4780\n",
      "Total positions evaluated: 22620\n"
     ]
    },
    {
     "name": "stderr",
     "output_type": "stream",
     "text": [
      "\n"
     ]
    }
   ],
   "source": [
    "# Run evaluation\n",
    "results = compute_accuracies(model, tokenizer, eval_dataset)\n",
    "print(f\"Sequence Accuracy: {results['sequence_accuracy']:.4f}\")\n",
    "print(f\"Position Accuracy: {results['position_accuracy']:.4f}\")\n",
    "print(f\"Total sequences evaluated: {results['total_sequences']}\")\n",
    "print(f\"Total positions evaluated: {results['total_positions']}\")"
   ]
  },
  {
   "cell_type": "code",
   "execution_count": 22,
   "metadata": {
    "colab": {
     "base_uri": "https://localhost:8080/"
    },
    "id": "MfLHJzrWYuTv",
    "outputId": "89a8b29a-07b3-45ad-f7ee-579e9d8d2204"
   },
   "outputs": [
    {
     "name": "stdout",
     "output_type": "stream",
     "text": [
      "cuda\n",
      "Input: Before going to purple battery, start your task at green battery and make sure to visit blue battery along the way. Then go to the red battery, and wrap up at the orange battery. Just give me color order in this way; Go to [color1], Go to [color2]\n",
      "Output: green; blue; red; orange; color\n"
     ]
    }
   ],
   "source": [
    "# Example of generating output for a single input\n",
    "\n",
    "model_path = \"./results/checkpoint-30950\"\n",
    "tokenizer = AutoTokenizer.from_pretrained(model_path)\n",
    "model = AutoModelForSeq2SeqLM.from_pretrained(model_path)\n",
    "\n",
    "def generate_output(input_text):\n",
    "    # Move model to the same device as the input\n",
    "    device = torch.device('cuda' if torch.cuda.is_available() else 'cpu')\n",
    "    print(device)\n",
    "\n",
    "    # Tokenize the input and move the inputs to the correct device\n",
    "    inputs = tokenizer(input_text, return_tensors=\"pt\", truncation=True, padding='max_length', max_length=128).to(device)\n",
    "\n",
    "    # Make sure the model is also on the same device\n",
    "    model.to(device)\n",
    "\n",
    "    # Generate the output sequence\n",
    "    output = model.generate(inputs['input_ids'], max_length=128)\n",
    "\n",
    "    # Decode the generated tokens to text\n",
    "    return tokenizer.decode(output[0], skip_special_tokens=True)\n",
    "\n",
    "# Test the model with a sample input\n",
    "sample_input = \"Before going to purple battery, start your task at green battery and make sure to visit blue battery along the way. Then go to the red battery, and wrap up at the orange battery. Just give me color order in this way; Go to [color1], Go to [color2]\"\n",
    "generated_output = generate_output(sample_input)\n",
    "print(f\"Input: {sample_input}\")\n",
    "print(f\"Output: {generated_output}\")\n"
   ]
  }
 ],
 "metadata": {
  "accelerator": "GPU",
  "colab": {
   "provenance": []
  },
  "kernelspec": {
   "display_name": "Python 3",
   "name": "python3"
  },
  "language_info": {
   "codemirror_mode": {
    "name": "ipython",
    "version": 3
   },
   "file_extension": ".py",
   "mimetype": "text/x-python",
   "name": "python",
   "nbconvert_exporter": "python",
   "pygments_lexer": "ipython3",
   "version": "3.10.10"
  },
  "widgets": {
   "application/vnd.jupyter.widget-state+json": {
    "000c11910071462d9d2254c917886e65": {
     "model_module": "@jupyter-widgets/controls",
     "model_module_version": "1.5.0",
     "model_name": "FloatProgressModel",
     "state": {
      "_dom_classes": [],
      "_model_module": "@jupyter-widgets/controls",
      "_model_module_version": "1.5.0",
      "_model_name": "FloatProgressModel",
      "_view_count": null,
      "_view_module": "@jupyter-widgets/controls",
      "_view_module_version": "1.5.0",
      "_view_name": "ProgressView",
      "bar_style": "success",
      "description": "",
      "description_tooltip": null,
      "layout": "IPY_MODEL_cecad32c5c3240038ed8bf7cea31a12c",
      "max": 2324,
      "min": 0,
      "orientation": "horizontal",
      "style": "IPY_MODEL_7374ea0bee2248b68f6603a78a89000c",
      "value": 2324
     }
    },
    "09de98b618514b6097e8ae8b048faedf": {
     "model_module": "@jupyter-widgets/base",
     "model_module_version": "1.2.0",
     "model_name": "LayoutModel",
     "state": {
      "_model_module": "@jupyter-widgets/base",
      "_model_module_version": "1.2.0",
      "_model_name": "LayoutModel",
      "_view_count": null,
      "_view_module": "@jupyter-widgets/base",
      "_view_module_version": "1.2.0",
      "_view_name": "LayoutView",
      "align_content": null,
      "align_items": null,
      "align_self": null,
      "border": null,
      "bottom": null,
      "display": null,
      "flex": null,
      "flex_flow": null,
      "grid_area": null,
      "grid_auto_columns": null,
      "grid_auto_flow": null,
      "grid_auto_rows": null,
      "grid_column": null,
      "grid_gap": null,
      "grid_row": null,
      "grid_template_areas": null,
      "grid_template_columns": null,
      "grid_template_rows": null,
      "height": null,
      "justify_content": null,
      "justify_items": null,
      "left": null,
      "margin": null,
      "max_height": null,
      "max_width": null,
      "min_height": null,
      "min_width": null,
      "object_fit": null,
      "object_position": null,
      "order": null,
      "overflow": null,
      "overflow_x": null,
      "overflow_y": null,
      "padding": null,
      "right": null,
      "top": null,
      "visibility": null,
      "width": null
     }
    },
    "0c0c49c0f074484296bf1276ce85250d": {
     "model_module": "@jupyter-widgets/controls",
     "model_module_version": "1.5.0",
     "model_name": "ProgressStyleModel",
     "state": {
      "_model_module": "@jupyter-widgets/controls",
      "_model_module_version": "1.5.0",
      "_model_name": "ProgressStyleModel",
      "_view_count": null,
      "_view_module": "@jupyter-widgets/base",
      "_view_module_version": "1.2.0",
      "_view_name": "StyleView",
      "bar_color": null,
      "description_width": ""
     }
    },
    "0e9e92b258974fb683e25e463698bdcf": {
     "model_module": "@jupyter-widgets/controls",
     "model_module_version": "1.5.0",
     "model_name": "HBoxModel",
     "state": {
      "_dom_classes": [],
      "_model_module": "@jupyter-widgets/controls",
      "_model_module_version": "1.5.0",
      "_model_name": "HBoxModel",
      "_view_count": null,
      "_view_module": "@jupyter-widgets/controls",
      "_view_module_version": "1.5.0",
      "_view_name": "HBoxView",
      "box_style": "",
      "children": [
       "IPY_MODEL_8283b228f0f141fd918a55b1abddd0a4",
       "IPY_MODEL_cb6369537a684c1dbf4b08b5a4a443a0",
       "IPY_MODEL_a3001dca1b5b4b7d8a02486736189518"
      ],
      "layout": "IPY_MODEL_aea807044ed349a187105a31f652819e"
     }
    },
    "15ec1f5e342d4c9e9de75ee7dcf8d2b5": {
     "model_module": "@jupyter-widgets/controls",
     "model_module_version": "1.5.0",
     "model_name": "DescriptionStyleModel",
     "state": {
      "_model_module": "@jupyter-widgets/controls",
      "_model_module_version": "1.5.0",
      "_model_name": "DescriptionStyleModel",
      "_view_count": null,
      "_view_module": "@jupyter-widgets/base",
      "_view_module_version": "1.2.0",
      "_view_name": "StyleView",
      "description_width": ""
     }
    },
    "1cd81200aa30422aa32c2802c7dd8a29": {
     "model_module": "@jupyter-widgets/controls",
     "model_module_version": "1.5.0",
     "model_name": "DescriptionStyleModel",
     "state": {
      "_model_module": "@jupyter-widgets/controls",
      "_model_module_version": "1.5.0",
      "_model_name": "DescriptionStyleModel",
      "_view_count": null,
      "_view_module": "@jupyter-widgets/base",
      "_view_module_version": "1.2.0",
      "_view_name": "StyleView",
      "description_width": ""
     }
    },
    "1d3b3c102fcd43d7bc0976a29bc12be8": {
     "model_module": "@jupyter-widgets/controls",
     "model_module_version": "1.5.0",
     "model_name": "HBoxModel",
     "state": {
      "_dom_classes": [],
      "_model_module": "@jupyter-widgets/controls",
      "_model_module_version": "1.5.0",
      "_model_name": "HBoxModel",
      "_view_count": null,
      "_view_module": "@jupyter-widgets/controls",
      "_view_module_version": "1.5.0",
      "_view_name": "HBoxView",
      "box_style": "",
      "children": [
       "IPY_MODEL_a52041a7a70446a4b19693e1ba06fec9",
       "IPY_MODEL_eb0fafd0f801403b8cb23bb1cb4462dc",
       "IPY_MODEL_3dac56d590e746f389bf17e98cde8737"
      ],
      "layout": "IPY_MODEL_281c9b7e94cd479aa5c39cd810f94412"
     }
    },
    "1d8bc0c2f5324938a386b6c8a97bec41": {
     "model_module": "@jupyter-widgets/base",
     "model_module_version": "1.2.0",
     "model_name": "LayoutModel",
     "state": {
      "_model_module": "@jupyter-widgets/base",
      "_model_module_version": "1.2.0",
      "_model_name": "LayoutModel",
      "_view_count": null,
      "_view_module": "@jupyter-widgets/base",
      "_view_module_version": "1.2.0",
      "_view_name": "LayoutView",
      "align_content": null,
      "align_items": null,
      "align_self": null,
      "border": null,
      "bottom": null,
      "display": null,
      "flex": null,
      "flex_flow": null,
      "grid_area": null,
      "grid_auto_columns": null,
      "grid_auto_flow": null,
      "grid_auto_rows": null,
      "grid_column": null,
      "grid_gap": null,
      "grid_row": null,
      "grid_template_areas": null,
      "grid_template_columns": null,
      "grid_template_rows": null,
      "height": null,
      "justify_content": null,
      "justify_items": null,
      "left": null,
      "margin": null,
      "max_height": null,
      "max_width": null,
      "min_height": null,
      "min_width": null,
      "object_fit": null,
      "object_position": null,
      "order": null,
      "overflow": null,
      "overflow_x": null,
      "overflow_y": null,
      "padding": null,
      "right": null,
      "top": null,
      "visibility": null,
      "width": null
     }
    },
    "209b685fb67a4d06b0adf3e13cee50fc": {
     "model_module": "@jupyter-widgets/base",
     "model_module_version": "1.2.0",
     "model_name": "LayoutModel",
     "state": {
      "_model_module": "@jupyter-widgets/base",
      "_model_module_version": "1.2.0",
      "_model_name": "LayoutModel",
      "_view_count": null,
      "_view_module": "@jupyter-widgets/base",
      "_view_module_version": "1.2.0",
      "_view_name": "LayoutView",
      "align_content": null,
      "align_items": null,
      "align_self": null,
      "border": null,
      "bottom": null,
      "display": null,
      "flex": null,
      "flex_flow": null,
      "grid_area": null,
      "grid_auto_columns": null,
      "grid_auto_flow": null,
      "grid_auto_rows": null,
      "grid_column": null,
      "grid_gap": null,
      "grid_row": null,
      "grid_template_areas": null,
      "grid_template_columns": null,
      "grid_template_rows": null,
      "height": null,
      "justify_content": null,
      "justify_items": null,
      "left": null,
      "margin": null,
      "max_height": null,
      "max_width": null,
      "min_height": null,
      "min_width": null,
      "object_fit": null,
      "object_position": null,
      "order": null,
      "overflow": null,
      "overflow_x": null,
      "overflow_y": null,
      "padding": null,
      "right": null,
      "top": null,
      "visibility": null,
      "width": null
     }
    },
    "25946df617c74c6cb03f054d03e703fa": {
     "model_module": "@jupyter-widgets/controls",
     "model_module_version": "1.5.0",
     "model_name": "HTMLModel",
     "state": {
      "_dom_classes": [],
      "_model_module": "@jupyter-widgets/controls",
      "_model_module_version": "1.5.0",
      "_model_name": "HTMLModel",
      "_view_count": null,
      "_view_module": "@jupyter-widgets/controls",
      "_view_module_version": "1.5.0",
      "_view_name": "HTMLView",
      "description": "",
      "description_tooltip": null,
      "layout": "IPY_MODEL_add656b45fb843ed89d663668f69f1c6",
      "placeholder": "​",
      "style": "IPY_MODEL_def69d3e530841e796483c73203f645a",
      "value": "config.json: 100%"
     }
    },
    "281c9b7e94cd479aa5c39cd810f94412": {
     "model_module": "@jupyter-widgets/base",
     "model_module_version": "1.2.0",
     "model_name": "LayoutModel",
     "state": {
      "_model_module": "@jupyter-widgets/base",
      "_model_module_version": "1.2.0",
      "_model_name": "LayoutModel",
      "_view_count": null,
      "_view_module": "@jupyter-widgets/base",
      "_view_module_version": "1.2.0",
      "_view_name": "LayoutView",
      "align_content": null,
      "align_items": null,
      "align_self": null,
      "border": null,
      "bottom": null,
      "display": null,
      "flex": null,
      "flex_flow": null,
      "grid_area": null,
      "grid_auto_columns": null,
      "grid_auto_flow": null,
      "grid_auto_rows": null,
      "grid_column": null,
      "grid_gap": null,
      "grid_row": null,
      "grid_template_areas": null,
      "grid_template_columns": null,
      "grid_template_rows": null,
      "height": null,
      "justify_content": null,
      "justify_items": null,
      "left": null,
      "margin": null,
      "max_height": null,
      "max_width": null,
      "min_height": null,
      "min_width": null,
      "object_fit": null,
      "object_position": null,
      "order": null,
      "overflow": null,
      "overflow_x": null,
      "overflow_y": null,
      "padding": null,
      "right": null,
      "top": null,
      "visibility": null,
      "width": null
     }
    },
    "2e018a4823384af29f155e11328e77cc": {
     "model_module": "@jupyter-widgets/controls",
     "model_module_version": "1.5.0",
     "model_name": "DescriptionStyleModel",
     "state": {
      "_model_module": "@jupyter-widgets/controls",
      "_model_module_version": "1.5.0",
      "_model_name": "DescriptionStyleModel",
      "_view_count": null,
      "_view_module": "@jupyter-widgets/base",
      "_view_module_version": "1.2.0",
      "_view_name": "StyleView",
      "description_width": ""
     }
    },
    "2e09ce67fbe14799a78762f3b35dfa0b": {
     "model_module": "@jupyter-widgets/controls",
     "model_module_version": "1.5.0",
     "model_name": "DescriptionStyleModel",
     "state": {
      "_model_module": "@jupyter-widgets/controls",
      "_model_module_version": "1.5.0",
      "_model_name": "DescriptionStyleModel",
      "_view_count": null,
      "_view_module": "@jupyter-widgets/base",
      "_view_module_version": "1.2.0",
      "_view_name": "StyleView",
      "description_width": ""
     }
    },
    "32634f7ebdb34dc2b2736a64eec54553": {
     "model_module": "@jupyter-widgets/controls",
     "model_module_version": "1.5.0",
     "model_name": "HTMLModel",
     "state": {
      "_dom_classes": [],
      "_model_module": "@jupyter-widgets/controls",
      "_model_module_version": "1.5.0",
      "_model_name": "HTMLModel",
      "_view_count": null,
      "_view_module": "@jupyter-widgets/controls",
      "_view_module_version": "1.5.0",
      "_view_name": "HTMLView",
      "description": "",
      "description_tooltip": null,
      "layout": "IPY_MODEL_bd93443233d348d9ad50c16d5892ffe0",
      "placeholder": "​",
      "style": "IPY_MODEL_ea389e1af8c443c2b06a3667dba5a77f",
      "value": "tokenizer_config.json: 100%"
     }
    },
    "3544fa009b504835b5c2bc215fac1044": {
     "model_module": "@jupyter-widgets/controls",
     "model_module_version": "1.5.0",
     "model_name": "HBoxModel",
     "state": {
      "_dom_classes": [],
      "_model_module": "@jupyter-widgets/controls",
      "_model_module_version": "1.5.0",
      "_model_name": "HBoxModel",
      "_view_count": null,
      "_view_module": "@jupyter-widgets/controls",
      "_view_module_version": "1.5.0",
      "_view_name": "HBoxView",
      "box_style": "",
      "children": [
       "IPY_MODEL_b3eced3e561b4ad88c43860ec9aaa907",
       "IPY_MODEL_71be09db79c54bf481c94c457697241a",
       "IPY_MODEL_b5873d1c39ae446e8ae6099993dc88ca"
      ],
      "layout": "IPY_MODEL_1d8bc0c2f5324938a386b6c8a97bec41"
     }
    },
    "39446c18dc224bd3b1d25b963045e7ed": {
     "model_module": "@jupyter-widgets/controls",
     "model_module_version": "1.5.0",
     "model_name": "ProgressStyleModel",
     "state": {
      "_model_module": "@jupyter-widgets/controls",
      "_model_module_version": "1.5.0",
      "_model_name": "ProgressStyleModel",
      "_view_count": null,
      "_view_module": "@jupyter-widgets/base",
      "_view_module_version": "1.2.0",
      "_view_name": "StyleView",
      "bar_color": null,
      "description_width": ""
     }
    },
    "3dac56d590e746f389bf17e98cde8737": {
     "model_module": "@jupyter-widgets/controls",
     "model_module_version": "1.5.0",
     "model_name": "HTMLModel",
     "state": {
      "_dom_classes": [],
      "_model_module": "@jupyter-widgets/controls",
      "_model_module_version": "1.5.0",
      "_model_name": "HTMLModel",
      "_view_count": null,
      "_view_module": "@jupyter-widgets/controls",
      "_view_module_version": "1.5.0",
      "_view_name": "HTMLView",
      "description": "",
      "description_tooltip": null,
      "layout": "IPY_MODEL_e67f31179b744075b7d4281ad6828ee6",
      "placeholder": "​",
      "style": "IPY_MODEL_4090f7d206e6402697ca8719f4b37de9",
      "value": " 1.39M/1.39M [00:00&lt;00:00, 9.60MB/s]"
     }
    },
    "4090f7d206e6402697ca8719f4b37de9": {
     "model_module": "@jupyter-widgets/controls",
     "model_module_version": "1.5.0",
     "model_name": "DescriptionStyleModel",
     "state": {
      "_model_module": "@jupyter-widgets/controls",
      "_model_module_version": "1.5.0",
      "_model_name": "DescriptionStyleModel",
      "_view_count": null,
      "_view_module": "@jupyter-widgets/base",
      "_view_module_version": "1.2.0",
      "_view_name": "StyleView",
      "description_width": ""
     }
    },
    "47b06c475a9c4fa99f581bb6d733569d": {
     "model_module": "@jupyter-widgets/controls",
     "model_module_version": "1.5.0",
     "model_name": "HBoxModel",
     "state": {
      "_dom_classes": [],
      "_model_module": "@jupyter-widgets/controls",
      "_model_module_version": "1.5.0",
      "_model_name": "HBoxModel",
      "_view_count": null,
      "_view_module": "@jupyter-widgets/controls",
      "_view_module_version": "1.5.0",
      "_view_name": "HBoxView",
      "box_style": "",
      "children": [
       "IPY_MODEL_25946df617c74c6cb03f054d03e703fa",
       "IPY_MODEL_b47ba91ccd68481094257c1fd48d975d",
       "IPY_MODEL_e96b3bb82ae14be39b569ad2083a4180"
      ],
      "layout": "IPY_MODEL_e07f0a58cf264ee4a2b4b3cc0dc7e308"
     }
    },
    "58f21c90a2de4695b1ae24d3aae690d4": {
     "model_module": "@jupyter-widgets/controls",
     "model_module_version": "1.5.0",
     "model_name": "DescriptionStyleModel",
     "state": {
      "_model_module": "@jupyter-widgets/controls",
      "_model_module_version": "1.5.0",
      "_model_name": "DescriptionStyleModel",
      "_view_count": null,
      "_view_module": "@jupyter-widgets/base",
      "_view_module_version": "1.2.0",
      "_view_name": "StyleView",
      "description_width": ""
     }
    },
    "5e97bd1da2834f6482f1abf91f985e12": {
     "model_module": "@jupyter-widgets/controls",
     "model_module_version": "1.5.0",
     "model_name": "ProgressStyleModel",
     "state": {
      "_model_module": "@jupyter-widgets/controls",
      "_model_module_version": "1.5.0",
      "_model_name": "ProgressStyleModel",
      "_view_count": null,
      "_view_module": "@jupyter-widgets/base",
      "_view_module_version": "1.2.0",
      "_view_name": "StyleView",
      "bar_color": null,
      "description_width": ""
     }
    },
    "65e906a639a342cebdb11fbba1435510": {
     "model_module": "@jupyter-widgets/controls",
     "model_module_version": "1.5.0",
     "model_name": "HBoxModel",
     "state": {
      "_dom_classes": [],
      "_model_module": "@jupyter-widgets/controls",
      "_model_module_version": "1.5.0",
      "_model_name": "HBoxModel",
      "_view_count": null,
      "_view_module": "@jupyter-widgets/controls",
      "_view_module_version": "1.5.0",
      "_view_name": "HBoxView",
      "box_style": "",
      "children": [
       "IPY_MODEL_32634f7ebdb34dc2b2736a64eec54553",
       "IPY_MODEL_000c11910071462d9d2254c917886e65",
       "IPY_MODEL_e45df6bbf72840d8af5b04f76c23312a"
      ],
      "layout": "IPY_MODEL_89b9a90b5a474f3caf7fd3a7bf26cf40"
     }
    },
    "6aab5187eee848168c6e9c3dd4bb31e5": {
     "model_module": "@jupyter-widgets/controls",
     "model_module_version": "1.5.0",
     "model_name": "HBoxModel",
     "state": {
      "_dom_classes": [],
      "_model_module": "@jupyter-widgets/controls",
      "_model_module_version": "1.5.0",
      "_model_name": "HBoxModel",
      "_view_count": null,
      "_view_module": "@jupyter-widgets/controls",
      "_view_module_version": "1.5.0",
      "_view_name": "HBoxView",
      "box_style": "",
      "children": [
       "IPY_MODEL_8a017c8d44fc4a4e94943f507fd155cd",
       "IPY_MODEL_cfff8a19fdd54e8d8d6a88ab133419a3",
       "IPY_MODEL_e5e872fb824248e89e8f4c02da86fa83"
      ],
      "layout": "IPY_MODEL_a41f1a03576349d2911b5ead6574df1b"
     }
    },
    "6ab60ed0d2534290b9e9676b09ef1759": {
     "model_module": "@jupyter-widgets/base",
     "model_module_version": "1.2.0",
     "model_name": "LayoutModel",
     "state": {
      "_model_module": "@jupyter-widgets/base",
      "_model_module_version": "1.2.0",
      "_model_name": "LayoutModel",
      "_view_count": null,
      "_view_module": "@jupyter-widgets/base",
      "_view_module_version": "1.2.0",
      "_view_name": "LayoutView",
      "align_content": null,
      "align_items": null,
      "align_self": null,
      "border": null,
      "bottom": null,
      "display": null,
      "flex": null,
      "flex_flow": null,
      "grid_area": null,
      "grid_auto_columns": null,
      "grid_auto_flow": null,
      "grid_auto_rows": null,
      "grid_column": null,
      "grid_gap": null,
      "grid_row": null,
      "grid_template_areas": null,
      "grid_template_columns": null,
      "grid_template_rows": null,
      "height": null,
      "justify_content": null,
      "justify_items": null,
      "left": null,
      "margin": null,
      "max_height": null,
      "max_width": null,
      "min_height": null,
      "min_width": null,
      "object_fit": null,
      "object_position": null,
      "order": null,
      "overflow": null,
      "overflow_x": null,
      "overflow_y": null,
      "padding": null,
      "right": null,
      "top": null,
      "visibility": null,
      "width": null
     }
    },
    "6d58d219bd4a4eab83fdb6431d4d8d09": {
     "model_module": "@jupyter-widgets/base",
     "model_module_version": "1.2.0",
     "model_name": "LayoutModel",
     "state": {
      "_model_module": "@jupyter-widgets/base",
      "_model_module_version": "1.2.0",
      "_model_name": "LayoutModel",
      "_view_count": null,
      "_view_module": "@jupyter-widgets/base",
      "_view_module_version": "1.2.0",
      "_view_name": "LayoutView",
      "align_content": null,
      "align_items": null,
      "align_self": null,
      "border": null,
      "bottom": null,
      "display": null,
      "flex": null,
      "flex_flow": null,
      "grid_area": null,
      "grid_auto_columns": null,
      "grid_auto_flow": null,
      "grid_auto_rows": null,
      "grid_column": null,
      "grid_gap": null,
      "grid_row": null,
      "grid_template_areas": null,
      "grid_template_columns": null,
      "grid_template_rows": null,
      "height": null,
      "justify_content": null,
      "justify_items": null,
      "left": null,
      "margin": null,
      "max_height": null,
      "max_width": null,
      "min_height": null,
      "min_width": null,
      "object_fit": null,
      "object_position": null,
      "order": null,
      "overflow": null,
      "overflow_x": null,
      "overflow_y": null,
      "padding": null,
      "right": null,
      "top": null,
      "visibility": null,
      "width": null
     }
    },
    "71be09db79c54bf481c94c457697241a": {
     "model_module": "@jupyter-widgets/controls",
     "model_module_version": "1.5.0",
     "model_name": "FloatProgressModel",
     "state": {
      "_dom_classes": [],
      "_model_module": "@jupyter-widgets/controls",
      "_model_module_version": "1.5.0",
      "_model_name": "FloatProgressModel",
      "_view_count": null,
      "_view_module": "@jupyter-widgets/controls",
      "_view_module_version": "1.5.0",
      "_view_name": "ProgressView",
      "bar_style": "success",
      "description": "",
      "description_tooltip": null,
      "layout": "IPY_MODEL_6ab60ed0d2534290b9e9676b09ef1759",
      "max": 147,
      "min": 0,
      "orientation": "horizontal",
      "style": "IPY_MODEL_d0c39787e3614772a5b131b0c168ca89",
      "value": 147
     }
    },
    "7374ea0bee2248b68f6603a78a89000c": {
     "model_module": "@jupyter-widgets/controls",
     "model_module_version": "1.5.0",
     "model_name": "ProgressStyleModel",
     "state": {
      "_model_module": "@jupyter-widgets/controls",
      "_model_module_version": "1.5.0",
      "_model_name": "ProgressStyleModel",
      "_view_count": null,
      "_view_module": "@jupyter-widgets/base",
      "_view_module_version": "1.2.0",
      "_view_name": "StyleView",
      "bar_color": null,
      "description_width": ""
     }
    },
    "8283b228f0f141fd918a55b1abddd0a4": {
     "model_module": "@jupyter-widgets/controls",
     "model_module_version": "1.5.0",
     "model_name": "HTMLModel",
     "state": {
      "_dom_classes": [],
      "_model_module": "@jupyter-widgets/controls",
      "_model_module_version": "1.5.0",
      "_model_name": "HTMLModel",
      "_view_count": null,
      "_view_module": "@jupyter-widgets/controls",
      "_view_module_version": "1.5.0",
      "_view_name": "HTMLView",
      "description": "",
      "description_tooltip": null,
      "layout": "IPY_MODEL_99f441874026468cb608b19ca1cee2d0",
      "placeholder": "​",
      "style": "IPY_MODEL_58f21c90a2de4695b1ae24d3aae690d4",
      "value": "spiece.model: 100%"
     }
    },
    "89b9a90b5a474f3caf7fd3a7bf26cf40": {
     "model_module": "@jupyter-widgets/base",
     "model_module_version": "1.2.0",
     "model_name": "LayoutModel",
     "state": {
      "_model_module": "@jupyter-widgets/base",
      "_model_module_version": "1.2.0",
      "_model_name": "LayoutModel",
      "_view_count": null,
      "_view_module": "@jupyter-widgets/base",
      "_view_module_version": "1.2.0",
      "_view_name": "LayoutView",
      "align_content": null,
      "align_items": null,
      "align_self": null,
      "border": null,
      "bottom": null,
      "display": null,
      "flex": null,
      "flex_flow": null,
      "grid_area": null,
      "grid_auto_columns": null,
      "grid_auto_flow": null,
      "grid_auto_rows": null,
      "grid_column": null,
      "grid_gap": null,
      "grid_row": null,
      "grid_template_areas": null,
      "grid_template_columns": null,
      "grid_template_rows": null,
      "height": null,
      "justify_content": null,
      "justify_items": null,
      "left": null,
      "margin": null,
      "max_height": null,
      "max_width": null,
      "min_height": null,
      "min_width": null,
      "object_fit": null,
      "object_position": null,
      "order": null,
      "overflow": null,
      "overflow_x": null,
      "overflow_y": null,
      "padding": null,
      "right": null,
      "top": null,
      "visibility": null,
      "width": null
     }
    },
    "8a017c8d44fc4a4e94943f507fd155cd": {
     "model_module": "@jupyter-widgets/controls",
     "model_module_version": "1.5.0",
     "model_name": "HTMLModel",
     "state": {
      "_dom_classes": [],
      "_model_module": "@jupyter-widgets/controls",
      "_model_module_version": "1.5.0",
      "_model_name": "HTMLModel",
      "_view_count": null,
      "_view_module": "@jupyter-widgets/controls",
      "_view_module_version": "1.5.0",
      "_view_name": "HTMLView",
      "description": "",
      "description_tooltip": null,
      "layout": "IPY_MODEL_a6250d5e5b0b4eb6a7255192d5ba63e5",
      "placeholder": "​",
      "style": "IPY_MODEL_954e388cb4d04371978714e24b768f98",
      "value": "model.safetensors: 100%"
     }
    },
    "8d2606853bfc4fdca529bd826add3e8f": {
     "model_module": "@jupyter-widgets/controls",
     "model_module_version": "1.5.0",
     "model_name": "DescriptionStyleModel",
     "state": {
      "_model_module": "@jupyter-widgets/controls",
      "_model_module_version": "1.5.0",
      "_model_name": "DescriptionStyleModel",
      "_view_count": null,
      "_view_module": "@jupyter-widgets/base",
      "_view_module_version": "1.2.0",
      "_view_name": "StyleView",
      "description_width": ""
     }
    },
    "9021f0781b1444778d1793b0799dce23": {
     "model_module": "@jupyter-widgets/base",
     "model_module_version": "1.2.0",
     "model_name": "LayoutModel",
     "state": {
      "_model_module": "@jupyter-widgets/base",
      "_model_module_version": "1.2.0",
      "_model_name": "LayoutModel",
      "_view_count": null,
      "_view_module": "@jupyter-widgets/base",
      "_view_module_version": "1.2.0",
      "_view_name": "LayoutView",
      "align_content": null,
      "align_items": null,
      "align_self": null,
      "border": null,
      "bottom": null,
      "display": null,
      "flex": null,
      "flex_flow": null,
      "grid_area": null,
      "grid_auto_columns": null,
      "grid_auto_flow": null,
      "grid_auto_rows": null,
      "grid_column": null,
      "grid_gap": null,
      "grid_row": null,
      "grid_template_areas": null,
      "grid_template_columns": null,
      "grid_template_rows": null,
      "height": null,
      "justify_content": null,
      "justify_items": null,
      "left": null,
      "margin": null,
      "max_height": null,
      "max_width": null,
      "min_height": null,
      "min_width": null,
      "object_fit": null,
      "object_position": null,
      "order": null,
      "overflow": null,
      "overflow_x": null,
      "overflow_y": null,
      "padding": null,
      "right": null,
      "top": null,
      "visibility": null,
      "width": null
     }
    },
    "954e388cb4d04371978714e24b768f98": {
     "model_module": "@jupyter-widgets/controls",
     "model_module_version": "1.5.0",
     "model_name": "DescriptionStyleModel",
     "state": {
      "_model_module": "@jupyter-widgets/controls",
      "_model_module_version": "1.5.0",
      "_model_name": "DescriptionStyleModel",
      "_view_count": null,
      "_view_module": "@jupyter-widgets/base",
      "_view_module_version": "1.2.0",
      "_view_name": "StyleView",
      "description_width": ""
     }
    },
    "99f441874026468cb608b19ca1cee2d0": {
     "model_module": "@jupyter-widgets/base",
     "model_module_version": "1.2.0",
     "model_name": "LayoutModel",
     "state": {
      "_model_module": "@jupyter-widgets/base",
      "_model_module_version": "1.2.0",
      "_model_name": "LayoutModel",
      "_view_count": null,
      "_view_module": "@jupyter-widgets/base",
      "_view_module_version": "1.2.0",
      "_view_name": "LayoutView",
      "align_content": null,
      "align_items": null,
      "align_self": null,
      "border": null,
      "bottom": null,
      "display": null,
      "flex": null,
      "flex_flow": null,
      "grid_area": null,
      "grid_auto_columns": null,
      "grid_auto_flow": null,
      "grid_auto_rows": null,
      "grid_column": null,
      "grid_gap": null,
      "grid_row": null,
      "grid_template_areas": null,
      "grid_template_columns": null,
      "grid_template_rows": null,
      "height": null,
      "justify_content": null,
      "justify_items": null,
      "left": null,
      "margin": null,
      "max_height": null,
      "max_width": null,
      "min_height": null,
      "min_width": null,
      "object_fit": null,
      "object_position": null,
      "order": null,
      "overflow": null,
      "overflow_x": null,
      "overflow_y": null,
      "padding": null,
      "right": null,
      "top": null,
      "visibility": null,
      "width": null
     }
    },
    "9a359928cae947b9a57ac544047a3203": {
     "model_module": "@jupyter-widgets/controls",
     "model_module_version": "1.5.0",
     "model_name": "DescriptionStyleModel",
     "state": {
      "_model_module": "@jupyter-widgets/controls",
      "_model_module_version": "1.5.0",
      "_model_name": "DescriptionStyleModel",
      "_view_count": null,
      "_view_module": "@jupyter-widgets/base",
      "_view_module_version": "1.2.0",
      "_view_name": "StyleView",
      "description_width": ""
     }
    },
    "a3001dca1b5b4b7d8a02486736189518": {
     "model_module": "@jupyter-widgets/controls",
     "model_module_version": "1.5.0",
     "model_name": "HTMLModel",
     "state": {
      "_dom_classes": [],
      "_model_module": "@jupyter-widgets/controls",
      "_model_module_version": "1.5.0",
      "_model_name": "HTMLModel",
      "_view_count": null,
      "_view_module": "@jupyter-widgets/controls",
      "_view_module_version": "1.5.0",
      "_view_name": "HTMLView",
      "description": "",
      "description_tooltip": null,
      "layout": "IPY_MODEL_fa36f4b4f94443b2aa26fb2a14b792db",
      "placeholder": "​",
      "style": "IPY_MODEL_1cd81200aa30422aa32c2802c7dd8a29",
      "value": " 792k/792k [00:00&lt;00:00, 8.69MB/s]"
     }
    },
    "a41f1a03576349d2911b5ead6574df1b": {
     "model_module": "@jupyter-widgets/base",
     "model_module_version": "1.2.0",
     "model_name": "LayoutModel",
     "state": {
      "_model_module": "@jupyter-widgets/base",
      "_model_module_version": "1.2.0",
      "_model_name": "LayoutModel",
      "_view_count": null,
      "_view_module": "@jupyter-widgets/base",
      "_view_module_version": "1.2.0",
      "_view_name": "LayoutView",
      "align_content": null,
      "align_items": null,
      "align_self": null,
      "border": null,
      "bottom": null,
      "display": null,
      "flex": null,
      "flex_flow": null,
      "grid_area": null,
      "grid_auto_columns": null,
      "grid_auto_flow": null,
      "grid_auto_rows": null,
      "grid_column": null,
      "grid_gap": null,
      "grid_row": null,
      "grid_template_areas": null,
      "grid_template_columns": null,
      "grid_template_rows": null,
      "height": null,
      "justify_content": null,
      "justify_items": null,
      "left": null,
      "margin": null,
      "max_height": null,
      "max_width": null,
      "min_height": null,
      "min_width": null,
      "object_fit": null,
      "object_position": null,
      "order": null,
      "overflow": null,
      "overflow_x": null,
      "overflow_y": null,
      "padding": null,
      "right": null,
      "top": null,
      "visibility": null,
      "width": null
     }
    },
    "a470e1825e904baeb086296db00caea5": {
     "model_module": "@jupyter-widgets/base",
     "model_module_version": "1.2.0",
     "model_name": "LayoutModel",
     "state": {
      "_model_module": "@jupyter-widgets/base",
      "_model_module_version": "1.2.0",
      "_model_name": "LayoutModel",
      "_view_count": null,
      "_view_module": "@jupyter-widgets/base",
      "_view_module_version": "1.2.0",
      "_view_name": "LayoutView",
      "align_content": null,
      "align_items": null,
      "align_self": null,
      "border": null,
      "bottom": null,
      "display": null,
      "flex": null,
      "flex_flow": null,
      "grid_area": null,
      "grid_auto_columns": null,
      "grid_auto_flow": null,
      "grid_auto_rows": null,
      "grid_column": null,
      "grid_gap": null,
      "grid_row": null,
      "grid_template_areas": null,
      "grid_template_columns": null,
      "grid_template_rows": null,
      "height": null,
      "justify_content": null,
      "justify_items": null,
      "left": null,
      "margin": null,
      "max_height": null,
      "max_width": null,
      "min_height": null,
      "min_width": null,
      "object_fit": null,
      "object_position": null,
      "order": null,
      "overflow": null,
      "overflow_x": null,
      "overflow_y": null,
      "padding": null,
      "right": null,
      "top": null,
      "visibility": null,
      "width": null
     }
    },
    "a52041a7a70446a4b19693e1ba06fec9": {
     "model_module": "@jupyter-widgets/controls",
     "model_module_version": "1.5.0",
     "model_name": "HTMLModel",
     "state": {
      "_dom_classes": [],
      "_model_module": "@jupyter-widgets/controls",
      "_model_module_version": "1.5.0",
      "_model_name": "HTMLModel",
      "_view_count": null,
      "_view_module": "@jupyter-widgets/controls",
      "_view_module_version": "1.5.0",
      "_view_name": "HTMLView",
      "description": "",
      "description_tooltip": null,
      "layout": "IPY_MODEL_09de98b618514b6097e8ae8b048faedf",
      "placeholder": "​",
      "style": "IPY_MODEL_8d2606853bfc4fdca529bd826add3e8f",
      "value": "tokenizer.json: 100%"
     }
    },
    "a6250d5e5b0b4eb6a7255192d5ba63e5": {
     "model_module": "@jupyter-widgets/base",
     "model_module_version": "1.2.0",
     "model_name": "LayoutModel",
     "state": {
      "_model_module": "@jupyter-widgets/base",
      "_model_module_version": "1.2.0",
      "_model_name": "LayoutModel",
      "_view_count": null,
      "_view_module": "@jupyter-widgets/base",
      "_view_module_version": "1.2.0",
      "_view_name": "LayoutView",
      "align_content": null,
      "align_items": null,
      "align_self": null,
      "border": null,
      "bottom": null,
      "display": null,
      "flex": null,
      "flex_flow": null,
      "grid_area": null,
      "grid_auto_columns": null,
      "grid_auto_flow": null,
      "grid_auto_rows": null,
      "grid_column": null,
      "grid_gap": null,
      "grid_row": null,
      "grid_template_areas": null,
      "grid_template_columns": null,
      "grid_template_rows": null,
      "height": null,
      "justify_content": null,
      "justify_items": null,
      "left": null,
      "margin": null,
      "max_height": null,
      "max_width": null,
      "min_height": null,
      "min_width": null,
      "object_fit": null,
      "object_position": null,
      "order": null,
      "overflow": null,
      "overflow_x": null,
      "overflow_y": null,
      "padding": null,
      "right": null,
      "top": null,
      "visibility": null,
      "width": null
     }
    },
    "add656b45fb843ed89d663668f69f1c6": {
     "model_module": "@jupyter-widgets/base",
     "model_module_version": "1.2.0",
     "model_name": "LayoutModel",
     "state": {
      "_model_module": "@jupyter-widgets/base",
      "_model_module_version": "1.2.0",
      "_model_name": "LayoutModel",
      "_view_count": null,
      "_view_module": "@jupyter-widgets/base",
      "_view_module_version": "1.2.0",
      "_view_name": "LayoutView",
      "align_content": null,
      "align_items": null,
      "align_self": null,
      "border": null,
      "bottom": null,
      "display": null,
      "flex": null,
      "flex_flow": null,
      "grid_area": null,
      "grid_auto_columns": null,
      "grid_auto_flow": null,
      "grid_auto_rows": null,
      "grid_column": null,
      "grid_gap": null,
      "grid_row": null,
      "grid_template_areas": null,
      "grid_template_columns": null,
      "grid_template_rows": null,
      "height": null,
      "justify_content": null,
      "justify_items": null,
      "left": null,
      "margin": null,
      "max_height": null,
      "max_width": null,
      "min_height": null,
      "min_width": null,
      "object_fit": null,
      "object_position": null,
      "order": null,
      "overflow": null,
      "overflow_x": null,
      "overflow_y": null,
      "padding": null,
      "right": null,
      "top": null,
      "visibility": null,
      "width": null
     }
    },
    "ae041ca444e243eca502bd99712420b1": {
     "model_module": "@jupyter-widgets/base",
     "model_module_version": "1.2.0",
     "model_name": "LayoutModel",
     "state": {
      "_model_module": "@jupyter-widgets/base",
      "_model_module_version": "1.2.0",
      "_model_name": "LayoutModel",
      "_view_count": null,
      "_view_module": "@jupyter-widgets/base",
      "_view_module_version": "1.2.0",
      "_view_name": "LayoutView",
      "align_content": null,
      "align_items": null,
      "align_self": null,
      "border": null,
      "bottom": null,
      "display": null,
      "flex": null,
      "flex_flow": null,
      "grid_area": null,
      "grid_auto_columns": null,
      "grid_auto_flow": null,
      "grid_auto_rows": null,
      "grid_column": null,
      "grid_gap": null,
      "grid_row": null,
      "grid_template_areas": null,
      "grid_template_columns": null,
      "grid_template_rows": null,
      "height": null,
      "justify_content": null,
      "justify_items": null,
      "left": null,
      "margin": null,
      "max_height": null,
      "max_width": null,
      "min_height": null,
      "min_width": null,
      "object_fit": null,
      "object_position": null,
      "order": null,
      "overflow": null,
      "overflow_x": null,
      "overflow_y": null,
      "padding": null,
      "right": null,
      "top": null,
      "visibility": null,
      "width": null
     }
    },
    "aea807044ed349a187105a31f652819e": {
     "model_module": "@jupyter-widgets/base",
     "model_module_version": "1.2.0",
     "model_name": "LayoutModel",
     "state": {
      "_model_module": "@jupyter-widgets/base",
      "_model_module_version": "1.2.0",
      "_model_name": "LayoutModel",
      "_view_count": null,
      "_view_module": "@jupyter-widgets/base",
      "_view_module_version": "1.2.0",
      "_view_name": "LayoutView",
      "align_content": null,
      "align_items": null,
      "align_self": null,
      "border": null,
      "bottom": null,
      "display": null,
      "flex": null,
      "flex_flow": null,
      "grid_area": null,
      "grid_auto_columns": null,
      "grid_auto_flow": null,
      "grid_auto_rows": null,
      "grid_column": null,
      "grid_gap": null,
      "grid_row": null,
      "grid_template_areas": null,
      "grid_template_columns": null,
      "grid_template_rows": null,
      "height": null,
      "justify_content": null,
      "justify_items": null,
      "left": null,
      "margin": null,
      "max_height": null,
      "max_width": null,
      "min_height": null,
      "min_width": null,
      "object_fit": null,
      "object_position": null,
      "order": null,
      "overflow": null,
      "overflow_x": null,
      "overflow_y": null,
      "padding": null,
      "right": null,
      "top": null,
      "visibility": null,
      "width": null
     }
    },
    "aee257cfc63e4723b0c5138f03c25ddc": {
     "model_module": "@jupyter-widgets/base",
     "model_module_version": "1.2.0",
     "model_name": "LayoutModel",
     "state": {
      "_model_module": "@jupyter-widgets/base",
      "_model_module_version": "1.2.0",
      "_model_name": "LayoutModel",
      "_view_count": null,
      "_view_module": "@jupyter-widgets/base",
      "_view_module_version": "1.2.0",
      "_view_name": "LayoutView",
      "align_content": null,
      "align_items": null,
      "align_self": null,
      "border": null,
      "bottom": null,
      "display": null,
      "flex": null,
      "flex_flow": null,
      "grid_area": null,
      "grid_auto_columns": null,
      "grid_auto_flow": null,
      "grid_auto_rows": null,
      "grid_column": null,
      "grid_gap": null,
      "grid_row": null,
      "grid_template_areas": null,
      "grid_template_columns": null,
      "grid_template_rows": null,
      "height": null,
      "justify_content": null,
      "justify_items": null,
      "left": null,
      "margin": null,
      "max_height": null,
      "max_width": null,
      "min_height": null,
      "min_width": null,
      "object_fit": null,
      "object_position": null,
      "order": null,
      "overflow": null,
      "overflow_x": null,
      "overflow_y": null,
      "padding": null,
      "right": null,
      "top": null,
      "visibility": null,
      "width": null
     }
    },
    "b3eced3e561b4ad88c43860ec9aaa907": {
     "model_module": "@jupyter-widgets/controls",
     "model_module_version": "1.5.0",
     "model_name": "HTMLModel",
     "state": {
      "_dom_classes": [],
      "_model_module": "@jupyter-widgets/controls",
      "_model_module_version": "1.5.0",
      "_model_name": "HTMLModel",
      "_view_count": null,
      "_view_module": "@jupyter-widgets/controls",
      "_view_module_version": "1.5.0",
      "_view_name": "HTMLView",
      "description": "",
      "description_tooltip": null,
      "layout": "IPY_MODEL_6d58d219bd4a4eab83fdb6431d4d8d09",
      "placeholder": "​",
      "style": "IPY_MODEL_2e018a4823384af29f155e11328e77cc",
      "value": "generation_config.json: 100%"
     }
    },
    "b47ba91ccd68481094257c1fd48d975d": {
     "model_module": "@jupyter-widgets/controls",
     "model_module_version": "1.5.0",
     "model_name": "FloatProgressModel",
     "state": {
      "_dom_classes": [],
      "_model_module": "@jupyter-widgets/controls",
      "_model_module_version": "1.5.0",
      "_model_name": "FloatProgressModel",
      "_view_count": null,
      "_view_module": "@jupyter-widgets/controls",
      "_view_module_version": "1.5.0",
      "_view_name": "ProgressView",
      "bar_style": "success",
      "description": "",
      "description_tooltip": null,
      "layout": "IPY_MODEL_ae041ca444e243eca502bd99712420b1",
      "max": 1206,
      "min": 0,
      "orientation": "horizontal",
      "style": "IPY_MODEL_39446c18dc224bd3b1d25b963045e7ed",
      "value": 1206
     }
    },
    "b5873d1c39ae446e8ae6099993dc88ca": {
     "model_module": "@jupyter-widgets/controls",
     "model_module_version": "1.5.0",
     "model_name": "HTMLModel",
     "state": {
      "_dom_classes": [],
      "_model_module": "@jupyter-widgets/controls",
      "_model_module_version": "1.5.0",
      "_model_name": "HTMLModel",
      "_view_count": null,
      "_view_module": "@jupyter-widgets/controls",
      "_view_module_version": "1.5.0",
      "_view_name": "HTMLView",
      "description": "",
      "description_tooltip": null,
      "layout": "IPY_MODEL_209b685fb67a4d06b0adf3e13cee50fc",
      "placeholder": "​",
      "style": "IPY_MODEL_2e09ce67fbe14799a78762f3b35dfa0b",
      "value": " 147/147 [00:00&lt;00:00, 8.27kB/s]"
     }
    },
    "bd93443233d348d9ad50c16d5892ffe0": {
     "model_module": "@jupyter-widgets/base",
     "model_module_version": "1.2.0",
     "model_name": "LayoutModel",
     "state": {
      "_model_module": "@jupyter-widgets/base",
      "_model_module_version": "1.2.0",
      "_model_name": "LayoutModel",
      "_view_count": null,
      "_view_module": "@jupyter-widgets/base",
      "_view_module_version": "1.2.0",
      "_view_name": "LayoutView",
      "align_content": null,
      "align_items": null,
      "align_self": null,
      "border": null,
      "bottom": null,
      "display": null,
      "flex": null,
      "flex_flow": null,
      "grid_area": null,
      "grid_auto_columns": null,
      "grid_auto_flow": null,
      "grid_auto_rows": null,
      "grid_column": null,
      "grid_gap": null,
      "grid_row": null,
      "grid_template_areas": null,
      "grid_template_columns": null,
      "grid_template_rows": null,
      "height": null,
      "justify_content": null,
      "justify_items": null,
      "left": null,
      "margin": null,
      "max_height": null,
      "max_width": null,
      "min_height": null,
      "min_width": null,
      "object_fit": null,
      "object_position": null,
      "order": null,
      "overflow": null,
      "overflow_x": null,
      "overflow_y": null,
      "padding": null,
      "right": null,
      "top": null,
      "visibility": null,
      "width": null
     }
    },
    "cb6369537a684c1dbf4b08b5a4a443a0": {
     "model_module": "@jupyter-widgets/controls",
     "model_module_version": "1.5.0",
     "model_name": "FloatProgressModel",
     "state": {
      "_dom_classes": [],
      "_model_module": "@jupyter-widgets/controls",
      "_model_module_version": "1.5.0",
      "_model_name": "FloatProgressModel",
      "_view_count": null,
      "_view_module": "@jupyter-widgets/controls",
      "_view_module_version": "1.5.0",
      "_view_name": "ProgressView",
      "bar_style": "success",
      "description": "",
      "description_tooltip": null,
      "layout": "IPY_MODEL_9021f0781b1444778d1793b0799dce23",
      "max": 791656,
      "min": 0,
      "orientation": "horizontal",
      "style": "IPY_MODEL_0c0c49c0f074484296bf1276ce85250d",
      "value": 791656
     }
    },
    "ce356e88af404b888eb4fc1a4724f068": {
     "model_module": "@jupyter-widgets/controls",
     "model_module_version": "1.5.0",
     "model_name": "ProgressStyleModel",
     "state": {
      "_model_module": "@jupyter-widgets/controls",
      "_model_module_version": "1.5.0",
      "_model_name": "ProgressStyleModel",
      "_view_count": null,
      "_view_module": "@jupyter-widgets/base",
      "_view_module_version": "1.2.0",
      "_view_name": "StyleView",
      "bar_color": null,
      "description_width": ""
     }
    },
    "cecad32c5c3240038ed8bf7cea31a12c": {
     "model_module": "@jupyter-widgets/base",
     "model_module_version": "1.2.0",
     "model_name": "LayoutModel",
     "state": {
      "_model_module": "@jupyter-widgets/base",
      "_model_module_version": "1.2.0",
      "_model_name": "LayoutModel",
      "_view_count": null,
      "_view_module": "@jupyter-widgets/base",
      "_view_module_version": "1.2.0",
      "_view_name": "LayoutView",
      "align_content": null,
      "align_items": null,
      "align_self": null,
      "border": null,
      "bottom": null,
      "display": null,
      "flex": null,
      "flex_flow": null,
      "grid_area": null,
      "grid_auto_columns": null,
      "grid_auto_flow": null,
      "grid_auto_rows": null,
      "grid_column": null,
      "grid_gap": null,
      "grid_row": null,
      "grid_template_areas": null,
      "grid_template_columns": null,
      "grid_template_rows": null,
      "height": null,
      "justify_content": null,
      "justify_items": null,
      "left": null,
      "margin": null,
      "max_height": null,
      "max_width": null,
      "min_height": null,
      "min_width": null,
      "object_fit": null,
      "object_position": null,
      "order": null,
      "overflow": null,
      "overflow_x": null,
      "overflow_y": null,
      "padding": null,
      "right": null,
      "top": null,
      "visibility": null,
      "width": null
     }
    },
    "cfff8a19fdd54e8d8d6a88ab133419a3": {
     "model_module": "@jupyter-widgets/controls",
     "model_module_version": "1.5.0",
     "model_name": "FloatProgressModel",
     "state": {
      "_dom_classes": [],
      "_model_module": "@jupyter-widgets/controls",
      "_model_module_version": "1.5.0",
      "_model_name": "FloatProgressModel",
      "_view_count": null,
      "_view_module": "@jupyter-widgets/controls",
      "_view_module_version": "1.5.0",
      "_view_name": "ProgressView",
      "bar_style": "success",
      "description": "",
      "description_tooltip": null,
      "layout": "IPY_MODEL_aee257cfc63e4723b0c5138f03c25ddc",
      "max": 242043056,
      "min": 0,
      "orientation": "horizontal",
      "style": "IPY_MODEL_5e97bd1da2834f6482f1abf91f985e12",
      "value": 242043056
     }
    },
    "d0c39787e3614772a5b131b0c168ca89": {
     "model_module": "@jupyter-widgets/controls",
     "model_module_version": "1.5.0",
     "model_name": "ProgressStyleModel",
     "state": {
      "_model_module": "@jupyter-widgets/controls",
      "_model_module_version": "1.5.0",
      "_model_name": "ProgressStyleModel",
      "_view_count": null,
      "_view_module": "@jupyter-widgets/base",
      "_view_module_version": "1.2.0",
      "_view_name": "StyleView",
      "bar_color": null,
      "description_width": ""
     }
    },
    "de80546adaef4957b60f6219e85c397b": {
     "model_module": "@jupyter-widgets/base",
     "model_module_version": "1.2.0",
     "model_name": "LayoutModel",
     "state": {
      "_model_module": "@jupyter-widgets/base",
      "_model_module_version": "1.2.0",
      "_model_name": "LayoutModel",
      "_view_count": null,
      "_view_module": "@jupyter-widgets/base",
      "_view_module_version": "1.2.0",
      "_view_name": "LayoutView",
      "align_content": null,
      "align_items": null,
      "align_self": null,
      "border": null,
      "bottom": null,
      "display": null,
      "flex": null,
      "flex_flow": null,
      "grid_area": null,
      "grid_auto_columns": null,
      "grid_auto_flow": null,
      "grid_auto_rows": null,
      "grid_column": null,
      "grid_gap": null,
      "grid_row": null,
      "grid_template_areas": null,
      "grid_template_columns": null,
      "grid_template_rows": null,
      "height": null,
      "justify_content": null,
      "justify_items": null,
      "left": null,
      "margin": null,
      "max_height": null,
      "max_width": null,
      "min_height": null,
      "min_width": null,
      "object_fit": null,
      "object_position": null,
      "order": null,
      "overflow": null,
      "overflow_x": null,
      "overflow_y": null,
      "padding": null,
      "right": null,
      "top": null,
      "visibility": null,
      "width": null
     }
    },
    "def69d3e530841e796483c73203f645a": {
     "model_module": "@jupyter-widgets/controls",
     "model_module_version": "1.5.0",
     "model_name": "DescriptionStyleModel",
     "state": {
      "_model_module": "@jupyter-widgets/controls",
      "_model_module_version": "1.5.0",
      "_model_name": "DescriptionStyleModel",
      "_view_count": null,
      "_view_module": "@jupyter-widgets/base",
      "_view_module_version": "1.2.0",
      "_view_name": "StyleView",
      "description_width": ""
     }
    },
    "e07f0a58cf264ee4a2b4b3cc0dc7e308": {
     "model_module": "@jupyter-widgets/base",
     "model_module_version": "1.2.0",
     "model_name": "LayoutModel",
     "state": {
      "_model_module": "@jupyter-widgets/base",
      "_model_module_version": "1.2.0",
      "_model_name": "LayoutModel",
      "_view_count": null,
      "_view_module": "@jupyter-widgets/base",
      "_view_module_version": "1.2.0",
      "_view_name": "LayoutView",
      "align_content": null,
      "align_items": null,
      "align_self": null,
      "border": null,
      "bottom": null,
      "display": null,
      "flex": null,
      "flex_flow": null,
      "grid_area": null,
      "grid_auto_columns": null,
      "grid_auto_flow": null,
      "grid_auto_rows": null,
      "grid_column": null,
      "grid_gap": null,
      "grid_row": null,
      "grid_template_areas": null,
      "grid_template_columns": null,
      "grid_template_rows": null,
      "height": null,
      "justify_content": null,
      "justify_items": null,
      "left": null,
      "margin": null,
      "max_height": null,
      "max_width": null,
      "min_height": null,
      "min_width": null,
      "object_fit": null,
      "object_position": null,
      "order": null,
      "overflow": null,
      "overflow_x": null,
      "overflow_y": null,
      "padding": null,
      "right": null,
      "top": null,
      "visibility": null,
      "width": null
     }
    },
    "e45df6bbf72840d8af5b04f76c23312a": {
     "model_module": "@jupyter-widgets/controls",
     "model_module_version": "1.5.0",
     "model_name": "HTMLModel",
     "state": {
      "_dom_classes": [],
      "_model_module": "@jupyter-widgets/controls",
      "_model_module_version": "1.5.0",
      "_model_name": "HTMLModel",
      "_view_count": null,
      "_view_module": "@jupyter-widgets/controls",
      "_view_module_version": "1.5.0",
      "_view_name": "HTMLView",
      "description": "",
      "description_tooltip": null,
      "layout": "IPY_MODEL_a470e1825e904baeb086296db00caea5",
      "placeholder": "​",
      "style": "IPY_MODEL_9a359928cae947b9a57ac544047a3203",
      "value": " 2.32k/2.32k [00:00&lt;00:00, 131kB/s]"
     }
    },
    "e5e872fb824248e89e8f4c02da86fa83": {
     "model_module": "@jupyter-widgets/controls",
     "model_module_version": "1.5.0",
     "model_name": "HTMLModel",
     "state": {
      "_dom_classes": [],
      "_model_module": "@jupyter-widgets/controls",
      "_model_module_version": "1.5.0",
      "_model_name": "HTMLModel",
      "_view_count": null,
      "_view_module": "@jupyter-widgets/controls",
      "_view_module_version": "1.5.0",
      "_view_name": "HTMLView",
      "description": "",
      "description_tooltip": null,
      "layout": "IPY_MODEL_f2a1bea5938e450eaf75c363c335e77d",
      "placeholder": "​",
      "style": "IPY_MODEL_15ec1f5e342d4c9e9de75ee7dcf8d2b5",
      "value": " 242M/242M [00:01&lt;00:00, 232MB/s]"
     }
    },
    "e67f31179b744075b7d4281ad6828ee6": {
     "model_module": "@jupyter-widgets/base",
     "model_module_version": "1.2.0",
     "model_name": "LayoutModel",
     "state": {
      "_model_module": "@jupyter-widgets/base",
      "_model_module_version": "1.2.0",
      "_model_name": "LayoutModel",
      "_view_count": null,
      "_view_module": "@jupyter-widgets/base",
      "_view_module_version": "1.2.0",
      "_view_name": "LayoutView",
      "align_content": null,
      "align_items": null,
      "align_self": null,
      "border": null,
      "bottom": null,
      "display": null,
      "flex": null,
      "flex_flow": null,
      "grid_area": null,
      "grid_auto_columns": null,
      "grid_auto_flow": null,
      "grid_auto_rows": null,
      "grid_column": null,
      "grid_gap": null,
      "grid_row": null,
      "grid_template_areas": null,
      "grid_template_columns": null,
      "grid_template_rows": null,
      "height": null,
      "justify_content": null,
      "justify_items": null,
      "left": null,
      "margin": null,
      "max_height": null,
      "max_width": null,
      "min_height": null,
      "min_width": null,
      "object_fit": null,
      "object_position": null,
      "order": null,
      "overflow": null,
      "overflow_x": null,
      "overflow_y": null,
      "padding": null,
      "right": null,
      "top": null,
      "visibility": null,
      "width": null
     }
    },
    "e96b3bb82ae14be39b569ad2083a4180": {
     "model_module": "@jupyter-widgets/controls",
     "model_module_version": "1.5.0",
     "model_name": "HTMLModel",
     "state": {
      "_dom_classes": [],
      "_model_module": "@jupyter-widgets/controls",
      "_model_module_version": "1.5.0",
      "_model_name": "HTMLModel",
      "_view_count": null,
      "_view_module": "@jupyter-widgets/controls",
      "_view_module_version": "1.5.0",
      "_view_name": "HTMLView",
      "description": "",
      "description_tooltip": null,
      "layout": "IPY_MODEL_fe716c829eb94899b68b61a995ba7a0c",
      "placeholder": "​",
      "style": "IPY_MODEL_f52609a2991347f0a4fa5ea9817b186b",
      "value": " 1.21k/1.21k [00:00&lt;00:00, 56.0kB/s]"
     }
    },
    "ea389e1af8c443c2b06a3667dba5a77f": {
     "model_module": "@jupyter-widgets/controls",
     "model_module_version": "1.5.0",
     "model_name": "DescriptionStyleModel",
     "state": {
      "_model_module": "@jupyter-widgets/controls",
      "_model_module_version": "1.5.0",
      "_model_name": "DescriptionStyleModel",
      "_view_count": null,
      "_view_module": "@jupyter-widgets/base",
      "_view_module_version": "1.2.0",
      "_view_name": "StyleView",
      "description_width": ""
     }
    },
    "eb0fafd0f801403b8cb23bb1cb4462dc": {
     "model_module": "@jupyter-widgets/controls",
     "model_module_version": "1.5.0",
     "model_name": "FloatProgressModel",
     "state": {
      "_dom_classes": [],
      "_model_module": "@jupyter-widgets/controls",
      "_model_module_version": "1.5.0",
      "_model_name": "FloatProgressModel",
      "_view_count": null,
      "_view_module": "@jupyter-widgets/controls",
      "_view_module_version": "1.5.0",
      "_view_name": "ProgressView",
      "bar_style": "success",
      "description": "",
      "description_tooltip": null,
      "layout": "IPY_MODEL_de80546adaef4957b60f6219e85c397b",
      "max": 1389353,
      "min": 0,
      "orientation": "horizontal",
      "style": "IPY_MODEL_ce356e88af404b888eb4fc1a4724f068",
      "value": 1389353
     }
    },
    "f2a1bea5938e450eaf75c363c335e77d": {
     "model_module": "@jupyter-widgets/base",
     "model_module_version": "1.2.0",
     "model_name": "LayoutModel",
     "state": {
      "_model_module": "@jupyter-widgets/base",
      "_model_module_version": "1.2.0",
      "_model_name": "LayoutModel",
      "_view_count": null,
      "_view_module": "@jupyter-widgets/base",
      "_view_module_version": "1.2.0",
      "_view_name": "LayoutView",
      "align_content": null,
      "align_items": null,
      "align_self": null,
      "border": null,
      "bottom": null,
      "display": null,
      "flex": null,
      "flex_flow": null,
      "grid_area": null,
      "grid_auto_columns": null,
      "grid_auto_flow": null,
      "grid_auto_rows": null,
      "grid_column": null,
      "grid_gap": null,
      "grid_row": null,
      "grid_template_areas": null,
      "grid_template_columns": null,
      "grid_template_rows": null,
      "height": null,
      "justify_content": null,
      "justify_items": null,
      "left": null,
      "margin": null,
      "max_height": null,
      "max_width": null,
      "min_height": null,
      "min_width": null,
      "object_fit": null,
      "object_position": null,
      "order": null,
      "overflow": null,
      "overflow_x": null,
      "overflow_y": null,
      "padding": null,
      "right": null,
      "top": null,
      "visibility": null,
      "width": null
     }
    },
    "f52609a2991347f0a4fa5ea9817b186b": {
     "model_module": "@jupyter-widgets/controls",
     "model_module_version": "1.5.0",
     "model_name": "DescriptionStyleModel",
     "state": {
      "_model_module": "@jupyter-widgets/controls",
      "_model_module_version": "1.5.0",
      "_model_name": "DescriptionStyleModel",
      "_view_count": null,
      "_view_module": "@jupyter-widgets/base",
      "_view_module_version": "1.2.0",
      "_view_name": "StyleView",
      "description_width": ""
     }
    },
    "fa36f4b4f94443b2aa26fb2a14b792db": {
     "model_module": "@jupyter-widgets/base",
     "model_module_version": "1.2.0",
     "model_name": "LayoutModel",
     "state": {
      "_model_module": "@jupyter-widgets/base",
      "_model_module_version": "1.2.0",
      "_model_name": "LayoutModel",
      "_view_count": null,
      "_view_module": "@jupyter-widgets/base",
      "_view_module_version": "1.2.0",
      "_view_name": "LayoutView",
      "align_content": null,
      "align_items": null,
      "align_self": null,
      "border": null,
      "bottom": null,
      "display": null,
      "flex": null,
      "flex_flow": null,
      "grid_area": null,
      "grid_auto_columns": null,
      "grid_auto_flow": null,
      "grid_auto_rows": null,
      "grid_column": null,
      "grid_gap": null,
      "grid_row": null,
      "grid_template_areas": null,
      "grid_template_columns": null,
      "grid_template_rows": null,
      "height": null,
      "justify_content": null,
      "justify_items": null,
      "left": null,
      "margin": null,
      "max_height": null,
      "max_width": null,
      "min_height": null,
      "min_width": null,
      "object_fit": null,
      "object_position": null,
      "order": null,
      "overflow": null,
      "overflow_x": null,
      "overflow_y": null,
      "padding": null,
      "right": null,
      "top": null,
      "visibility": null,
      "width": null
     }
    },
    "fe716c829eb94899b68b61a995ba7a0c": {
     "model_module": "@jupyter-widgets/base",
     "model_module_version": "1.2.0",
     "model_name": "LayoutModel",
     "state": {
      "_model_module": "@jupyter-widgets/base",
      "_model_module_version": "1.2.0",
      "_model_name": "LayoutModel",
      "_view_count": null,
      "_view_module": "@jupyter-widgets/base",
      "_view_module_version": "1.2.0",
      "_view_name": "LayoutView",
      "align_content": null,
      "align_items": null,
      "align_self": null,
      "border": null,
      "bottom": null,
      "display": null,
      "flex": null,
      "flex_flow": null,
      "grid_area": null,
      "grid_auto_columns": null,
      "grid_auto_flow": null,
      "grid_auto_rows": null,
      "grid_column": null,
      "grid_gap": null,
      "grid_row": null,
      "grid_template_areas": null,
      "grid_template_columns": null,
      "grid_template_rows": null,
      "height": null,
      "justify_content": null,
      "justify_items": null,
      "left": null,
      "margin": null,
      "max_height": null,
      "max_width": null,
      "min_height": null,
      "min_width": null,
      "object_fit": null,
      "object_position": null,
      "order": null,
      "overflow": null,
      "overflow_x": null,
      "overflow_y": null,
      "padding": null,
      "right": null,
      "top": null,
      "visibility": null,
      "width": null
     }
    }
   }
  }
 },
 "nbformat": 4,
 "nbformat_minor": 0
}
